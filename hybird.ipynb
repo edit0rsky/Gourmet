{
 "cells": [
  {
   "cell_type": "code",
   "execution_count": 2,
   "id": "f9cc8661",
   "metadata": {},
   "outputs": [
    {
     "name": "stdout",
     "output_type": "stream",
     "text": [
      "[Info] Generating hybrid recommendations...\n"
     ]
    },
    {
     "name": "stderr",
     "output_type": "stream",
     "text": [
      "Generating for users:  11%|█         | 3192/28518 [02:39<21:03, 20.04it/s]\n"
     ]
    },
    {
     "ename": "KeyboardInterrupt",
     "evalue": "",
     "output_type": "error",
     "traceback": [
      "\u001b[31m---------------------------------------------------------------------------\u001b[39m",
      "\u001b[31mKeyboardInterrupt\u001b[39m                         Traceback (most recent call last)",
      "\u001b[36mCell\u001b[39m\u001b[36m \u001b[39m\u001b[32mIn[2]\u001b[39m\u001b[32m, line 84\u001b[39m\n\u001b[32m     81\u001b[39m     \u001b[38;5;28;01mreturn\u001b[39;00m recommendations\n\u001b[32m     83\u001b[39m \u001b[38;5;66;03m# 6. 실행\u001b[39;00m\n\u001b[32m---> \u001b[39m\u001b[32m84\u001b[39m hybrid_recs = \u001b[43mhybrid_recommendations\u001b[49m\u001b[43m(\u001b[49m\u001b[43msvd\u001b[49m\u001b[43m,\u001b[49m\u001b[43m \u001b[49m\u001b[43muser_embed\u001b[49m\u001b[43m,\u001b[49m\u001b[43m \u001b[49m\u001b[43mbiz_embed\u001b[49m\u001b[43m,\u001b[49m\u001b[43m \u001b[49m\u001b[43mtrain_ratings\u001b[49m\u001b[43m,\u001b[49m\u001b[43m \u001b[49m\u001b[43mtop_n\u001b[49m\u001b[43m=\u001b[49m\u001b[32;43m5\u001b[39;49m\u001b[43m,\u001b[49m\u001b[43m \u001b[49m\u001b[43malpha\u001b[49m\u001b[43m=\u001b[49m\u001b[32;43m0.7\u001b[39;49m\u001b[43m)\u001b[49m\n\u001b[32m     86\u001b[39m \u001b[38;5;66;03m# 7. 결과 예시 출력\u001b[39;00m\n\u001b[32m     87\u001b[39m \u001b[38;5;28;01mfor\u001b[39;00m uid, recs \u001b[38;5;129;01min\u001b[39;00m \u001b[38;5;28mlist\u001b[39m(hybrid_recs.items())[:\u001b[32m5\u001b[39m]:\n",
      "\u001b[36mCell\u001b[39m\u001b[36m \u001b[39m\u001b[32mIn[2]\u001b[39m\u001b[32m, line 74\u001b[39m, in \u001b[36mhybrid_recommendations\u001b[39m\u001b[34m(svd_model, user_embed, biz_embed, train_ratings, top_n, alpha)\u001b[39m\n\u001b[32m     72\u001b[39m \u001b[38;5;28;01mif\u001b[39;00m b \u001b[38;5;129;01min\u001b[39;00m user_seen[u] \u001b[38;5;129;01mor\u001b[39;00m b \u001b[38;5;129;01mnot\u001b[39;00m \u001b[38;5;129;01min\u001b[39;00m norm_biz_embed:\n\u001b[32m     73\u001b[39m     \u001b[38;5;28;01mcontinue\u001b[39;00m\n\u001b[32m---> \u001b[39m\u001b[32m74\u001b[39m svd_score = \u001b[43msvd_model\u001b[49m\u001b[43m.\u001b[49m\u001b[43mpredict\u001b[49m\u001b[43m(\u001b[49m\u001b[43mu\u001b[49m\u001b[43m,\u001b[49m\u001b[43m \u001b[49m\u001b[43mb\u001b[49m\u001b[43m)\u001b[49m.est\n\u001b[32m     75\u001b[39m content_score = np.dot(norm_user_embed[u], norm_biz_embed[b])\n\u001b[32m     76\u001b[39m hybrid_score = alpha * svd_score + (\u001b[32m1\u001b[39m - alpha) * content_score\n",
      "\u001b[36mFile \u001b[39m\u001b[32mc:\\Users\\82104\\anaconda3\\envs\\absa-env\\Lib\\site-packages\\surprise\\prediction_algorithms\\algo_base.py:102\u001b[39m, in \u001b[36mAlgoBase.predict\u001b[39m\u001b[34m(self, uid, iid, r_ui, clip, verbose)\u001b[39m\n\u001b[32m    100\u001b[39m details = {}\n\u001b[32m    101\u001b[39m \u001b[38;5;28;01mtry\u001b[39;00m:\n\u001b[32m--> \u001b[39m\u001b[32m102\u001b[39m     est = \u001b[38;5;28;43mself\u001b[39;49m\u001b[43m.\u001b[49m\u001b[43mestimate\u001b[49m\u001b[43m(\u001b[49m\u001b[43miuid\u001b[49m\u001b[43m,\u001b[49m\u001b[43m \u001b[49m\u001b[43miiid\u001b[49m\u001b[43m)\u001b[49m\n\u001b[32m    104\u001b[39m     \u001b[38;5;66;03m# If the details dict was also returned\u001b[39;00m\n\u001b[32m    105\u001b[39m     \u001b[38;5;28;01mif\u001b[39;00m \u001b[38;5;28misinstance\u001b[39m(est, \u001b[38;5;28mtuple\u001b[39m):\n",
      "\u001b[36mFile \u001b[39m\u001b[32mc:\\Users\\82104\\anaconda3\\envs\\absa-env\\Lib\\site-packages\\surprise\\prediction_algorithms\\matrix_factorization.pyx:269\u001b[39m, in \u001b[36msurprise.prediction_algorithms.matrix_factorization.SVD.estimate\u001b[39m\u001b[34m()\u001b[39m\n",
      "\u001b[36mFile \u001b[39m\u001b[32m<__array_function__ internals>:200\u001b[39m, in \u001b[36mdot\u001b[39m\u001b[34m(*args, **kwargs)\u001b[39m\n",
      "\u001b[31mKeyboardInterrupt\u001b[39m: "
     ]
    }
   ],
   "source": [
    "import json\n",
    "import numpy as np\n",
    "import pandas as pd\n",
    "from collections import defaultdict\n",
    "from surprise import Dataset, Reader, SVD\n",
    "from sklearn.preprocessing import normalize\n",
    "from tqdm import tqdm\n",
    "\n",
    "# 경로 설정\n",
    "train_file = \"train_80.json\"\n",
    "test_file = \"test_20.json\"\n",
    "\n",
    "# 1. 감성 벡터 포함된 리뷰 로드\n",
    "def load_reviews_with_vectors(path):\n",
    "    data = []\n",
    "    with open(path, encoding=\"utf-8\") as f:\n",
    "        for line in f:\n",
    "            obj = json.loads(line)\n",
    "            obj[\"vector\"] = np.array(obj[\"sentiment_vector\"])\n",
    "            data.append(obj)\n",
    "    return data\n",
    "\n",
    "# 2. 평점만 추출\n",
    "def extract_ratings(data):\n",
    "    return [(d[\"user_id\"], d[\"business_id\"], d[\"stars\"]) for d in data]\n",
    "\n",
    "train_reviews = load_reviews_with_vectors(train_file)\n",
    "test_reviews = load_reviews_with_vectors(test_file)\n",
    "\n",
    "train_ratings = extract_ratings(train_reviews)\n",
    "test_ratings = extract_ratings(test_reviews)\n",
    "\n",
    "# 3. SVD 모델 학습\n",
    "reader = Reader(rating_scale=(1, 5))\n",
    "train_df = pd.DataFrame(train_ratings, columns=[\"user_id\", \"business_id\", \"stars\"])\n",
    "train_dataset = Dataset.load_from_df(train_df, reader)\n",
    "trainset = train_dataset.build_full_trainset()\n",
    "\n",
    "svd = SVD(n_factors=20)\n",
    "svd.fit(trainset)\n",
    "\n",
    "# 4. 감성 벡터 임베딩 계산\n",
    "user_vecs = defaultdict(list)\n",
    "biz_vecs = defaultdict(list)\n",
    "\n",
    "for r in train_reviews:\n",
    "    user_vecs[r[\"user_id\"]].append(r[\"vector\"])\n",
    "    biz_vecs[r[\"business_id\"]].append(r[\"vector\"])\n",
    "\n",
    "user_embed = {u: np.mean(vs, axis=0) for u, vs in user_vecs.items()}\n",
    "biz_embed = {b: np.mean(vs, axis=0) for b, vs in biz_vecs.items()}\n",
    "\n",
    "# 5. 하이브리드 추천 함수\n",
    "def hybrid_recommendations(svd_model, user_embed, biz_embed, train_ratings, top_n=5, alpha=0.7):\n",
    "    print(\"[Info] Generating hybrid recommendations...\")\n",
    "    recommendations = {}\n",
    "    user_ids = list(user_embed.keys())\n",
    "    biz_ids = list(biz_embed.keys())\n",
    "\n",
    "    norm_user_embed = {u: v / np.linalg.norm(v) for u, v in user_embed.items()}\n",
    "    norm_biz_embed = {b: v / np.linalg.norm(v) for b, v in biz_embed.items()}\n",
    "\n",
    "    user_seen = defaultdict(set)\n",
    "    for u, b, _ in train_ratings:\n",
    "        user_seen[u].add(b)\n",
    "\n",
    "    for u in tqdm(user_ids, desc=\"Generating for users\"):\n",
    "        if u not in norm_user_embed:\n",
    "            continue\n",
    "        scores = []\n",
    "        for b in biz_ids:\n",
    "            if b in user_seen[u] or b not in norm_biz_embed:\n",
    "                continue\n",
    "            svd_score = svd_model.predict(u, b).est\n",
    "            content_score = np.dot(norm_user_embed[u], norm_biz_embed[b])\n",
    "            hybrid_score = alpha * svd_score + (1 - alpha) * content_score\n",
    "            scores.append((b, hybrid_score))\n",
    "        ranked = sorted(scores, key=lambda x: x[1], reverse=True)[:top_n]\n",
    "        recommendations[u] = ranked\n",
    "    print(\"[Done] Recommendation generation complete.\")\n",
    "    return recommendations\n",
    "\n",
    "# 6. 실행\n",
    "hybrid_recs = hybrid_recommendations(svd, user_embed, biz_embed, train_ratings, top_n=5, alpha=0.7)\n",
    "\n",
    "# 7. 결과 예시 출력\n",
    "for uid, recs in list(hybrid_recs.items())[:5]:\n",
    "    print(f\"\\nUser: {uid}\")\n",
    "    for bid, score in recs:\n",
    "        print(f\"  Recommend: {bid} (Hybrid Score: {score:.4f})\")\n"
   ]
  }
 ],
 "metadata": {
  "kernelspec": {
   "display_name": "absa-env",
   "language": "python",
   "name": "python3"
  },
  "language_info": {
   "codemirror_mode": {
    "name": "ipython",
    "version": 3
   },
   "file_extension": ".py",
   "mimetype": "text/x-python",
   "name": "python",
   "nbconvert_exporter": "python",
   "pygments_lexer": "ipython3",
   "version": "3.11.11"
  }
 },
 "nbformat": 4,
 "nbformat_minor": 5
}
