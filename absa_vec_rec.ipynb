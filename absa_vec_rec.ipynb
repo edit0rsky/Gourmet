{
 "cells": [
  {
   "cell_type": "code",
   "execution_count": 7,
   "id": "e5d363a3",
   "metadata": {},
   "outputs": [],
   "source": [
    "import json\n",
    "import numpy as np\n",
    "from collections import defaultdict\n",
    "from sklearn.preprocessing import normalize\n",
    "from tqdm import tqdm"
   ]
  },
  {
   "cell_type": "markdown",
   "id": "fb17bfc1",
   "metadata": {},
   "source": [
    "### JSONL 파일에서 리뷰 로드"
   ]
  },
  {
   "cell_type": "code",
   "execution_count": 8,
   "id": "17799ce6",
   "metadata": {},
   "outputs": [],
   "source": [
    "file_path = \"absa_mock_reviews_1000.json\"\n",
    "all_reviews = []\n",
    "\n",
    "with open(file_path, \"r\", encoding=\"utf-8\") as f:\n",
    "    for line in f:\n",
    "        obj = json.loads(line)\n",
    "        obj[\"vector\"] = np.array(obj[\"vector\"])\n",
    "        all_reviews.append(obj)"
   ]
  },
  {
   "cell_type": "markdown",
   "id": "ab0bc35f",
   "metadata": {},
   "source": [
    "### 유저 / 식당 벡터 누적"
   ]
  },
  {
   "cell_type": "code",
   "execution_count": 9,
   "id": "4cdc85e6",
   "metadata": {},
   "outputs": [],
   "source": [
    "\n",
    "user_vecs = defaultdict(list)\n",
    "biz_vecs = defaultdict(list)\n",
    "\n",
    "for r in all_reviews:\n",
    "    uid = r[\"user_id\"]\n",
    "    bid = r[\"business_id\"]\n",
    "    vec = r[\"vector\"]\n",
    "    user_vecs[uid].append(vec)\n",
    "    biz_vecs[bid].append(vec)"
   ]
  },
  {
   "cell_type": "markdown",
   "id": "74213969",
   "metadata": {},
   "source": [
    "### 평균 벡터 계산"
   ]
  },
  {
   "cell_type": "code",
   "execution_count": 10,
   "id": "0afc0ce8",
   "metadata": {},
   "outputs": [],
   "source": [
    "user_embed = {uid: np.mean(vecs, axis=0) for uid, vecs in user_vecs.items()}\n",
    "biz_embed  = {bid: np.mean(vecs, axis=0) for bid, vecs in biz_vecs.items()}"
   ]
  },
  {
   "cell_type": "markdown",
   "id": "525bb0cc",
   "metadata": {},
   "source": [
    "### 벡터 정규화"
   ]
  },
  {
   "cell_type": "code",
   "execution_count": 11,
   "id": "3d50d9ab",
   "metadata": {},
   "outputs": [],
   "source": [
    "user_matrix = normalize(np.stack(list(user_embed.values())))\n",
    "biz_matrix  = normalize(np.stack(list(biz_embed.values())))\n",
    "\n",
    "user_ids = list(user_embed.keys())\n",
    "biz_ids  = list(biz_embed.keys())"
   ]
  },
  {
   "cell_type": "markdown",
   "id": "91483bae",
   "metadata": {},
   "source": [
    "### 코사인 유사도 계산 (dot product)"
   ]
  },
  {
   "cell_type": "code",
   "execution_count": 12,
   "id": "e98614b6",
   "metadata": {},
   "outputs": [],
   "source": [
    "scores = np.dot(user_matrix, biz_matrix.T)"
   ]
  },
  {
   "cell_type": "markdown",
   "id": "dc773f7e",
   "metadata": {},
   "source": [
    "### 유저별 방문한 식당 기록"
   ]
  },
  {
   "cell_type": "code",
   "execution_count": 13,
   "id": "5e2f5a48",
   "metadata": {},
   "outputs": [],
   "source": [
    "user2biz_seen = defaultdict(set)\n",
    "for r in all_reviews:\n",
    "    user2biz_seen[r[\"user_id\"]].add(r[\"business_id\"])"
   ]
  },
  {
   "cell_type": "markdown",
   "id": "aafded34",
   "metadata": {},
   "source": [
    "### 추천 생성 (미방문 식당 Top-N)"
   ]
  },
  {
   "cell_type": "code",
   "execution_count": 14,
   "id": "73518c42",
   "metadata": {},
   "outputs": [],
   "source": [
    "TOP_N = 10\n",
    "recommendations = {}\n",
    "\n",
    "for i, uid in enumerate(user_ids):\n",
    "    user_score = scores[i]\n",
    "    ranked_idx = np.argsort(user_score)[::-1]\n",
    "    rec_biz = []\n",
    "    for j in ranked_idx:\n",
    "        bid = biz_ids[j]\n",
    "        if bid not in user2biz_seen[uid]:\n",
    "            rec_biz.append(bid)\n",
    "        if len(rec_biz) == TOP_N:\n",
    "            break\n",
    "    recommendations[uid] = rec_biz"
   ]
  },
  {
   "cell_type": "markdown",
   "id": "bfe3d053",
   "metadata": {},
   "source": [
    "### 상위 5개 유저 추천 결과 출력"
   ]
  },
  {
   "cell_type": "code",
   "execution_count": 15,
   "id": "f0d03fa7",
   "metadata": {},
   "outputs": [
    {
     "name": "stdout",
     "output_type": "stream",
     "text": [
      "U0033 → ['B0005', 'B0028', 'B0002', 'B0033', 'B0031', 'B0035', 'B0042', 'B0034', 'B0020', 'B0045']\n",
      "U0063 → ['B0042', 'B0005', 'B0047', 'B0044', 'B0016', 'B0009', 'B0034', 'B0020', 'B0018', 'B0015']\n",
      "U0072 → ['B0049', 'B0002', 'B0005', 'B0003', 'B0042', 'B0039', 'B0032', 'B0044', 'B0015', 'B0034']\n",
      "U0099 → ['B0050', 'B0039', 'B0015', 'B0046', 'B0003', 'B0029', 'B0043', 'B0026', 'B0035', 'B0007']\n",
      "U0076 → ['B0032', 'B0041', 'B0047', 'B0042', 'B0044', 'B0016', 'B0023', 'B0039', 'B0029', 'B0009']\n"
     ]
    }
   ],
   "source": [
    "for uid in list(recommendations.keys())[:5]:\n",
    "    print(f\"{uid} → {recommendations[uid]}\")"
   ]
  }
 ],
 "metadata": {
  "kernelspec": {
   "display_name": "base",
   "language": "python",
   "name": "python3"
  },
  "language_info": {
   "codemirror_mode": {
    "name": "ipython",
    "version": 3
   },
   "file_extension": ".py",
   "mimetype": "text/x-python",
   "name": "python",
   "nbconvert_exporter": "python",
   "pygments_lexer": "ipython3",
   "version": "3.11.7"
  }
 },
 "nbformat": 4,
 "nbformat_minor": 5
}
