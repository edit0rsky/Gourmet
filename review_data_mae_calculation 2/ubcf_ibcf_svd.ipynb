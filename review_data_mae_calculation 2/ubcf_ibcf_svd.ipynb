{
 "cells": [
  {
   "cell_type": "code",
   "execution_count": 2,
   "id": "43874a86",
   "metadata": {},
   "outputs": [],
   "source": [
    "import json\n",
    "import pandas as pd\n",
    "import matplotlib.pyplot as plt\n",
    "from surprise import Dataset, Reader, KNNBasic, SVD\n",
    "from surprise import accuracy\n",
    "from tqdm import tqdm\n",
    "from surprise.model_selection import train_test_split\n",
    "\n",
    "# 1. 데이터 로드 함수\n",
    "def load_data(filename):\n",
    "    data = []\n",
    "    with open(filename, 'r', encoding='utf-8') as f:\n",
    "        for line in f:\n",
    "            review = json.loads(line.strip())\n",
    "            data.append((review['user_id'], review['business_id'], review['stars']))\n",
    "    return data\n",
    "\n",
    "# 2. 데이터 로드\n",
    "train_data = load_data(\"train_data.json\")\n",
    "proposal_data = load_data(\"review_deberta.json\")\n",
    "\n",
    "# 3. DataFrame 변환\n",
    "reader = Reader(rating_scale=(1, 5))\n",
    "train_df = pd.DataFrame(train_data, columns=[\"user_id\", \"business_id\", \"stars\"])\n",
    "proposal_df = pd.DataFrame(proposal_data, columns=[\"user_id\", \"business_id\", \"stars\"])\n",
    "\n",
    "data_existing = Dataset.load_from_df(train_df, reader)\n",
    "data_proposal = Dataset.load_from_df(proposal_df, reader)\n",
    "\n",
    "# 4. train_test_split을 사용하여 학습용 데이터와 테스트용 데이터로 분할\n",
    "trainset_existing, testset_existing = train_test_split(data_existing, test_size=0.2, random_state=42)\n",
    "trainset_proposal, testset_proposal = train_test_split(data_proposal, test_size=0.2, random_state=42)\n",
    "\n",
    "# 5. 실험 파라미터\n",
    "k_list = [1, 2, 3, 4, 5, 10, 15, 20, 25, 30, 40, 50, 60, 80, 100]\n",
    "results = {\"UBCF\": {\"existing\": [], \"proposal\": []},\n",
    "           \"IBCF\": {\"existing\": [], \"proposal\": []},\n",
    "           \"SVD\":  {\"existing\": [], \"proposal\": []}}\n"
   ]
  },
  {
   "cell_type": "code",
   "execution_count": 3,
   "id": "a4430ee5",
   "metadata": {},
   "outputs": [
    {
     "name": "stderr",
     "output_type": "stream",
     "text": [
      "UBCF:   0%|          | 0/15 [00:00<?, ?it/s]"
     ]
    },
    {
     "name": "stdout",
     "output_type": "stream",
     "text": [
      "Computing the cosine similarity matrix...\n",
      "Done computing similarity matrix.\n",
      "Computing the cosine similarity matrix...\n",
      "Done computing similarity matrix.\n"
     ]
    },
    {
     "name": "stderr",
     "output_type": "stream",
     "text": [
      "UBCF:   7%|▋         | 1/15 [01:54<26:44, 114.63s/it]"
     ]
    },
    {
     "name": "stdout",
     "output_type": "stream",
     "text": [
      "Computing the cosine similarity matrix...\n",
      "Done computing similarity matrix.\n",
      "Computing the cosine similarity matrix...\n",
      "Done computing similarity matrix.\n"
     ]
    },
    {
     "name": "stderr",
     "output_type": "stream",
     "text": [
      "UBCF:  13%|█▎        | 2/15 [03:44<24:15, 111.96s/it]"
     ]
    },
    {
     "name": "stdout",
     "output_type": "stream",
     "text": [
      "Computing the cosine similarity matrix...\n",
      "Done computing similarity matrix.\n",
      "Computing the cosine similarity matrix...\n",
      "Done computing similarity matrix.\n"
     ]
    },
    {
     "name": "stderr",
     "output_type": "stream",
     "text": [
      "UBCF:  20%|██        | 3/15 [05:33<22:06, 110.58s/it]"
     ]
    },
    {
     "name": "stdout",
     "output_type": "stream",
     "text": [
      "Computing the cosine similarity matrix...\n",
      "Done computing similarity matrix.\n",
      "Computing the cosine similarity matrix...\n",
      "Done computing similarity matrix.\n"
     ]
    },
    {
     "name": "stderr",
     "output_type": "stream",
     "text": [
      "UBCF:  27%|██▋       | 4/15 [07:24<20:15, 110.51s/it]"
     ]
    },
    {
     "name": "stdout",
     "output_type": "stream",
     "text": [
      "Computing the cosine similarity matrix...\n",
      "Done computing similarity matrix.\n",
      "Computing the cosine similarity matrix...\n",
      "Done computing similarity matrix.\n"
     ]
    },
    {
     "name": "stderr",
     "output_type": "stream",
     "text": [
      "UBCF:  33%|███▎      | 5/15 [09:17<18:34, 111.41s/it]"
     ]
    },
    {
     "name": "stdout",
     "output_type": "stream",
     "text": [
      "Computing the cosine similarity matrix...\n",
      "Done computing similarity matrix.\n",
      "Computing the cosine similarity matrix...\n",
      "Done computing similarity matrix.\n"
     ]
    },
    {
     "name": "stderr",
     "output_type": "stream",
     "text": [
      "UBCF:  40%|████      | 6/15 [10:52<15:55, 106.14s/it]"
     ]
    },
    {
     "name": "stdout",
     "output_type": "stream",
     "text": [
      "Computing the cosine similarity matrix...\n",
      "Done computing similarity matrix.\n",
      "Computing the cosine similarity matrix...\n",
      "Done computing similarity matrix.\n"
     ]
    },
    {
     "name": "stderr",
     "output_type": "stream",
     "text": [
      "UBCF:  47%|████▋     | 7/15 [12:47<14:29, 108.74s/it]"
     ]
    },
    {
     "name": "stdout",
     "output_type": "stream",
     "text": [
      "Computing the cosine similarity matrix...\n",
      "Done computing similarity matrix.\n",
      "Computing the cosine similarity matrix...\n",
      "Done computing similarity matrix.\n"
     ]
    },
    {
     "name": "stderr",
     "output_type": "stream",
     "text": [
      "UBCF:  53%|█████▎    | 8/15 [14:41<12:54, 110.59s/it]"
     ]
    },
    {
     "name": "stdout",
     "output_type": "stream",
     "text": [
      "Computing the cosine similarity matrix...\n",
      "Done computing similarity matrix.\n",
      "Computing the cosine similarity matrix...\n",
      "Done computing similarity matrix.\n"
     ]
    },
    {
     "name": "stderr",
     "output_type": "stream",
     "text": [
      "UBCF:  60%|██████    | 9/15 [16:36<11:11, 111.90s/it]"
     ]
    },
    {
     "name": "stdout",
     "output_type": "stream",
     "text": [
      "Computing the cosine similarity matrix...\n",
      "Done computing similarity matrix.\n",
      "Computing the cosine similarity matrix...\n",
      "Done computing similarity matrix.\n"
     ]
    },
    {
     "name": "stderr",
     "output_type": "stream",
     "text": [
      "UBCF:  67%|██████▋   | 10/15 [18:34<09:29, 113.87s/it]"
     ]
    },
    {
     "name": "stdout",
     "output_type": "stream",
     "text": [
      "Computing the cosine similarity matrix...\n",
      "Done computing similarity matrix.\n",
      "Computing the cosine similarity matrix...\n",
      "Done computing similarity matrix.\n"
     ]
    },
    {
     "name": "stderr",
     "output_type": "stream",
     "text": [
      "UBCF:  73%|███████▎  | 11/15 [20:32<07:40, 115.18s/it]"
     ]
    },
    {
     "name": "stdout",
     "output_type": "stream",
     "text": [
      "Computing the cosine similarity matrix...\n",
      "Done computing similarity matrix.\n",
      "Computing the cosine similarity matrix...\n",
      "Done computing similarity matrix.\n"
     ]
    },
    {
     "name": "stderr",
     "output_type": "stream",
     "text": [
      "UBCF:  80%|████████  | 12/15 [22:18<05:36, 112.28s/it]"
     ]
    },
    {
     "name": "stdout",
     "output_type": "stream",
     "text": [
      "Computing the cosine similarity matrix...\n",
      "Done computing similarity matrix.\n",
      "Computing the cosine similarity matrix...\n",
      "Done computing similarity matrix.\n"
     ]
    },
    {
     "name": "stderr",
     "output_type": "stream",
     "text": [
      "UBCF:  87%|████████▋ | 13/15 [24:01<03:38, 109.37s/it]"
     ]
    },
    {
     "name": "stdout",
     "output_type": "stream",
     "text": [
      "Computing the cosine similarity matrix...\n",
      "Done computing similarity matrix.\n",
      "Computing the cosine similarity matrix...\n",
      "Done computing similarity matrix.\n"
     ]
    },
    {
     "name": "stderr",
     "output_type": "stream",
     "text": [
      "UBCF:  93%|█████████▎| 14/15 [25:52<01:50, 110.07s/it]"
     ]
    },
    {
     "name": "stdout",
     "output_type": "stream",
     "text": [
      "Computing the cosine similarity matrix...\n",
      "Done computing similarity matrix.\n",
      "Computing the cosine similarity matrix...\n",
      "Done computing similarity matrix.\n"
     ]
    },
    {
     "name": "stderr",
     "output_type": "stream",
     "text": [
      "UBCF: 100%|██████████| 15/15 [27:44<00:00, 110.99s/it]\n"
     ]
    }
   ],
   "source": [
    "# 6. UBCF\n",
    "for k in tqdm(k_list, desc=\"UBCF\"):\n",
    "    model = KNNBasic(k=k, sim_options={\"name\": \"cosine\", \"user_based\": True})\n",
    "    model.fit(trainset_existing)\n",
    "    mae_exist = accuracy.mae(model.test(testset_existing), verbose=False)\n",
    "    model.fit(trainset_proposal)\n",
    "    mae_prop = accuracy.mae(model.test(testset_proposal), verbose=False)\n",
    "    results[\"UBCF\"][\"existing\"].append(mae_exist)\n",
    "    results[\"UBCF\"][\"proposal\"].append(mae_prop)\n"
   ]
  },
  {
   "cell_type": "code",
   "execution_count": 4,
   "id": "d600f0fa",
   "metadata": {},
   "outputs": [
    {
     "name": "stderr",
     "output_type": "stream",
     "text": [
      "IBCF:   0%|          | 0/15 [00:00<?, ?it/s]"
     ]
    },
    {
     "name": "stdout",
     "output_type": "stream",
     "text": [
      "Computing the cosine similarity matrix...\n",
      "Done computing similarity matrix.\n",
      "Computing the cosine similarity matrix...\n",
      "Done computing similarity matrix.\n"
     ]
    },
    {
     "name": "stderr",
     "output_type": "stream",
     "text": [
      "IBCF:   7%|▋         | 1/15 [00:02<00:41,  2.97s/it]"
     ]
    },
    {
     "name": "stdout",
     "output_type": "stream",
     "text": [
      "Computing the cosine similarity matrix...\n",
      "Done computing similarity matrix.\n",
      "Computing the cosine similarity matrix...\n",
      "Done computing similarity matrix.\n"
     ]
    },
    {
     "name": "stderr",
     "output_type": "stream",
     "text": [
      "IBCF:  13%|█▎        | 2/15 [00:06<00:39,  3.05s/it]"
     ]
    },
    {
     "name": "stdout",
     "output_type": "stream",
     "text": [
      "Computing the cosine similarity matrix...\n",
      "Done computing similarity matrix.\n",
      "Computing the cosine similarity matrix...\n",
      "Done computing similarity matrix.\n"
     ]
    },
    {
     "name": "stderr",
     "output_type": "stream",
     "text": [
      "IBCF:  20%|██        | 3/15 [00:09<00:36,  3.04s/it]"
     ]
    },
    {
     "name": "stdout",
     "output_type": "stream",
     "text": [
      "Computing the cosine similarity matrix...\n",
      "Done computing similarity matrix.\n",
      "Computing the cosine similarity matrix...\n",
      "Done computing similarity matrix.\n"
     ]
    },
    {
     "name": "stderr",
     "output_type": "stream",
     "text": [
      "IBCF:  27%|██▋       | 4/15 [00:12<00:33,  3.03s/it]"
     ]
    },
    {
     "name": "stdout",
     "output_type": "stream",
     "text": [
      "Computing the cosine similarity matrix...\n",
      "Done computing similarity matrix.\n",
      "Computing the cosine similarity matrix...\n",
      "Done computing similarity matrix.\n"
     ]
    },
    {
     "name": "stderr",
     "output_type": "stream",
     "text": [
      "IBCF:  33%|███▎      | 5/15 [00:15<00:31,  3.13s/it]"
     ]
    },
    {
     "name": "stdout",
     "output_type": "stream",
     "text": [
      "Computing the cosine similarity matrix...\n",
      "Done computing similarity matrix.\n",
      "Computing the cosine similarity matrix...\n",
      "Done computing similarity matrix.\n"
     ]
    },
    {
     "name": "stderr",
     "output_type": "stream",
     "text": [
      "IBCF:  40%|████      | 6/15 [00:18<00:28,  3.13s/it]"
     ]
    },
    {
     "name": "stdout",
     "output_type": "stream",
     "text": [
      "Computing the cosine similarity matrix...\n",
      "Done computing similarity matrix.\n",
      "Computing the cosine similarity matrix...\n",
      "Done computing similarity matrix.\n"
     ]
    },
    {
     "name": "stderr",
     "output_type": "stream",
     "text": [
      "IBCF:  47%|████▋     | 7/15 [00:22<00:26,  3.26s/it]"
     ]
    },
    {
     "name": "stdout",
     "output_type": "stream",
     "text": [
      "Computing the cosine similarity matrix...\n",
      "Done computing similarity matrix.\n",
      "Computing the cosine similarity matrix...\n",
      "Done computing similarity matrix.\n"
     ]
    },
    {
     "name": "stderr",
     "output_type": "stream",
     "text": [
      "IBCF:  53%|█████▎    | 8/15 [00:25<00:23,  3.33s/it]"
     ]
    },
    {
     "name": "stdout",
     "output_type": "stream",
     "text": [
      "Computing the cosine similarity matrix...\n",
      "Done computing similarity matrix.\n",
      "Computing the cosine similarity matrix...\n",
      "Done computing similarity matrix.\n"
     ]
    },
    {
     "name": "stderr",
     "output_type": "stream",
     "text": [
      "IBCF:  60%|██████    | 9/15 [00:29<00:20,  3.43s/it]"
     ]
    },
    {
     "name": "stdout",
     "output_type": "stream",
     "text": [
      "Computing the cosine similarity matrix...\n",
      "Done computing similarity matrix.\n",
      "Computing the cosine similarity matrix...\n",
      "Done computing similarity matrix.\n"
     ]
    },
    {
     "name": "stderr",
     "output_type": "stream",
     "text": [
      "IBCF:  67%|██████▋   | 10/15 [00:32<00:17,  3.51s/it]"
     ]
    },
    {
     "name": "stdout",
     "output_type": "stream",
     "text": [
      "Computing the cosine similarity matrix...\n",
      "Done computing similarity matrix.\n",
      "Computing the cosine similarity matrix...\n",
      "Done computing similarity matrix.\n"
     ]
    },
    {
     "name": "stderr",
     "output_type": "stream",
     "text": [
      "IBCF:  73%|███████▎  | 11/15 [00:36<00:14,  3.57s/it]"
     ]
    },
    {
     "name": "stdout",
     "output_type": "stream",
     "text": [
      "Computing the cosine similarity matrix...\n",
      "Done computing similarity matrix.\n",
      "Computing the cosine similarity matrix...\n",
      "Done computing similarity matrix.\n"
     ]
    },
    {
     "name": "stderr",
     "output_type": "stream",
     "text": [
      "IBCF:  80%|████████  | 12/15 [00:40<00:11,  3.73s/it]"
     ]
    },
    {
     "name": "stdout",
     "output_type": "stream",
     "text": [
      "Computing the cosine similarity matrix...\n",
      "Done computing similarity matrix.\n",
      "Computing the cosine similarity matrix...\n",
      "Done computing similarity matrix.\n"
     ]
    },
    {
     "name": "stderr",
     "output_type": "stream",
     "text": [
      "IBCF:  87%|████████▋ | 13/15 [00:44<00:07,  3.78s/it]"
     ]
    },
    {
     "name": "stdout",
     "output_type": "stream",
     "text": [
      "Computing the cosine similarity matrix...\n",
      "Done computing similarity matrix.\n",
      "Computing the cosine similarity matrix...\n",
      "Done computing similarity matrix.\n"
     ]
    },
    {
     "name": "stderr",
     "output_type": "stream",
     "text": [
      "IBCF:  93%|█████████▎| 14/15 [00:48<00:03,  3.90s/it]"
     ]
    },
    {
     "name": "stdout",
     "output_type": "stream",
     "text": [
      "Computing the cosine similarity matrix...\n",
      "Done computing similarity matrix.\n",
      "Computing the cosine similarity matrix...\n",
      "Done computing similarity matrix.\n"
     ]
    },
    {
     "name": "stderr",
     "output_type": "stream",
     "text": [
      "IBCF: 100%|██████████| 15/15 [00:52<00:00,  3.53s/it]\n"
     ]
    }
   ],
   "source": [
    "# 7. IBCF\n",
    "for k in tqdm(k_list, desc=\"IBCF\"):\n",
    "    model = KNNBasic(k=k, sim_options={\"name\": \"cosine\", \"user_based\": False})\n",
    "    model.fit(trainset_existing)\n",
    "    mae_exist = accuracy.mae(model.test(testset_existing), verbose=False)\n",
    "    model.fit(trainset_proposal)\n",
    "    mae_prop = accuracy.mae(model.test(testset_proposal), verbose=False)\n",
    "    results[\"IBCF\"][\"existing\"].append(mae_exist)\n",
    "    results[\"IBCF\"][\"proposal\"].append(mae_prop)"
   ]
  },
  {
   "cell_type": "code",
   "execution_count": 5,
   "id": "83c28d2c",
   "metadata": {},
   "outputs": [
    {
     "name": "stderr",
     "output_type": "stream",
     "text": [
      "SVD: 100%|██████████| 15/15 [00:42<00:00,  2.86s/it]\n"
     ]
    }
   ],
   "source": [
    "# 8. SVD\n",
    "for k in tqdm(k_list, desc=\"SVD\"):\n",
    "    model = SVD(n_factors=k)\n",
    "    model.fit(trainset_existing)\n",
    "    mae_exist = accuracy.mae(model.test(testset_existing), verbose=False)\n",
    "    model.fit(trainset_proposal)\n",
    "    mae_prop = accuracy.mae(model.test(testset_proposal), verbose=False)\n",
    "    results[\"SVD\"][\"existing\"].append(mae_exist)\n",
    "    results[\"SVD\"][\"proposal\"].append(mae_prop)"
   ]
  },
  {
   "cell_type": "code",
   "execution_count": 6,
   "id": "89145ce5",
   "metadata": {},
   "outputs": [
    {
     "data": {
      "image/png": "[encoded data removed]",
      "text/plain": [
       "<Figure size 1800x500 with 3 Axes>"
      ]
     },
     "metadata": {},
     "output_type": "display_data"
    }
   ],
   "source": [
    "import matplotlib.pyplot as plt\n",
    "import matplotlib as mpl\n",
    "import numpy as np\n",
    "\n",
    "mpl.rcParams[\"font.family\"] = \"Times New Roman\"\n",
    "\n",
    "fig, axes = plt.subplots(1, 3, figsize=(18, 5))  # sharey=False\n",
    "\n",
    "models = [\"UBCF\", \"IBCF\", \"SVD\"]\n",
    "x_pos = list(range(len(k_list)))\n",
    "x_labels = k_list\n",
    "\n",
    "for i, model in enumerate(models):\n",
    "    y_exist = results[model][\"existing\"]\n",
    "    y_prop = results[model][\"proposal\"]\n",
    "    axes[i].set_title(f\"{model}\", fontsize=14)\n",
    "    axes[i].set_facecolor(\"white\") \n",
    "\n",
    "    axes[i].plot(x_pos, y_exist, label=\"Existing\", linestyle=\"-\", marker=\"s\", color=\"black\")\n",
    "    axes[i].plot(x_pos, y_prop, label=\"Proposal\", linestyle=\"--\", marker=\"^\", color=\"black\")\n",
    "\n",
    "    x_label = \"Number of Neighbors\" if model != \"SVD\" else \"Number of Latent Factors\"\n",
    "    axes[i].set_xlabel(f\"{x_label}\\n({chr(97 + i)})\", fontsize=12)\n",
    "    axes[i].set_ylabel(\"MAE\", fontsize=12)\n",
    "    axes[i].set_xticks(x_pos)\n",
    "    axes[i].set_xticklabels(x_labels, rotation=0)\n",
    "\n",
    "    ymin = min(y_exist + y_prop)\n",
    "    ymax = max(y_exist + y_prop)\n",
    "    y_start = np.floor(ymin * 20) / 20\n",
    "    y_end = np.ceil(ymax * 20) / 20\n",
    "\n",
    "    while (y_end - y_start) < 0.3:\n",
    "        y_start -= 0.05\n",
    "        y_end += 0.05\n",
    "\n",
    "    y_ticks = np.round(np.arange(y_start, y_end + 0.001, 0.05), 2)\n",
    "    axes[i].set_yticks(y_ticks.tolist())\n",
    "\n",
    "    axes[i].grid(axis=\"y\", linestyle=\"--\")\n",
    "    axes[i].set_xlim(0, len(k_list) - 1)\n",
    "    axes[i].legend()\n",
    "\n",
    "plt.tight_layout()\n",
    "plt.show()\n"
   ]
  },
  {
   "cell_type": "code",
   "execution_count": 7,
   "id": "67095740",
   "metadata": {},
   "outputs": [
    {
     "name": "stdout",
     "output_type": "stream",
     "text": [
      "  k  UBCF_Existing  UBCF_Proposal  IBCF_Existing  IBCF_Proposal  SVD_Existing  SVD_Proposal\n",
      "  1       1.081335       0.956626       1.099486       0.964313      0.818567      0.750241\n",
      "  2       0.990301       0.895772       1.009929       0.900352      0.818824      0.750181\n",
      "  3       0.955077       0.867790       0.975070       0.876233      0.818953      0.750620\n",
      "  4       0.934695       0.852401       0.955539       0.862392      0.818930      0.750230\n",
      "  5       0.921902       0.842016       0.943830       0.853386      0.819286      0.750504\n",
      " 10       0.896379       0.820750       0.921916       0.836850      0.819587      0.751171\n",
      " 15       0.888320       0.814768       0.914708       0.831869      0.820437      0.751399\n",
      " 20       0.883865       0.811852       0.911821       0.830171      0.820962      0.752030\n",
      " 25       0.881256       0.809997       0.910204       0.829320      0.821520      0.752109\n",
      " 30       0.879825       0.809065       0.909392       0.828604      0.821733      0.752546\n",
      " 40       0.877457       0.807700       0.908381       0.828130      0.822789      0.753361\n",
      " 50       0.876348       0.807325       0.908173       0.827917      0.825062      0.755238\n",
      " 60       0.875935       0.807012       0.907994       0.827807      0.823933      0.754789\n",
      " 80       0.875395       0.806671       0.907828       0.827913      0.827580      0.755867\n",
      "100       0.875137       0.806489       0.907931       0.827971      0.828499      0.756719\n",
      "\n",
      "--- 최적의 k 값과 MAE ---\n",
      "UBCF - 최적의 k: 100, MAE: 0.8751\n",
      "IBCF - 최적의 k: 80, MAE: 0.9078\n",
      "SVD - 최적의 k: 1, MAE: 0.8186\n"
     ]
    }
   ],
   "source": [
    "import pandas as pd\n",
    "\n",
    "result_df = pd.DataFrame({\n",
    "    \"k\": k_list,\n",
    "    \"UBCF_Existing\": results[\"UBCF\"][\"existing\"],\n",
    "    \"UBCF_Proposal\": results[\"UBCF\"][\"proposal\"],\n",
    "    \"IBCF_Existing\": results[\"IBCF\"][\"existing\"],\n",
    "    \"IBCF_Proposal\": results[\"IBCF\"][\"proposal\"],\n",
    "    \"SVD_Existing\":  results[\"SVD\"][\"existing\"],\n",
    "    \"SVD_Proposal\":  results[\"SVD\"][\"proposal\"]\n",
    "})\n",
    "\n",
    "print(result_df.to_string(index=False))\n",
    "\n",
    "# 각 모델별 최적의 k 값과 MAE\n",
    "def get_best_k(model_name):\n",
    "    best_k = k_list[results[model_name][\"existing\"].index(min(results[model_name][\"existing\"]))]  # 최저 MAE 값의 k\n",
    "    best_mae = min(results[model_name][\"existing\"])\n",
    "    return best_k, best_mae\n",
    "\n",
    "print(\"\\n--- 최적의 k 값과 MAE ---\")\n",
    "for model in [\"UBCF\", \"IBCF\", \"SVD\"]:\n",
    "    best_k, best_mae = get_best_k(model)\n",
    "    print(f\"{model} - 최적의 k: {best_k}, MAE: {best_mae:.4f}\")"
   ]
  },
  {
   "cell_type": "code",
   "execution_count": null,
   "id": "f8b139d2",
   "metadata": {},
   "outputs": [],
   "source": []
  }
 ],
 "metadata": {
  "kernelspec": {
   "display_name": "base",
   "language": "python",
   "name": "python3"
  },
  "language_info": {
   "codemirror_mode": {
    "name": "ipython",
    "version": 3
   },
   "file_extension": ".py",
   "mimetype": "text/x-python",
   "name": "python",
   "nbconvert_exporter": "python",
   "pygments_lexer": "ipython3",
   "version": "3.12.2"
  }
 },
 "nbformat": 4,
 "nbformat_minor": 5
}
