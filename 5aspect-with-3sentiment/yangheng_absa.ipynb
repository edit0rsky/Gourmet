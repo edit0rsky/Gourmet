{
 "cells": [
  {
   "cell_type": "code",
   "execution_count": null,
   "id": "dc5d1075",
   "metadata": {},
   "outputs": [],
   "source": [
    "import torch\n",
    "\n",
    "from transformers import AutoTokenizer, AutoModelForSequenceClassification\n",
    "\n",
    "# Load the ABSA model and tokenizer\n",
    "model_name = \"yangheng/deberta-v3-base-absa-v1.1\"\n",
    "tokenizer = AutoTokenizer.from_pretrained(model_name)\n",
    "model = AutoModelForSequenceClassification.from_pretrained(model_name)\n",
    "\n",
    "# Set to evaluation mode\n",
    "model.eval()\n",
    "\n",
    "# Input sentence\n",
    "sentence = \"I am a huge fan of Gennaro’s. It’s got a thin crust, sweet and rich tomato sauce along w fresh mozzarella cheese. Also, the meatballs are excellent. Can’t say the same about the service though.\"\n",
    "\n",
    "# Aspects to analyze\n",
    "aspects = [\"food\", \"service\", \"price\", \"ambience\", \"location\"]"
   ]
  },
  {
   "cell_type": "code",
   "execution_count": null,
   "id": "ce7cbb9e",
   "metadata": {},
   "outputs": [],
   "source": [
    "# for aspect in aspects:\n",
    "#     # Tokenize with sentence and aspect (ABSA is usually sentence-aspect paired)\n",
    "#     inputs = tokenizer(sentence, aspect, return_tensors=\"pt\")\n",
    "\n",
    "#     # Run through model\n",
    "#     with torch.no_grad():\n",
    "#         outputs = model(**inputs)\n",
    "#         logits = outputs.logits\n",
    "#         probs = torch.softmax(logits, dim=1)\n",
    "\n",
    "#     label_map = model.config.id2label\n",
    "#     pred_label = label_map[probs.argmax().item()]\n",
    "#     confidence = probs.max().item()\n",
    "\n",
    "#     print(f\"[{aspect}] → {pred_label} ({confidence:.3f})\")"
   ]
  },
  {
   "cell_type": "code",
   "execution_count": 4,
   "id": "009e4287",
   "metadata": {},
   "outputs": [
    {
     "name": "stdout",
     "output_type": "stream",
     "text": [
      "\n",
      "[food] 감정 분석 결과:\n",
      "  Negative: 0.007\n",
      "  Neutral: 0.086\n",
      "  Positive: 0.908\n",
      "  최종 판단: Positive (0.908)\n",
      "\n",
      "[service] 감정 분석 결과:\n",
      "  Negative: 0.989\n",
      "  Neutral: 0.005\n",
      "  Positive: 0.006\n",
      "  최종 판단: Negative (0.989)\n",
      "\n",
      "[price] 감정 분석 결과:\n",
      "  Negative: 0.364\n",
      "  Neutral: 0.169\n",
      "  Positive: 0.466\n",
      "  최종 판단: Positive (0.466)\n",
      "\n",
      "[ambience] 감정 분석 결과:\n",
      "  Negative: 0.171\n",
      "  Neutral: 0.207\n",
      "  Positive: 0.622\n",
      "  최종 판단: Positive (0.622)\n",
      "\n",
      "[location] 감정 분석 결과:\n",
      "  Negative: 0.292\n",
      "  Neutral: 0.482\n",
      "  Positive: 0.226\n",
      "  최종 판단: Neutral (0.482)\n"
     ]
    }
   ],
   "source": [
    "for aspect in aspects:\n",
    "    # 토큰화\n",
    "    inputs = tokenizer(sentence, aspect, return_tensors=\"pt\")\n",
    "\n",
    "    # 모델 실행\n",
    "    with torch.no_grad():\n",
    "        outputs = model(**inputs)\n",
    "        logits = outputs.logits\n",
    "        probs = torch.softmax(logits, dim=1)[0]  # 첫 번째(유일한) 배치 항목\n",
    "\n",
    "    # 모든 감정 점수 출력\n",
    "    print(f\"\\n[{aspect}] 감정 분석 결과:\")\n",
    "    for i, label in model.config.id2label.items():\n",
    "        score = probs[i].item()\n",
    "        print(f\"  {label}: {score:.3f}\")\n",
    "\n",
    "    # 최대 점수 감정\n",
    "    pred_idx = probs.argmax().item()\n",
    "    pred_label = model.config.id2label[pred_idx]\n",
    "    confidence = probs[pred_idx].item()\n",
    "    print(f\"  최종 판단: {pred_label} ({confidence:.3f})\")"
   ]
  },
  {
   "cell_type": "code",
   "execution_count": null,
   "id": "15fb6a93",
   "metadata": {},
   "outputs": [],
   "source": []
  }
 ],
 "metadata": {
  "kernelspec": {
   "display_name": "base",
   "language": "python",
   "name": "python3"
  },
  "language_info": {
   "codemirror_mode": {
    "name": "ipython",
    "version": 3
   },
   "file_extension": ".py",
   "mimetype": "text/x-python",
   "name": "python",
   "nbconvert_exporter": "python",
   "pygments_lexer": "ipython3",
   "version": "3.11.7"
  }
 },
 "nbformat": 4,
 "nbformat_minor": 5
}
