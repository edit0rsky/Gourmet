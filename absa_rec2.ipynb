{
 "cells": [
  {
   "cell_type": "markdown",
   "id": "40909e3a",
   "metadata": {},
   "source": [
    "### 분할"
   ]
  },
  {
   "cell_type": "code",
   "execution_count": 2,
   "id": "5d5a8f22",
   "metadata": {},
   "outputs": [
    {
     "name": "stdout",
     "output_type": "stream",
     "text": [
      "✅ 유저 수: 28506\n",
      "📦 훈련 유저 수: 22805, 리뷰 수: 327083\n",
      "🧪 테스트 유저 수: 5701, 리뷰 수: 79594\n"
     ]
    }
   ],
   "source": [
    "import json\n",
    "import random\n",
    "from collections import defaultdict\n",
    "\n",
    "# 설정\n",
    "INPUT_FILE = \"absa_ate_results.json\"\n",
    "TRAIN_FILE = \"absa_train.json\"\n",
    "TEST_FILE = \"absa_test.json\"\n",
    "TEST_RATIO = 0.2\n",
    "SEED = 42\n",
    "random.seed(SEED)\n",
    "\n",
    "# --------------------------\n",
    "# 1. Load and Group by user\n",
    "# --------------------------\n",
    "user_reviews = defaultdict(list)\n",
    "\n",
    "with open(INPUT_FILE, \"r\", encoding=\"utf-8\") as f:\n",
    "    for line in f:\n",
    "        obj = json.loads(line)\n",
    "        if obj.get(\"aspects\"):  # aspect 없는 리뷰 제외\n",
    "            user_reviews[obj[\"user_id\"]].append(obj)\n",
    "\n",
    "print(f\"✅ 유저 수: {len(user_reviews)}\")\n",
    "\n",
    "# --------------------------\n",
    "# 2. Split by user\n",
    "# --------------------------\n",
    "user_ids = list(user_reviews.keys())\n",
    "random.shuffle(user_ids)\n",
    "\n",
    "n_test_users = int(len(user_ids) * TEST_RATIO)\n",
    "test_users = set(user_ids[:n_test_users])\n",
    "train_users = set(user_ids[n_test_users:])\n",
    "\n",
    "train_data, test_data = [], []\n",
    "\n",
    "for uid in train_users:\n",
    "    train_data.extend(user_reviews[uid])\n",
    "\n",
    "for uid in test_users:\n",
    "    test_data.extend(user_reviews[uid])\n",
    "\n",
    "# --------------------------\n",
    "# 3. Save to files\n",
    "# --------------------------\n",
    "with open(TRAIN_FILE, \"w\", encoding=\"utf-8\") as f:\n",
    "    for d in train_data:\n",
    "        f.write(json.dumps(d, ensure_ascii=False) + \"\\n\")\n",
    "\n",
    "with open(TEST_FILE, \"w\", encoding=\"utf-8\") as f:\n",
    "    for d in test_data:\n",
    "        f.write(json.dumps(d, ensure_ascii=False) + \"\\n\")\n",
    "\n",
    "print(f\"📦 훈련 유저 수: {len(train_users)}, 리뷰 수: {len(train_data)}\")\n",
    "print(f\"🧪 테스트 유저 수: {len(test_users)}, 리뷰 수: {len(test_data)}\")\n"
   ]
  },
  {
   "cell_type": "markdown",
   "id": "3316e360",
   "metadata": {},
   "source": [
    "####word2vec"
   ]
  },
  {
   "cell_type": "code",
   "execution_count": 6,
   "id": "f11da7f5",
   "metadata": {},
   "outputs": [
    {
     "name": "stderr",
     "output_type": "stream",
     "text": [
      "📡 추천 계산 중: 100%|██████████| 21211/21211 [00:32<00:00, 649.80it/s]\n"
     ]
    },
    {
     "name": "stdout",
     "output_type": "stream",
     "text": [
      "✅ 추천 저장 완료: recommendations_filtered.json\n"
     ]
    }
   ],
   "source": [
    "import json\n",
    "import numpy as np\n",
    "from tqdm import tqdm\n",
    "from collections import defaultdict\n",
    "from sklearn.preprocessing import normalize\n",
    "\n",
    "# 🔧 파일 설정 (filtered 벡터 사용)\n",
    "USER_VEC_FILE = \"user_vector_filtered.json\"\n",
    "BIZ_VEC_FILE = \"business_vector_filtered.json\"\n",
    "TRAIN_FILE = \"absa_train.json\"\n",
    "RECOMMEND_FILE = \"recommendations_filtered.json\"\n",
    "TOP_N = 10\n",
    "\n",
    "# 📦 벡터 로딩\n",
    "with open(USER_VEC_FILE, encoding=\"utf-8\") as f:\n",
    "    user_embed = json.load(f)\n",
    "with open(BIZ_VEC_FILE, encoding=\"utf-8\") as f:\n",
    "    biz_embed = json.load(f)\n",
    "\n",
    "# 👀 훈련 데이터 기반 사용자 방문 식당 기록\n",
    "user_seen = defaultdict(set)\n",
    "with open(TRAIN_FILE, encoding=\"utf-8\") as f:\n",
    "    for line in f:\n",
    "        obj = json.loads(line)\n",
    "        user_seen[obj[\"user_id\"]].add(obj[\"business_id\"])\n",
    "\n",
    "# 🧮 정규화 및 행렬 구성\n",
    "uids = list(user_embed.keys())\n",
    "bids = list(biz_embed.keys())\n",
    "u_matrix = normalize(np.array([user_embed[uid] for uid in uids]), axis=1)\n",
    "b_matrix = normalize(np.array([biz_embed[bid] for bid in bids]), axis=1)\n",
    "\n",
    "# 🧠 코사인 유사도 = dot product (정규화 되어 있음)\n",
    "sim = np.dot(u_matrix, b_matrix.T)\n",
    "\n",
    "# 🎯 추천 계산\n",
    "recommendations = {}\n",
    "for i, uid in enumerate(tqdm(uids, desc=\"📡 추천 계산 중\")):\n",
    "    seen = user_seen[uid]\n",
    "    ranked_idx = np.argsort(sim[i])[::-1]\n",
    "    top_biz = [bids[j] for j in ranked_idx if bids[j] not in seen][:TOP_N]\n",
    "    recommendations[uid] = top_biz\n",
    "\n",
    "# 💾 결과 저장\n",
    "with open(RECOMMEND_FILE, \"w\", encoding=\"utf-8\") as f:\n",
    "    json.dump(recommendations, f, indent=2)\n",
    "\n",
    "print(\"✅ 추천 저장 완료:\", RECOMMEND_FILE)\n"
   ]
  },
  {
   "cell_type": "code",
   "execution_count": 7,
   "id": "d28afc5a",
   "metadata": {},
   "outputs": [
    {
     "name": "stdout",
     "output_type": "stream",
     "text": [
      "📌 평가 대상 유저 수: 4214\n"
     ]
    },
    {
     "name": "stderr",
     "output_type": "stream",
     "text": [
      "🎯 Precision@K 계산 중: 100%|██████████| 4214/4214 [00:00<00:00, 63903.67it/s]"
     ]
    },
    {
     "name": "stdout",
     "output_type": "stream",
     "text": [
      "\n",
      "📊 Precision@K 결과\n",
      "🔹 Top-1 → Precision: 0.0994, Recall: 0.0111\n",
      "🔹 Top-5 → Precision: 0.0570, Recall: 0.0299\n",
      "🔹 Top-10 → Precision: 0.0444, Recall: 0.0438\n"
     ]
    },
    {
     "name": "stderr",
     "output_type": "stream",
     "text": [
      "\n"
     ]
    }
   ],
   "source": [
    "import json\n",
    "from collections import defaultdict\n",
    "from tqdm import tqdm\n",
    "\n",
    "# 파일 설정\n",
    "RECOMMEND_FILE = \"recommendations_filtered.json\"\n",
    "EVAL_FILE = \"absa_test.json\"\n",
    "TOP_K = [1, 5, 10]  # 원하는 평가 기준\n",
    "\n",
    "# 추천 결과 로딩\n",
    "with open(RECOMMEND_FILE, encoding=\"utf-8\") as f:\n",
    "    recommendations = json.load(f)\n",
    "\n",
    "# 테스트셋 (실제 방문한 식당 ground truth)\n",
    "ground_truth = defaultdict(set)\n",
    "with open(EVAL_FILE, encoding=\"utf-8\") as f:\n",
    "    for line in f:\n",
    "        obj = json.loads(line)\n",
    "        ground_truth[obj[\"user_id\"]].add(obj[\"business_id\"])\n",
    "\n",
    "# 평가 대상 사용자: 추천과 실제 모두 있는 사용자만\n",
    "common_users = set(recommendations.keys()) & set(ground_truth.keys())\n",
    "print(f\"📌 평가 대상 유저 수: {len(common_users)}\")\n",
    "\n",
    "# 메트릭 초기화\n",
    "metrics = {k: {\"precision\": 0, \"recall\": 0, \"f1\": 0} for k in TOP_K}\n",
    "\n",
    "for uid in tqdm(common_users, desc=\"🎯 Precision@K 계산 중\"):\n",
    "    pred = recommendations[uid]\n",
    "    true = ground_truth[uid]\n",
    "\n",
    "    for k in TOP_K:\n",
    "        topk_pred = set(pred[:k])\n",
    "        hits = topk_pred & true\n",
    "\n",
    "        precision = len(hits) / k\n",
    "        recall = len(hits) / len(true) if true else 0\n",
    "        f1 = 2 * precision * recall / (precision + recall) if (precision + recall) else 0\n",
    "\n",
    "        metrics[k][\"precision\"] += precision\n",
    "        metrics[k][\"recall\"] += recall\n",
    "        metrics[k][\"f1\"] += f1\n",
    "\n",
    "# 평균 계산\n",
    "n = len(common_users)\n",
    "print(\"\\n📊 Precision@K 결과\")\n",
    "for k in TOP_K:\n",
    "    p = metrics[k][\"precision\"] / n\n",
    "    r = metrics[k][\"recall\"] / n\n",
    "    f = metrics[k][\"f1\"] / n\n",
    "    print(f\"🔹 Top-{k} → Precision: {p:.4f}, Recall: {r:.4f}\")\n"
   ]
  },
  {
   "cell_type": "code",
   "execution_count": null,
   "id": "21111fb1",
   "metadata": {},
   "outputs": [],
   "source": []
  }
 ],
 "metadata": {
  "kernelspec": {
   "display_name": "base",
   "language": "python",
   "name": "python3"
  },
  "language_info": {
   "codemirror_mode": {
    "name": "ipython",
    "version": 3
   },
   "file_extension": ".py",
   "mimetype": "text/x-python",
   "name": "python",
   "nbconvert_exporter": "python",
   "pygments_lexer": "ipython3",
   "version": "3.11.7"
  }
 },
 "nbformat": 4,
 "nbformat_minor": 5
}
