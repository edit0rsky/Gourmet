{
 "cells": [
  {
   "cell_type": "code",
   "execution_count": null,
   "id": "4a92633c",
   "metadata": {},
   "outputs": [
    {
     "name": "stderr",
     "output_type": "stream",
     "text": [
      "/var/folders/g0/wf5k560d45g5_rq_z1jbdpq40000gn/T/ipykernel_29264/1381439640.py:10: DeprecationWarning: DataFrameGroupBy.apply operated on the grouping columns. This behavior is deprecated, and in a future version of pandas the grouping columns will be excluded from the operation. Either pass `include_groups=False` to exclude the groupings or explicitly select the grouping columns after groupby to silence this warning.\n",
      "  train_df = df.groupby('user_id').apply(lambda x: x.iloc[:-1]).reset_index(drop=True)\n",
      "/var/folders/g0/wf5k560d45g5_rq_z1jbdpq40000gn/T/ipykernel_29264/1381439640.py:11: DeprecationWarning: DataFrameGroupBy.apply operated on the grouping columns. This behavior is deprecated, and in a future version of pandas the grouping columns will be excluded from the operation. Either pass `include_groups=False` to exclude the groupings or explicitly select the grouping columns after groupby to silence this warning.\n",
      "  test_df = df.groupby('user_id').apply(lambda x: x.iloc[-1:]).reset_index(drop=True)\n"
     ]
    }
   ],
   "source": [
    "import pandas as pd\n",
    "import numpy as np\n",
    "from sklearn.metrics.pairwise import cosine_similarity\n",
    "from sklearn.metrics import mean_squared_error, mean_absolute_error\n",
    "\n",
    "# 예시 데이터프레임 구성\n",
    "df = pd.read_json(\"../data/review_business_5up_5aspect_3sentiment_vectorized_clean.json\", lines=True)\n",
    "\n",
    "# 2. Leave-One-Out 방식으로 데이터 분할\n",
    "train_df = df.groupby('user_id', group_keys=False).apply(lambda x: x.iloc[:-1])\n",
    "test_df = df.groupby('user_id', group_keys=False).apply(lambda x: x.iloc[-1:])\n",
    "\n",
    "# 3. 학습 데이터 기반 피벗 테이블 생성\n",
    "pivot = train_df.pivot_table(index='user_id', columns='business_id', values='stars')\n",
    "pivot_filled = pivot.fillna(0)\n",
    "\n",
    "# 4. 사용자 유사도 계산 (코사인 유사도)\n",
    "user_similarity = cosine_similarity(pivot_filled)\n",
    "user_similarity_df = pd.DataFrame(user_similarity, index=pivot_filled.index, columns=pivot_filled.index)\n",
    "\n",
    "# 5. 평점 예측 함수\n",
    "def predict_rating(user_id, business_id):\n",
    "    if user_id not in pivot_filled.index or business_id not in pivot_filled.columns:\n",
    "        return np.nan\n",
    "    sim_scores = user_similarity_df.loc[user_id]\n",
    "    biz_ratings = pivot_filled[business_id]\n",
    "    mask = biz_ratings.notna()\n",
    "    if mask.sum() == 0:\n",
    "        return np.nan\n",
    "    weighted_sum = (sim_scores[mask] * biz_ratings[mask]).sum()\n",
    "    sim_sum = np.abs(sim_scores[mask]).sum()\n",
    "    return weighted_sum / sim_sum if sim_sum != 0 else np.nan\n"
   ]
  },
  {
   "cell_type": "code",
   "execution_count": 2,
   "id": "4b940919",
   "metadata": {},
   "outputs": [
    {
     "name": "stdout",
     "output_type": "stream",
     "text": [
      "RMSE: 3.9843\n",
      "MAE: 3.7805\n"
     ]
    }
   ],
   "source": [
    "# 6. 테스트셋에 대해 예측 수행\n",
    "test_df['pred'] = test_df.apply(lambda row: predict_rating(row['user_id'], row['business_id']), axis=1)\n",
    "\n",
    "# 7. 성능 평가\n",
    "valid = test_df.dropna(subset=['pred'])\n",
    "rmse = np.sqrt(mean_squared_error(valid['stars'], valid['pred']))\n",
    "mae = mean_absolute_error(valid['stars'], valid['pred'])\n",
    "\n",
    "print(f\"RMSE: {rmse:.4f}\")\n",
    "print(f\"MAE: {mae:.4f}\")"
   ]
  },
  {
   "cell_type": "code",
   "execution_count": 3,
   "id": "5ad4bf86",
   "metadata": {},
   "outputs": [
    {
     "name": "stdout",
     "output_type": "stream",
     "text": [
      "RMSE: 3.9843\n",
      "MAE: 3.7805\n",
      "Precision@5: 0.5318\n"
     ]
    }
   ],
   "source": [
    "# 8. Precision@k 계산 함수\n",
    "def precision_at_k(user_id, k=5, threshold=4.0):\n",
    "    if user_id not in pivot_filled.index:\n",
    "        return np.nan\n",
    "    sim_scores = user_similarity_df.loc[user_id]\n",
    "    neighbors = sim_scores.sort_values(ascending=False)[1:k+1].index\n",
    "    neighbor_ratings = pivot_filled.loc[neighbors]\n",
    "    mean_scores = neighbor_ratings.mean().sort_values(ascending=False)\n",
    "    top_k_items = mean_scores.head(k).index\n",
    "    # 실제로 사용자가 좋아한 아이템이 몇 개 있는지\n",
    "    liked_items = train_df[(train_df['user_id'] == user_id) & (train_df['stars'] >= threshold)]['business_id'].values\n",
    "    hits = np.isin(top_k_items, liked_items).sum()\n",
    "    return hits / k\n",
    "\n",
    "# 9. 전체 평균 Precision@k 계산\n",
    "precision_list = [precision_at_k(uid) for uid in test_df['user_id'].unique()]\n",
    "precision_at_5 = np.nanmean(precision_list)\n",
    "\n",
    "# 10. 출력\n",
    "print(f\"RMSE: {rmse:.4f}\")\n",
    "print(f\"MAE: {mae:.4f}\")\n",
    "print(f\"Precision@5: {precision_at_5:.4f}\")"
   ]
  },
  {
   "cell_type": "code",
   "execution_count": 5,
   "id": "387174f3",
   "metadata": {},
   "outputs": [
    {
     "name": "stdout",
     "output_type": "stream",
     "text": [
      "RMSE: 1.0492\n",
      "MAE:  0.8182\n"
     ]
    },
    {
     "name": "stderr",
     "output_type": "stream",
     "text": [
      "Calculating Precision@k: 100%|██████████| 23511/23511 [00:00<00:00, 235116.95it/s]"
     ]
    },
    {
     "name": "stdout",
     "output_type": "stream",
     "text": [
      "\n",
      "✅ SVD 추천 시스템 성능:\n",
      "RMSE: 1.0492\n",
      "MAE: 0.8182\n",
      "Precision@5: 0.3772\n"
     ]
    },
    {
     "name": "stderr",
     "output_type": "stream",
     "text": [
      "\n"
     ]
    }
   ],
   "source": [
    "from surprise import Dataset, Reader, SVD\n",
    "from surprise.model_selection import train_test_split\n",
    "from surprise import accuracy\n",
    "from tqdm import tqdm\n",
    "import pandas as pd\n",
    "import numpy as np\n",
    "from collections import defaultdict\n",
    "\n",
    "# 1. 데이터 로딩\n",
    "df = pd.read_json(\"../data/review_business_5up_5aspect_3sentiment_vectorized_clean.json\", lines=True)\n",
    "reader = Reader(rating_scale=(1, 5))\n",
    "data = Dataset.load_from_df(df[['user_id', 'business_id', 'stars']], reader)\n",
    "\n",
    "# 2. 학습/테스트 분할\n",
    "trainset, testset = train_test_split(data, test_size=0.2, random_state=42)\n",
    "\n",
    "# 3. SVD 모델 학습\n",
    "model = SVD()\n",
    "model.fit(trainset)\n",
    "\n",
    "# 4. 테스트셋 예측\n",
    "predictions = model.test(testset)\n",
    "\n",
    "# 5. 정확도 지표 출력\n",
    "rmse = accuracy.rmse(predictions)\n",
    "mae = accuracy.mae(predictions)\n",
    "\n",
    "# 6. Precision@k 계산 (tqdm 포함)\n",
    "def precision_at_k(predictions, k=5, threshold=4.0):\n",
    "    user_est_true = defaultdict(list)\n",
    "    for uid, _, true_r, est, _ in predictions:\n",
    "        user_est_true[uid].append((est, true_r))\n",
    "\n",
    "    precisions = []\n",
    "    for uid in tqdm(user_est_true, desc=\"Calculating Precision@k\"):\n",
    "        user_ratings = sorted(user_est_true[uid], key=lambda x: x[0], reverse=True)\n",
    "        top_k = user_ratings[:k]\n",
    "        hits = sum((true_r >= threshold) for (_, true_r) in top_k)\n",
    "        precisions.append(hits / k)\n",
    "\n",
    "    return np.mean(precisions)\n",
    "\n",
    "# 7. Precision@5 평가\n",
    "p_at_5 = precision_at_k(predictions, k=5)\n",
    "\n",
    "# 8. 출력\n",
    "print(f\"\\n✅ SVD 추천 시스템 성능:\")\n",
    "print(f\"RMSE: {rmse:.4f}\")\n",
    "print(f\"MAE: {mae:.4f}\")\n",
    "print(f\"Precision@5: {p_at_5:.4f}\")"
   ]
  },
  {
   "cell_type": "code",
   "execution_count": null,
   "id": "cfc4140a",
   "metadata": {},
   "outputs": [],
   "source": []
  }
 ],
 "metadata": {
  "kernelspec": {
   "display_name": "base",
   "language": "python",
   "name": "python3"
  },
  "language_info": {
   "codemirror_mode": {
    "name": "ipython",
    "version": 3
   },
   "file_extension": ".py",
   "mimetype": "text/x-python",
   "name": "python",
   "nbconvert_exporter": "python",
   "pygments_lexer": "ipython3",
   "version": "3.12.2"
  }
 },
 "nbformat": 4,
 "nbformat_minor": 5
}
