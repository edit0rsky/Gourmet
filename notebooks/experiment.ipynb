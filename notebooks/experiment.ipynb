{
 "cells": [
  {
   "cell_type": "code",
   "execution_count": 11,
   "id": "fe5e7c6b",
   "metadata": {},
   "outputs": [
    {
     "name": "stdout",
     "output_type": "stream",
     "text": [
      "The autoreload extension is already loaded. To reload it, use:\n",
      "  %reload_ext autoreload\n"
     ]
    }
   ],
   "source": [
    "%load_ext autoreload\n",
    "%autoreload 2"
   ]
  },
  {
   "cell_type": "code",
   "execution_count": 16,
   "id": "a7941278",
   "metadata": {},
   "outputs": [],
   "source": [
    "import sys\n",
    "sys.path.append(\"../src\")  # 모듈 경로 추가\n",
    "from experiment_runner import run_experiment"
   ]
  },
  {
   "cell_type": "markdown",
   "id": "1d107ed6",
   "metadata": {},
   "source": [
    "run_experiment(rating_path, k, min_ratings, model_type, alpha, verbose=True)"
   ]
  },
  {
   "cell_type": "code",
   "execution_count": 23,
   "id": "e059d3ce",
   "metadata": {},
   "outputs": [
    {
     "name": "stdout",
     "output_type": "stream",
     "text": [
      "\n",
      "🟩 데이터 로드 중: ../data/review_5up_5aspect_3sentiment_vectorized_clean.json\n",
      "총 451,185개 평점, 28,465명 사용자, 6,832개 아이템\n",
      "\n",
      "🟩 학습/테스트 데이터 분리 중...\n",
      "학습: 422,720개, 테스트: 28,465개\n",
      "\n",
      "🟩 아이템-사용자 맵 구성 중...\n",
      "\n",
      "🟩 아이템 유사도 계산 중 (item-based CF)...\n"
     ]
    },
    {
     "name": "stderr",
     "output_type": "stream",
     "text": [
      "아이템 유사도 계산: 100%|██████████| 6828/6828 [01:40<00:00, 68.15it/s]  \n"
     ]
    },
    {
     "name": "stdout",
     "output_type": "stream",
     "text": [
      "\n",
      "🟩 상위 5개 아이템 추천 중...\n"
     ]
    },
    {
     "name": "stderr",
     "output_type": "stream",
     "text": [
      "추천 중: 100%|██████████| 28465/28465 [03:00<00:00, 157.49it/s]"
     ]
    },
    {
     "name": "stdout",
     "output_type": "stream",
     "text": [
      "\n",
      "🟩 성능 평가 중...\n",
      "\n",
      "🎯 Precision@5: 0.0561\n",
      "🎯 Recall@5:    0.0561\n",
      "🎯 NDCG@5:      0.0370\n"
     ]
    },
    {
     "name": "stderr",
     "output_type": "stream",
     "text": [
      "\n"
     ]
    }
   ],
   "source": [
    "result = run_experiment(\n",
    "    rating_path = \"../data/review_5up_5aspect_3sentiment_vectorized_clean.json\",\n",
    "    model_type=\"itemcf\"\n",
    ")\n"
   ]
  },
  {
   "cell_type": "code",
   "execution_count": 25,
   "id": "efcea7bd",
   "metadata": {},
   "outputs": [
    {
     "name": "stdout",
     "output_type": "stream",
     "text": [
      "\n",
      "🟩 데이터 로드 중: ../data/review_5up_5aspect_3sentiment_vectorized_clean.json\n",
      "총 451,185개 평점, 28,465명 사용자, 6,832개 아이템\n",
      "\n",
      "🟩 학습/테스트 데이터 분리 중...\n",
      "학습: 422,720개, 테스트: 28,465개\n",
      "\n",
      "🟩 감성 벡터 기반 맵 구성 중...\n",
      "\n",
      "🟩 하이브리드 유사도 계산 중... (alpha=0.9)\n"
     ]
    },
    {
     "name": "stderr",
     "output_type": "stream",
     "text": [
      "하이브리드 유사도 계산: 100%|██████████| 6828/6828 [04:24<00:00, 25.82it/s] \n"
     ]
    },
    {
     "name": "stdout",
     "output_type": "stream",
     "text": [
      "\n",
      "🟩 상위 5개 아이템 추천 중...\n"
     ]
    },
    {
     "name": "stderr",
     "output_type": "stream",
     "text": [
      "추천 중: 100%|██████████| 28465/28465 [05:57<00:00, 79.68it/s] "
     ]
    },
    {
     "name": "stdout",
     "output_type": "stream",
     "text": [
      "\n",
      "🟩 성능 평가 중...\n",
      "\n",
      "🎯 Precision@5: 0.0569\n",
      "🎯 Recall@5:    0.0569\n",
      "🎯 NDCG@5:      0.0375\n"
     ]
    },
    {
     "name": "stderr",
     "output_type": "stream",
     "text": [
      "\n"
     ]
    }
   ],
   "source": [
    "result2 = run_experiment(\"../data/review_5up_5aspect_3sentiment_vectorized_clean.json\", model_type=\"hybrid\", alpha=0.9)"
   ]
  },
  {
   "cell_type": "code",
   "execution_count": null,
   "id": "35fe05f8",
   "metadata": {},
   "outputs": [],
   "source": []
  }
 ],
 "metadata": {
  "kernelspec": {
   "display_name": "base",
   "language": "python",
   "name": "python3"
  },
  "language_info": {
   "codemirror_mode": {
    "name": "ipython",
    "version": 3
   },
   "file_extension": ".py",
   "mimetype": "text/x-python",
   "name": "python",
   "nbconvert_exporter": "python",
   "pygments_lexer": "ipython3",
   "version": "3.12.2"
  }
 },
 "nbformat": 4,
 "nbformat_minor": 5
}
