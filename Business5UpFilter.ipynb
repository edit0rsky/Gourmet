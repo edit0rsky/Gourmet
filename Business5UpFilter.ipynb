{
 "cells": [
  {
   "cell_type": "code",
   "execution_count": 7,
   "id": "951f36cd-4f8b-4bb5-aee7-dec4b5fc863e",
   "metadata": {},
   "outputs": [
    {
     "name": "stdout",
     "output_type": "stream",
     "text": [
      "서로 다른 business에 리뷰하지 않은 사용자 수: 0\n"
     ]
    }
   ],
   "source": [
    "from collections import defaultdict\n",
    "import json\n",
    "\n",
    "input_file = \"review_5up_5aspect_3sentiment_vectorized_clean.json\"\n",
    "\n",
    "user_reviews = defaultdict(list)\n",
    "\n",
    "# 1. 사용자별 리뷰 모으기\n",
    "with open(input_file, \"r\", encoding=\"utf-8\") as f:\n",
    "    for line in f:\n",
    "        obj = json.loads(line)\n",
    "        user_id = obj[\"user_id\"]\n",
    "        biz_id = obj[\"business_id\"]\n",
    "        user_reviews[user_id].append(biz_id)\n",
    "\n",
    "# 2. 리뷰 수가 5개이고, biz_id가 5개 미만인 사용자 수 세기\n",
    "count = 0\n",
    "for user, biz_list in user_reviews.items():\n",
    "    if len(biz_list) == len(set(biz_list)) < 5:\n",
    "        count += 1\n",
    "\n",
    "print(f\"서로 다른 business에 리뷰하지 않은 사용자 수: {count}\")\n"
   ]
  },
  {
   "cell_type": "code",
   "execution_count": 2,
   "id": "306c36a4-81b9-4e31-941f-2907f7e36799",
   "metadata": {},
   "outputs": [
    {
     "name": "stdout",
     "output_type": "stream",
     "text": [
      "✅ 완료: business_id가 5개 미만인 사용자 제거 후 저장 → review_5up_5aspect_3sentiment_vectorized_clean1.json\n"
     ]
    }
   ],
   "source": [
    "import json\n",
    "from collections import defaultdict\n",
    "\n",
    "input_file = \"review_5up_5aspect_3sentiment_vectorized_clean.json\"\n",
    "output_file = \"review_business_5up_5aspect_3sentiment_vectorized_clean.json\"\n",
    "\n",
    "# 1차 패스: 사용자별 business_id 목록 수집\n",
    "user_biz_ids = defaultdict(set)\n",
    "\n",
    "with open(input_file, \"r\", encoding=\"utf-8\") as f:\n",
    "    for line in f:\n",
    "        obj = json.loads(line)\n",
    "        user_id = obj[\"user_id\"]\n",
    "        biz_id = obj[\"business_id\"]\n",
    "        user_biz_ids[user_id].add(biz_id)\n",
    "\n",
    "# 2차 패스: 조건에 맞는 사용자 리뷰만 저장\n",
    "with open(input_file, \"r\", encoding=\"utf-8\") as fin, \\\n",
    "     open(output_file, \"w\", encoding=\"utf-8\") as fout:\n",
    "\n",
    "    for line in fin:\n",
    "        obj = json.loads(line)\n",
    "        user_id = obj[\"user_id\"]\n",
    "        if len(user_biz_ids[user_id]) >= 5:\n",
    "            fout.write(json.dumps(obj, ensure_ascii=False) + \"\\n\")\n",
    "\n",
    "print(f\"✅ 완료: business_id가 5개 미만인 사용자 제거 후 저장 → {output_file}\")\n"
   ]
  },
  {
   "cell_type": "code",
   "execution_count": null,
   "id": "c1016bc5-9ec1-4f1b-8ae8-33c3ffd6c2c7",
   "metadata": {},
   "outputs": [],
   "source": []
  }
 ],
 "metadata": {
  "kernelspec": {
   "display_name": "Python 3 (ipykernel)",
   "language": "python",
   "name": "python3"
  },
  "language_info": {
   "codemirror_mode": {
    "name": "ipython",
    "version": 3
   },
   "file_extension": ".py",
   "mimetype": "text/x-python",
   "name": "python",
   "nbconvert_exporter": "python",
   "pygments_lexer": "ipython3",
   "version": "3.12.3"
  }
 },
 "nbformat": 4,
 "nbformat_minor": 5
}
