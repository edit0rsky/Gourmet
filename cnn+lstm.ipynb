{
 "cells": [
  {
   "cell_type": "code",
   "execution_count": 1,
   "id": "d7586f56",
   "metadata": {},
   "outputs": [],
   "source": [
    "import torch\n",
    "import torch.nn as nn\n",
    "import torch.nn.functional as F\n",
    "from tqdm import tqdm\n",
    "import time\n",
    "from sklearn.model_selection import train_test_split\n",
    "from torch.utils.data import Dataset, DataLoader\n",
    "import pandas as pd\n",
    "\n",
    "# ✅ MPS 디바이스 설정\n",
    "device = torch.device(\"mps\" if torch.backends.mps.is_available() else \"cpu\")\n",
    "\n",
    "# ✅ CNN+LSTM 모델 정의\n",
    "class CNNLSTMSentimentClassifier(nn.Module):\n",
    "    def __init__(self, vocab_size=30522, embedding_dim=64, hidden_dim=32, num_classes=3, dropout=0.5, padding_idx=1):\n",
    "        super().__init__()\n",
    "        self.embedding = nn.Embedding(vocab_size, embedding_dim, padding_idx=padding_idx)\n",
    "        self.conv = nn.Conv1d(embedding_dim, 64, kernel_size=3, padding=1)\n",
    "        self.relu = nn.ReLU()\n",
    "        self.lstm = nn.LSTM(input_size=64, hidden_size=hidden_dim, batch_first=True, bidirectional=True)\n",
    "        self.dropout = nn.Dropout(dropout)\n",
    "        self.fc = nn.Linear(hidden_dim * 2, num_classes)\n",
    "\n",
    "    def forward(self, input_ids):\n",
    "        x = self.embedding(input_ids)       # (B, L, E)\n",
    "        x = x.permute(0, 2, 1)              # (B, E, L)\n",
    "        x = self.relu(self.conv(x))        # (B, C, L)\n",
    "        x = x.permute(0, 2, 1)              # (B, L, C)\n",
    "        lstm_out, _ = self.lstm(x)          # (B, L, H*2)\n",
    "        pooled = torch.mean(lstm_out, dim=1)\n",
    "        return self.fc(self.dropout(pooled))\n",
    "\n",
    "# ✅ Dataset 정의\n",
    "class DeBERTaSentimentDataset(Dataset):\n",
    "    def __init__(self, dataframe, max_length=128):\n",
    "        self.df = dataframe\n",
    "        self.max_length = max_length\n",
    "\n",
    "    def __len__(self):\n",
    "        return len(self.df)\n",
    "\n",
    "    def __getitem__(self, idx):\n",
    "        row = self.df.iloc[idx]\n",
    "        input_ids = torch.tensor(row[\"input_ids\"][:self.max_length], dtype=torch.long)\n",
    "        attention_mask = torch.tensor(row[\"attention_mask\"][:self.max_length], dtype=torch.long)\n",
    "        label = torch.tensor(row[\"sentiment_label\"], dtype=torch.long)\n",
    "        return {\n",
    "            \"input_ids\": input_ids,\n",
    "            \"attention_mask\": attention_mask,\n",
    "            \"label\": label\n",
    "        }\n",
    "\n",
    "# ✅ 데이터 로드 및 분할\n",
    "df = pd.read_json(\"data/merged_0503_tokenized.json\", lines=True)\n",
    "train_df, temp_df = train_test_split(df, test_size=0.2, random_state=42, shuffle=True)\n",
    "val_df, test_df = train_test_split(temp_df, test_size=0.5, random_state=42)\n",
    "\n",
    "# ✅ DataLoader 구성\n",
    "train_dataset = DeBERTaSentimentDataset(train_df)\n",
    "val_dataset = DeBERTaSentimentDataset(val_df)\n",
    "\n",
    "train_loader = DataLoader(train_dataset, batch_size=32, shuffle=True)\n",
    "val_loader = DataLoader(val_dataset, batch_size=32, shuffle=False)\n",
    "\n",
    "# ✅ 모델, 옵티마이저, 손실함수\n",
    "model = CNNLSTMSentimentClassifier().to(device)\n",
    "optimizer = torch.optim.Adam(model.parameters(), lr=1e-4)\n",
    "criterion = nn.CrossEntropyLoss()\n",
    "\n",
    "# ✅ 학습 함수 (ETA 포함)\n",
    "def train_model(model, dataloader, optimizer, criterion, device, epochs=3):\n",
    "    model.train()\n",
    "    for epoch in range(1, epochs+1):\n",
    "        total_loss = 0\n",
    "        start_time = time.time()\n",
    "        total = len(dataloader)\n",
    "        pbar = tqdm(enumerate(dataloader), total=total, desc=f\"📘 Epoch {epoch}/{epochs}\")\n",
    "        for step, batch in pbar:\n",
    "            input_ids = batch[\"input_ids\"].to(device)\n",
    "            labels = batch[\"label\"].to(device)\n",
    "\n",
    "            optimizer.zero_grad()\n",
    "            outputs = model(input_ids)\n",
    "            loss = criterion(outputs, labels)\n",
    "            loss.backward()\n",
    "            optimizer.step()\n",
    "\n",
    "            total_loss += loss.item()\n",
    "\n",
    "            elapsed = time.time() - start_time\n",
    "            eta = (elapsed / (step + 1)) * (total - step - 1)\n",
    "            pbar.set_postfix({\n",
    "                \"Loss\": f\"{loss.item():.4f}\",\n",
    "                \"Elapsed\": f\"{elapsed:.1f}s\",\n",
    "                \"ETA\": f\"{eta:.1f}s\"\n",
    "            })\n",
    "\n",
    "        avg_loss = total_loss / total\n",
    "        print(f\"✅ Epoch {epoch} 완료 | 평균 Loss: {avg_loss:.4f} | 총 소요: {time.time() - start_time:.1f}s\")\n"
   ]
  },
  {
   "cell_type": "code",
   "execution_count": 2,
   "id": "bd1ff831",
   "metadata": {},
   "outputs": [
    {
     "name": "stderr",
     "output_type": "stream",
     "text": [
      "📘 Epoch 1/3: 100%|██████████| 9903/9903 [06:19<00:00, 26.10it/s, Loss=0.9981, Elapsed=379.4s, ETA=0.0s]  \n"
     ]
    },
    {
     "name": "stdout",
     "output_type": "stream",
     "text": [
      "✅ Epoch 1 완료 | 평균 Loss: 1.0055 | 총 소요: 379.4s\n"
     ]
    },
    {
     "name": "stderr",
     "output_type": "stream",
     "text": [
      "📘 Epoch 2/3: 100%|██████████| 9903/9903 [06:28<00:00, 25.47it/s, Loss=0.8069, Elapsed=388.8s, ETA=0.0s]  \n"
     ]
    },
    {
     "name": "stdout",
     "output_type": "stream",
     "text": [
      "✅ Epoch 2 완료 | 평균 Loss: 0.9342 | 총 소요: 388.8s\n"
     ]
    },
    {
     "name": "stderr",
     "output_type": "stream",
     "text": [
      "📘 Epoch 3/3: 100%|██████████| 9903/9903 [06:10<00:00, 26.70it/s, Loss=0.8779, Elapsed=370.9s, ETA=0.0s]  "
     ]
    },
    {
     "name": "stdout",
     "output_type": "stream",
     "text": [
      "✅ Epoch 3 완료 | 평균 Loss: 0.8996 | 총 소요: 370.9s\n"
     ]
    },
    {
     "name": "stderr",
     "output_type": "stream",
     "text": [
      "\n"
     ]
    }
   ],
   "source": [
    "# ✅ 학습 시작\n",
    "train_model(model, train_loader, optimizer, criterion, device, epochs=3)"
   ]
  },
  {
   "cell_type": "code",
   "execution_count": 3,
   "id": "ccf6298e",
   "metadata": {},
   "outputs": [],
   "source": [
    "from sklearn.metrics import classification_report, accuracy_score\n",
    "\n",
    "# ✅ 검증 함수 (Validation or Test)\n",
    "def evaluate_model(model, dataloader, device):\n",
    "    model.eval()\n",
    "    all_preds = []\n",
    "    all_labels = []\n",
    "\n",
    "    with torch.no_grad():\n",
    "        for batch in tqdm(dataloader, desc=\"🔍 Evaluating\"):\n",
    "            input_ids = batch[\"input_ids\"].to(device)\n",
    "            labels = batch[\"label\"].to(device)\n",
    "            outputs = model(input_ids)\n",
    "            preds = torch.argmax(outputs, dim=1)\n",
    "\n",
    "            all_preds.extend(preds.cpu().numpy())\n",
    "            all_labels.extend(labels.cpu().numpy())\n",
    "\n",
    "    acc = accuracy_score(all_labels, all_preds)\n",
    "    report = classification_report(all_labels, all_preds, target_names=[\"negative\", \"neutral\", \"positive\"])\n",
    "    print(f\"\\n✅ 정확도: {acc:.4f}\\n\")\n",
    "    print(\"📋 분류 리포트:\\n\")\n",
    "    print(report)"
   ]
  },
  {
   "cell_type": "code",
   "execution_count": 5,
   "id": "8d146961",
   "metadata": {},
   "outputs": [
    {
     "name": "stderr",
     "output_type": "stream",
     "text": [
      "🔍 Evaluating: 100%|██████████| 1238/1238 [00:17<00:00, 72.16it/s]\n"
     ]
    },
    {
     "name": "stdout",
     "output_type": "stream",
     "text": [
      "\n",
      "✅ 정확도: 0.5625\n",
      "\n",
      "📋 분류 리포트:\n",
      "\n",
      "              precision    recall  f1-score   support\n",
      "\n",
      "    negative       0.65      0.66      0.65     11231\n",
      "     neutral       0.46      0.36      0.40     13972\n",
      "    positive       0.58      0.68      0.63     14407\n",
      "\n",
      "    accuracy                           0.56     39610\n",
      "   macro avg       0.56      0.57      0.56     39610\n",
      "weighted avg       0.55      0.56      0.55     39610\n",
      "\n"
     ]
    }
   ],
   "source": [
    "# 학습 후 검증 세트로 성능 평가\n",
    "# evaluate_model(model, val_loader, device)\n",
    "\n",
    "# 또는 최종 테스트 세트 평가\n",
    "test_dataset = DeBERTaSentimentDataset(test_df)\n",
    "test_loader = DataLoader(test_dataset, batch_size=32, shuffle=False)\n",
    "evaluate_model(model, test_loader, device)"
   ]
  },
  {
   "cell_type": "code",
   "execution_count": null,
   "id": "2bc93876",
   "metadata": {},
   "outputs": [],
   "source": []
  }
 ],
 "metadata": {
  "kernelspec": {
   "display_name": "base",
   "language": "python",
   "name": "python3"
  },
  "language_info": {
   "codemirror_mode": {
    "name": "ipython",
    "version": 3
   },
   "file_extension": ".py",
   "mimetype": "text/x-python",
   "name": "python",
   "nbconvert_exporter": "python",
   "pygments_lexer": "ipython3",
   "version": "3.12.2"
  }
 },
 "nbformat": 4,
 "nbformat_minor": 5
}
