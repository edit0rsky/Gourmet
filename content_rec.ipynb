{
 "cells": [
  {
   "cell_type": "markdown",
   "id": "2fba0704",
   "metadata": {},
   "source": [
    "#### import"
   ]
  },
  {
   "cell_type": "code",
   "execution_count": 1,
   "id": "890713a2",
   "metadata": {},
   "outputs": [],
   "source": [
    "import json\n",
    "import numpy as np\n",
    "from collections import defaultdict\n",
    "from sklearn.preprocessing import normalize\n",
    "from sklearn.metrics import precision_score\n",
    "from tqdm import tqdm"
   ]
  },
  {
   "cell_type": "markdown",
   "id": "eb090a0f",
   "metadata": {},
   "source": [
    "### JSONL 파일에서 리뷰 로드"
   ]
  },
  {
   "cell_type": "code",
   "execution_count": null,
   "id": "a7f39936",
   "metadata": {},
   "outputs": [],
   "source": [
    "TRAIN_FILE = \"train_80.json\"\n",
    "TEST_FILE = \"test_20.json\"\n",
    "TOP_N = 5\n",
    "\n",
    "def load_reviews(path):\n",
    "    data = []\n",
    "    with open(path, encoding=\"utf-8\") as f:\n",
    "        for line in f:\n",
    "            obj = json.loads(line)\n",
    "            obj[\"vector\"] = np.array(obj[\"sentiment_vector\"])\n",
    "            data.append(obj)\n",
    "    return data\n",
    "\n",
    "train_reviews = load_reviews(TRAIN_FILE)\n",
    "test_reviews = load_reviews(TEST_FILE)"
   ]
  },
  {
   "cell_type": "markdown",
   "id": "4c57c31c",
   "metadata": {},
   "source": [
    "#### 훈련 데이터 → 벡터 평균 계산"
   ]
  },
  {
   "cell_type": "code",
   "execution_count": 3,
   "id": "bf508ba7",
   "metadata": {},
   "outputs": [],
   "source": [
    "train_reviews = load_reviews(TRAIN_FILE)\n",
    "\n",
    "user_vecs = defaultdict(list)\n",
    "biz_vecs = defaultdict(list)\n",
    "\n",
    "for r in train_reviews:\n",
    "    user_vecs[r[\"user_id\"]].append(r[\"vector\"])\n",
    "    biz_vecs[r[\"business_id\"]].append(r[\"vector\"])\n",
    "\n",
    "user_embed = {u: np.mean(vs, axis=0) for u, vs in user_vecs.items()}\n",
    "biz_embed = {b: np.mean(vs, axis=0) for b, vs in biz_vecs.items()}\n"
   ]
  },
  {
   "cell_type": "markdown",
   "id": "fbfe4eba",
   "metadata": {},
   "source": [
    "#### 정규화 후 유사도 계산"
   ]
  },
  {
   "cell_type": "code",
   "execution_count": 4,
   "id": "c2b76fb1",
   "metadata": {},
   "outputs": [],
   "source": [
    "user_ids = list(user_embed.keys())\n",
    "biz_ids = list(biz_embed.keys())\n",
    "\n",
    "user_matrix = normalize(np.stack([user_embed[u] for u in user_ids]))\n",
    "biz_matrix  = normalize(np.stack([biz_embed[b] for b in biz_ids]))\n",
    "\n",
    "scores = np.dot(user_matrix, biz_matrix.T) "
   ]
  },
  {
   "cell_type": "markdown",
   "id": "6ab5a4af",
   "metadata": {},
   "source": [
    "#### 추천 리스트 생성"
   ]
  },
  {
   "cell_type": "code",
   "execution_count": 5,
   "id": "43876ee8",
   "metadata": {},
   "outputs": [],
   "source": [
    "user2seen = defaultdict(set)\n",
    "for r in train_reviews:\n",
    "    user2seen[r[\"user_id\"]].add(r[\"business_id\"])\n",
    "\n",
    "recommendations = {}\n",
    "\n",
    "for i, uid in enumerate(user_ids):\n",
    "    user_score = scores[i]\n",
    "    ranked_idx = np.argsort(user_score)[::-1]\n",
    "\n",
    "    recs = []\n",
    "    for j in ranked_idx:\n",
    "        bid = biz_ids[j]\n",
    "        if bid not in user2seen[uid]:  # 이미 본 식당은 제외\n",
    "            recs.append(bid)\n",
    "        if len(recs) == TOP_N:\n",
    "            break\n",
    "    recommendations[uid] = recs\n"
   ]
  },
  {
   "cell_type": "markdown",
   "id": "ac660779",
   "metadata": {},
   "source": [
    "#### 평가: Ground Truth 생성"
   ]
  },
  {
   "cell_type": "code",
   "execution_count": 6,
   "id": "afb182ce",
   "metadata": {},
   "outputs": [
    {
     "ename": "NameError",
     "evalue": "name 'test_reviews' is not defined",
     "output_type": "error",
     "traceback": [
      "\u001b[31m---------------------------------------------------------------------------\u001b[39m",
      "\u001b[31mNameError\u001b[39m                                 Traceback (most recent call last)",
      "\u001b[36mCell\u001b[39m\u001b[36m \u001b[39m\u001b[32mIn[6]\u001b[39m\u001b[32m, line 2\u001b[39m\n\u001b[32m      1\u001b[39m ground_truth = defaultdict(\u001b[38;5;28mset\u001b[39m)\n\u001b[32m----> \u001b[39m\u001b[32m2\u001b[39m \u001b[38;5;28;01mfor\u001b[39;00m r \u001b[38;5;129;01min\u001b[39;00m \u001b[43mtest_reviews\u001b[49m:\n\u001b[32m      3\u001b[39m     ground_truth[r[\u001b[33m\"\u001b[39m\u001b[33muser_id\u001b[39m\u001b[33m\"\u001b[39m]].add(r[\u001b[33m\"\u001b[39m\u001b[33mbusiness_id\u001b[39m\u001b[33m\"\u001b[39m])\n",
      "\u001b[31mNameError\u001b[39m: name 'test_reviews' is not defined"
     ]
    }
   ],
   "source": [
    "ground_truth = defaultdict(set)\n",
    "for r in test_reviews:\n",
    "    ground_truth[r[\"user_id\"]].add(r[\"business_id\"])"
   ]
  },
  {
   "cell_type": "markdown",
   "id": "9dbabd76",
   "metadata": {},
   "source": [
    "#### Precision@K 계산"
   ]
  },
  {
   "cell_type": "code",
   "execution_count": null,
   "id": "462d6c07",
   "metadata": {},
   "outputs": [],
   "source": [
    "common_users = set(recommendations.keys()) & set(ground_truth.keys())\n",
    "precision_list = []\n",
    "\n",
    "for uid in common_users:\n",
    "    pred = set(recommendations[uid])\n",
    "    actual = ground_truth[uid]\n",
    "    hit = len(pred & actual)\n",
    "    precision = hit / TOP_N\n",
    "    precision_list.append(precision)"
   ]
  },
  {
   "cell_type": "markdown",
   "id": "1a2c7c0e",
   "metadata": {},
   "source": [
    "#### 결과 출력"
   ]
  },
  {
   "cell_type": "code",
   "execution_count": null,
   "id": "f77ce7fa",
   "metadata": {},
   "outputs": [],
   "source": [
    "print(f\"📌 평가 대상 유저 수: {len(common_users)}\")\n",
    "print(f\"🎯 Precision@{TOP_N}: {np.mean(precision_list):.4f}\")"
   ]
  }
 ],
 "metadata": {
  "kernelspec": {
   "display_name": "absa-env",
   "language": "python",
   "name": "python3"
  },
  "language_info": {
   "codemirror_mode": {
    "name": "ipython",
    "version": 3
   },
   "file_extension": ".py",
   "mimetype": "text/x-python",
   "name": "python",
   "nbconvert_exporter": "python",
   "pygments_lexer": "ipython3",
   "version": "3.11.11"
  }
 },
 "nbformat": 4,
 "nbformat_minor": 5
}
