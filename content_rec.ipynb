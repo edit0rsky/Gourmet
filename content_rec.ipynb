{
 "cells": [
  {
   "cell_type": "markdown",
   "id": "2fba0704",
   "metadata": {},
   "source": [
    "#### import"
   ]
  },
  {
   "cell_type": "code",
   "execution_count": 2,
   "id": "890713a2",
   "metadata": {},
   "outputs": [],
   "source": [
    "import json\n",
    "import numpy as np\n",
    "from collections import defaultdict\n",
    "from sklearn.preprocessing import normalize\n",
    "from sklearn.metrics import precision_score\n",
    "from tqdm import tqdm"
   ]
  },
  {
   "cell_type": "markdown",
   "id": "eb090a0f",
   "metadata": {},
   "source": [
    "### JSONL 파일에서 리뷰 로드"
   ]
  },
  {
   "cell_type": "code",
   "execution_count": 3,
   "id": "a7f39936",
   "metadata": {},
   "outputs": [
    {
     "ename": "FileNotFoundError",
     "evalue": "[Errno 2] No such file or directory: 'train_80.json'",
     "output_type": "error",
     "traceback": [
      "\u001b[0;31m---------------------------------------------------------------------------\u001b[0m",
      "\u001b[0;31mFileNotFoundError\u001b[0m                         Traceback (most recent call last)",
      "\u001b[1;32m/root/project/Gourmet/content_rec.ipynb Cell 4\u001b[0m line \u001b[0;36m1\n\u001b[1;32m     <a href='vscode-notebook-cell://attached-container%2B7b22636f6e7461696e65724e616d65223a222f6770752d7562756e7475222c2273657474696e6773223a7b22636f6e74657874223a226465736b746f702d6c696e7578227d7d@ssh-remote%2Bmyhome/root/project/Gourmet/content_rec.ipynb#W3sdnNjb2RlLXJlbW90ZQ%3D%3D?line=11'>12</a>\u001b[0m             data\u001b[39m.\u001b[39mappend(obj)\n\u001b[1;32m     <a href='vscode-notebook-cell://attached-container%2B7b22636f6e7461696e65724e616d65223a222f6770752d7562756e7475222c2273657474696e6773223a7b22636f6e74657874223a226465736b746f702d6c696e7578227d7d@ssh-remote%2Bmyhome/root/project/Gourmet/content_rec.ipynb#W3sdnNjb2RlLXJlbW90ZQ%3D%3D?line=12'>13</a>\u001b[0m     \u001b[39mreturn\u001b[39;00m data\n\u001b[0;32m---> <a href='vscode-notebook-cell://attached-container%2B7b22636f6e7461696e65724e616d65223a222f6770752d7562756e7475222c2273657474696e6773223a7b22636f6e74657874223a226465736b746f702d6c696e7578227d7d@ssh-remote%2Bmyhome/root/project/Gourmet/content_rec.ipynb#W3sdnNjb2RlLXJlbW90ZQ%3D%3D?line=15'>16</a>\u001b[0m train_reviews \u001b[39m=\u001b[39m load_reviews(TRAIN_FILE)\n\u001b[1;32m     <a href='vscode-notebook-cell://attached-container%2B7b22636f6e7461696e65724e616d65223a222f6770752d7562756e7475222c2273657474696e6773223a7b22636f6e74657874223a226465736b746f702d6c696e7578227d7d@ssh-remote%2Bmyhome/root/project/Gourmet/content_rec.ipynb#W3sdnNjb2RlLXJlbW90ZQ%3D%3D?line=16'>17</a>\u001b[0m test_reviews \u001b[39m=\u001b[39m load_reviews(TEST_FILE)\n",
      "\u001b[1;32m/root/project/Gourmet/content_rec.ipynb Cell 4\u001b[0m line \u001b[0;36m8\n\u001b[1;32m      <a href='vscode-notebook-cell://attached-container%2B7b22636f6e7461696e65724e616d65223a222f6770752d7562756e7475222c2273657474696e6773223a7b22636f6e74657874223a226465736b746f702d6c696e7578227d7d@ssh-remote%2Bmyhome/root/project/Gourmet/content_rec.ipynb#W3sdnNjb2RlLXJlbW90ZQ%3D%3D?line=5'>6</a>\u001b[0m \u001b[39mdef\u001b[39;00m\u001b[39m \u001b[39m\u001b[39mload_reviews\u001b[39m(path):\n\u001b[1;32m      <a href='vscode-notebook-cell://attached-container%2B7b22636f6e7461696e65724e616d65223a222f6770752d7562756e7475222c2273657474696e6773223a7b22636f6e74657874223a226465736b746f702d6c696e7578227d7d@ssh-remote%2Bmyhome/root/project/Gourmet/content_rec.ipynb#W3sdnNjb2RlLXJlbW90ZQ%3D%3D?line=6'>7</a>\u001b[0m     data \u001b[39m=\u001b[39m []\n\u001b[0;32m----> <a href='vscode-notebook-cell://attached-container%2B7b22636f6e7461696e65724e616d65223a222f6770752d7562756e7475222c2273657474696e6773223a7b22636f6e74657874223a226465736b746f702d6c696e7578227d7d@ssh-remote%2Bmyhome/root/project/Gourmet/content_rec.ipynb#W3sdnNjb2RlLXJlbW90ZQ%3D%3D?line=7'>8</a>\u001b[0m     \u001b[39mwith\u001b[39;00m \u001b[39mopen\u001b[39;49m(path, encoding\u001b[39m=\u001b[39;49m\u001b[39m\"\u001b[39;49m\u001b[39mutf-8\u001b[39;49m\u001b[39m\"\u001b[39;49m) \u001b[39mas\u001b[39;00m f:\n\u001b[1;32m      <a href='vscode-notebook-cell://attached-container%2B7b22636f6e7461696e65724e616d65223a222f6770752d7562756e7475222c2273657474696e6773223a7b22636f6e74657874223a226465736b746f702d6c696e7578227d7d@ssh-remote%2Bmyhome/root/project/Gourmet/content_rec.ipynb#W3sdnNjb2RlLXJlbW90ZQ%3D%3D?line=8'>9</a>\u001b[0m         \u001b[39mfor\u001b[39;00m line \u001b[39min\u001b[39;00m f:\n\u001b[1;32m     <a href='vscode-notebook-cell://attached-container%2B7b22636f6e7461696e65724e616d65223a222f6770752d7562756e7475222c2273657474696e6773223a7b22636f6e74657874223a226465736b746f702d6c696e7578227d7d@ssh-remote%2Bmyhome/root/project/Gourmet/content_rec.ipynb#W3sdnNjb2RlLXJlbW90ZQ%3D%3D?line=9'>10</a>\u001b[0m             obj \u001b[39m=\u001b[39m json\u001b[39m.\u001b[39mloads(line)\n",
      "File \u001b[0;32m~/project/Gourmet/.venv/lib/python3.10/site-packages/IPython/core/interactiveshell.py:324\u001b[0m, in \u001b[0;36m_modified_open\u001b[0;34m(file, *args, **kwargs)\u001b[0m\n\u001b[1;32m    317\u001b[0m \u001b[39mif\u001b[39;00m file \u001b[39min\u001b[39;00m {\u001b[39m0\u001b[39m, \u001b[39m1\u001b[39m, \u001b[39m2\u001b[39m}:\n\u001b[1;32m    318\u001b[0m     \u001b[39mraise\u001b[39;00m \u001b[39mValueError\u001b[39;00m(\n\u001b[1;32m    319\u001b[0m         \u001b[39mf\u001b[39m\u001b[39m\"\u001b[39m\u001b[39mIPython won\u001b[39m\u001b[39m'\u001b[39m\u001b[39mt let you open fd=\u001b[39m\u001b[39m{\u001b[39;00mfile\u001b[39m}\u001b[39;00m\u001b[39m by default \u001b[39m\u001b[39m\"\u001b[39m\n\u001b[1;32m    320\u001b[0m         \u001b[39m\"\u001b[39m\u001b[39mas it is likely to crash IPython. If you know what you are doing, \u001b[39m\u001b[39m\"\u001b[39m\n\u001b[1;32m    321\u001b[0m         \u001b[39m\"\u001b[39m\u001b[39myou can use builtins\u001b[39m\u001b[39m'\u001b[39m\u001b[39m open.\u001b[39m\u001b[39m\"\u001b[39m\n\u001b[1;32m    322\u001b[0m     )\n\u001b[0;32m--> 324\u001b[0m \u001b[39mreturn\u001b[39;00m io_open(file, \u001b[39m*\u001b[39;49margs, \u001b[39m*\u001b[39;49m\u001b[39m*\u001b[39;49mkwargs)\n",
      "\u001b[0;31mFileNotFoundError\u001b[0m: [Errno 2] No such file or directory: 'train_80.json'"
     ]
    }
   ],
   "source": [
    "TRAIN_FILE = \"train_80.json\"\n",
    "TEST_FILE = \"test_20.json\"\n",
    "TOP_N = 5\n",
    "\n",
    "\n",
    "def load_reviews(path):\n",
    "    data = []\n",
    "    with open(path, encoding=\"utf-8\") as f:\n",
    "        for line in f:\n",
    "            obj = json.loads(line)\n",
    "            obj[\"vector\"] = np.array(obj[\"sentiment_vector\"])\n",
    "            data.append(obj)\n",
    "    return data\n",
    "\n",
    "\n",
    "train_reviews = load_reviews(TRAIN_FILE)\n",
    "test_reviews = load_reviews(TEST_FILE)"
   ]
  },
  {
   "cell_type": "markdown",
   "id": "4c57c31c",
   "metadata": {},
   "source": [
    "#### 훈련 데이터 → 벡터 평균 계산"
   ]
  },
  {
   "cell_type": "code",
   "execution_count": 3,
   "id": "bf508ba7",
   "metadata": {},
   "outputs": [],
   "source": [
    "train_reviews = load_reviews(TRAIN_FILE)\n",
    "\n",
    "user_vecs = defaultdict(list)\n",
    "biz_vecs = defaultdict(list)\n",
    "\n",
    "for r in train_reviews:\n",
    "    user_vecs[r[\"user_id\"]].append(r[\"vector\"])\n",
    "    biz_vecs[r[\"business_id\"]].append(r[\"vector\"])\n",
    "\n",
    "user_embed = {u: np.mean(vs, axis=0) for u, vs in user_vecs.items()}\n",
    "biz_embed = {b: np.mean(vs, axis=0) for b, vs in biz_vecs.items()}"
   ]
  },
  {
   "cell_type": "markdown",
   "id": "fbfe4eba",
   "metadata": {},
   "source": [
    "#### 정규화 후 유사도 계산"
   ]
  },
  {
   "cell_type": "code",
   "execution_count": 4,
   "id": "c2b76fb1",
   "metadata": {},
   "outputs": [],
   "source": [
    "user_ids = list(user_embed.keys())\n",
    "biz_ids = list(biz_embed.keys())\n",
    "\n",
    "user_matrix = normalize(np.stack([user_embed[u] for u in user_ids]))\n",
    "biz_matrix = normalize(np.stack([biz_embed[b] for b in biz_ids]))\n",
    "\n",
    "scores = np.dot(user_matrix, biz_matrix.T)"
   ]
  },
  {
   "cell_type": "markdown",
   "id": "6ab5a4af",
   "metadata": {},
   "source": [
    "#### 추천 리스트 생성"
   ]
  },
  {
   "cell_type": "code",
   "execution_count": 5,
   "id": "43876ee8",
   "metadata": {},
   "outputs": [],
   "source": [
    "user2seen = defaultdict(set)\n",
    "for r in train_reviews:\n",
    "    user2seen[r[\"user_id\"]].add(r[\"business_id\"])\n",
    "\n",
    "recommendations = {}\n",
    "\n",
    "for i, uid in enumerate(user_ids):\n",
    "    user_score = scores[i]\n",
    "    ranked_idx = np.argsort(user_score)[::-1]\n",
    "\n",
    "    recs = []\n",
    "    for j in ranked_idx:\n",
    "        bid = biz_ids[j]\n",
    "        if bid not in user2seen[uid]:  # 이미 본 식당은 제외\n",
    "            recs.append(bid)\n",
    "        if len(recs) == TOP_N:\n",
    "            break\n",
    "    recommendations[uid] = recs"
   ]
  },
  {
   "cell_type": "markdown",
   "id": "ac660779",
   "metadata": {},
   "source": [
    "#### 평가: Ground Truth 생성"
   ]
  },
  {
   "cell_type": "code",
   "execution_count": 6,
   "id": "afb182ce",
   "metadata": {},
   "outputs": [
    {
     "ename": "NameError",
     "evalue": "name 'test_reviews' is not defined",
     "output_type": "error",
     "traceback": [
      "\u001b[31m---------------------------------------------------------------------------\u001b[39m",
      "\u001b[31mNameError\u001b[39m                                 Traceback (most recent call last)",
      "\u001b[36mCell\u001b[39m\u001b[36m \u001b[39m\u001b[32mIn[6]\u001b[39m\u001b[32m, line 2\u001b[39m\n\u001b[32m      1\u001b[39m ground_truth = defaultdict(\u001b[38;5;28mset\u001b[39m)\n\u001b[32m----> \u001b[39m\u001b[32m2\u001b[39m \u001b[38;5;28;01mfor\u001b[39;00m r \u001b[38;5;129;01min\u001b[39;00m \u001b[43mtest_reviews\u001b[49m:\n\u001b[32m      3\u001b[39m     ground_truth[r[\u001b[33m\"\u001b[39m\u001b[33muser_id\u001b[39m\u001b[33m\"\u001b[39m]].add(r[\u001b[33m\"\u001b[39m\u001b[33mbusiness_id\u001b[39m\u001b[33m\"\u001b[39m])\n",
      "\u001b[31mNameError\u001b[39m: name 'test_reviews' is not defined"
     ]
    }
   ],
   "source": [
    "ground_truth = defaultdict(set)\n",
    "for r in test_reviews:\n",
    "    ground_truth[r[\"user_id\"]].add(r[\"business_id\"])"
   ]
  },
  {
   "cell_type": "markdown",
   "id": "9dbabd76",
   "metadata": {},
   "source": [
    "#### Precision@K 계산"
   ]
  },
  {
   "cell_type": "code",
   "execution_count": null,
   "id": "462d6c07",
   "metadata": {},
   "outputs": [],
   "source": [
    "common_users = set(recommendations.keys()) & set(ground_truth.keys())\n",
    "precision_list = []\n",
    "\n",
    "for uid in common_users:\n",
    "    pred = set(recommendations[uid])\n",
    "    actual = ground_truth[uid]\n",
    "    hit = len(pred & actual)\n",
    "    precision = hit / TOP_N\n",
    "    precision_list.append(precision)"
   ]
  },
  {
   "cell_type": "markdown",
   "id": "1a2c7c0e",
   "metadata": {},
   "source": [
    "#### 결과 출력"
   ]
  },
  {
   "cell_type": "code",
   "execution_count": null,
   "id": "f77ce7fa",
   "metadata": {},
   "outputs": [],
   "source": [
    "print(f\"📌 평가 대상 유저 수: {len(common_users)}\")\n",
    "print(f\"🎯 Precision@{TOP_N}: {np.mean(precision_list):.4f}\")"
   ]
  }
 ],
 "metadata": {
  "kernelspec": {
   "display_name": "absa-env",
   "language": "python",
   "name": "python3"
  },
  "language_info": {
   "codemirror_mode": {
    "name": "ipython",
    "version": 3
   },
   "file_extension": ".py",
   "mimetype": "text/x-python",
   "name": "python",
   "nbconvert_exporter": "python",
   "pygments_lexer": "ipython3",
   "version": "3.11.11"
  }
 },
 "nbformat": 4,
 "nbformat_minor": 5
}
