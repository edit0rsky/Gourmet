{
 "cells": [
  {
   "cell_type": "markdown",
   "id": "b36f2795",
   "metadata": {},
   "source": [
    "# 최종"
   ]
  },
  {
   "cell_type": "markdown",
   "id": "544b72d2",
   "metadata": {},
   "source": [
    "# business.json\n",
    "- PA 지역 Philadelphia 도시\n",
    "- 필요없는 column 제거\n",
    "- 음식점 카테고리만 선택"
   ]
  },
  {
   "cell_type": "code",
   "execution_count": 136,
   "id": "77350632",
   "metadata": {},
   "outputs": [],
   "source": [
    "import pandas as pd\n",
    "import json\n",
    "\n",
    "# JSON Lines 형식으로 business.json 불러오기\n",
    "df_B = pd.read_json(\"yelp_academic_dataset_business.json\", lines=True)"
   ]
  },
  {
   "cell_type": "code",
   "execution_count": 147,
   "id": "05f12430",
   "metadata": {},
   "outputs": [],
   "source": [
    "business_df=df_B.copy()"
   ]
  },
  {
   "cell_type": "code",
   "execution_count": 148,
   "id": "2545c93d",
   "metadata": {},
   "outputs": [],
   "source": [
    "# 제거할 컬럼 목록\n",
    "drop_cols = ['postal_code', 'latitude', 'longitude', 'attributes', 'hours']\n",
    "\n",
    "# 컬럼 제거\n",
    "business_df = business_df.drop(columns=drop_cols)\n",
    "\n",
    "# \"city\" 컬럼 내 값을 통일: Philadelphia 관련은 모두 \"Philadelphia\"로 변경\n",
    "business_df.loc[business_df['city'].str.lower().str.contains(\"philadelphia\", na=False),'city'] = \"Philadelphia\"\n",
    "\n",
    "# 카테고리 불러오기 함수\n",
    "def load_categories(file_path):\n",
    "    with open(file_path, \"r\", encoding=\"utf-8\") as f:\n",
    "        return set(line.strip() for line in f if line.strip())\n",
    "\n",
    "# 파일 경로\n",
    "food_path = \"food.txt\"\n",
    "restaurant_path = \"restaurant.txt\"\n",
    "\n",
    "# 타겟 카테고리 준비\n",
    "food_categories = load_categories(food_path)\n",
    "restaurant_categories = load_categories(restaurant_path)\n",
    "target_categories = food_categories.union(restaurant_categories)\n",
    "\n",
    "# 필터링 함수\n",
    "def category_match(row):\n",
    "    if isinstance(row, str):\n",
    "        biz_categories = set(cat.strip() for cat in row.split(\",\"))\n",
    "        return bool(biz_categories & target_categories)\n",
    "    return False\n",
    "\n",
    "# ✅ 필터링 적용\n",
    "business_food_df = business_df[business_df[\"categories\"].apply(category_match)]\n",
    "\n",
    "# 가장 많은 state 값 구하기 - PA\n",
    "top_state = business_food_df['state'].value_counts().idxmax()\n",
    "business_pa_df = business_food_df[business_food_df['state'] == top_state]\n",
    "business_paph_df = business_pa_df[business_pa_df['city'] == \"Philadelphia\"]"
   ]
  },
  {
   "cell_type": "code",
   "execution_count": 167,
   "id": "59b8b0d2",
   "metadata": {},
   "outputs": [
    {
     "name": "stdout",
     "output_type": "stream",
     "text": [
      "✅ 총 6911개 항목이 'business.json'에 저장되었습니다.\n"
     ]
    }
   ],
   "source": [
    "output_path = \"business.json\"\n",
    "\n",
    "# ✅ JSON Lines 형식으로 저장\n",
    "business_paph_df.to_json(output_path, orient=\"records\", lines=True, force_ascii=False)\n",
    "\n",
    "print(f\"✅ 총 {len(business_paph_df)}개 항목이 '{output_path}'에 저장되었습니다.\")"
   ]
  },
  {
   "cell_type": "markdown",
   "id": "582fe793",
   "metadata": {},
   "source": [
    "# review.json\n",
    "- PA 지역 philadelphia 도시\n",
    "- 필요없는 column 제거\n",
    "- 선호도 평점 -> 감성분석 (1,2 부정 | 3 중립 | 4,5 긍정)"
   ]
  },
  {
   "cell_type": "code",
   "execution_count": 141,
   "id": "d74a62d7",
   "metadata": {},
   "outputs": [],
   "source": [
    "import pandas as pd\n",
    "\n",
    "# 파일 경로\n",
    "file_path = \"yelp_academic_dataset_review.json\"\n",
    "\n",
    "# chunk 단위로 전체 데이터 읽고 합치기\n",
    "chunk_size = 100000\n",
    "chunks = pd.read_json(file_path, lines=True, chunksize=chunk_size)\n",
    "\n",
    "# 모든 chunk를 리스트에 담아서 연결\n",
    "df_r = pd.concat(chunk for chunk in chunks)"
   ]
  },
  {
   "cell_type": "code",
   "execution_count": 159,
   "id": "24f55bc9",
   "metadata": {},
   "outputs": [],
   "source": [
    "df_review = df_r.copy()"
   ]
  },
  {
   "cell_type": "code",
   "execution_count": 160,
   "id": "7690f3ac",
   "metadata": {},
   "outputs": [],
   "source": [
    "import pandas as pd\n",
    "import json\n",
    "\n",
    "# PA - Philadelphia 리뷰\n",
    "business_ids = set(business_paph_df[\"business_id\"])\n",
    "\n",
    "# business_id 기준 필터링\n",
    "df_review = df_review[df_review[\"business_id\"].isin(business_ids)]\n",
    "\n",
    "# funny와 cool 컬럼 제거\n",
    "df_review = df_review.drop(columns=[\"funny\", \"cool\"])"
   ]
  },
  {
   "cell_type": "code",
   "execution_count": 162,
   "id": "276fb946",
   "metadata": {},
   "outputs": [],
   "source": [
    "# 감성 분류 함수 정의\n",
    "def classify_sentiment(stars):\n",
    "    if stars in [1, 2]:\n",
    "        return 'Negative'\n",
    "    elif stars == 3:\n",
    "        return 'Neutral'\n",
    "    elif stars in [4, 5]:\n",
    "        return 'Positive'\n",
    "    else:\n",
    "        return 'Unknown'\n",
    "    \n",
    "df_review['sentiment'] = df_review['stars'].apply(classify_sentiment)"
   ]
  },
  {
   "cell_type": "code",
   "execution_count": 168,
   "id": "5cb6f080",
   "metadata": {},
   "outputs": [],
   "source": [
    "df_review.to_json(\"review.json\", orient=\"records\", lines=True, force_ascii=False)"
   ]
  },
  {
   "cell_type": "markdown",
   "id": "b0b8bcf5",
   "metadata": {},
   "source": [
    "# user.json\n",
    "- 필요 없는 column 제거\n",
    "- PA지역 Philadelphia 도시에 review 5개 이상 작성한 사용자"
   ]
  },
  {
   "cell_type": "code",
   "execution_count": 156,
   "id": "93c47c7d",
   "metadata": {},
   "outputs": [],
   "source": [
    "import pandas as pd\n",
    "\n",
    "# 파일 경로 설정\n",
    "file_path = \"yelp_academic_dataset_user.json\"\n",
    "\n",
    "# 1. chunk 단위로 불러오기\n",
    "chunks = pd.read_json(file_path, lines=True, chunksize=100000)\n",
    "\n",
    "# 2. 모든 chunk 읽고 합치기\n",
    "df_u = pd.concat(chunk for chunk in chunks)"
   ]
  },
  {
   "cell_type": "code",
   "execution_count": 157,
   "id": "ccebfced",
   "metadata": {},
   "outputs": [
    {
     "name": "stdout",
     "output_type": "stream",
     "text": [
      "<class 'pandas.core.frame.DataFrame'>\n",
      "RangeIndex: 1987897 entries, 0 to 1987896\n",
      "Data columns (total 22 columns):\n",
      " #   Column              Dtype  \n",
      "---  ------              -----  \n",
      " 0   user_id             object \n",
      " 1   name                object \n",
      " 2   review_count        int64  \n",
      " 3   yelping_since       object \n",
      " 4   useful              int64  \n",
      " 5   funny               int64  \n",
      " 6   cool                int64  \n",
      " 7   elite               object \n",
      " 8   friends             object \n",
      " 9   fans                int64  \n",
      " 10  average_stars       float64\n",
      " 11  compliment_hot      int64  \n",
      " 12  compliment_more     int64  \n",
      " 13  compliment_profile  int64  \n",
      " 14  compliment_cute     int64  \n",
      " 15  compliment_list     int64  \n",
      " 16  compliment_note     int64  \n",
      " 17  compliment_plain    int64  \n",
      " 18  compliment_cool     int64  \n",
      " 19  compliment_funny    int64  \n",
      " 20  compliment_writer   int64  \n",
      " 21  compliment_photos   int64  \n",
      "dtypes: float64(1), int64(16), object(5)\n",
      "memory usage: 333.7+ MB\n"
     ]
    }
   ],
   "source": [
    "df_user = df_u.copy()\n",
    "df_user.info()"
   ]
  },
  {
   "cell_type": "code",
   "execution_count": null,
   "id": "f74e104d",
   "metadata": {},
   "outputs": [],
   "source": [
    "# 제거할 컬럼 리스트\n",
    "drop_columns = [\n",
    "    \"yelping_since\", \"funny\", \"cool\", \"elite\", \"friends\", \"fans\", \n",
    "    \"compliment_hot\", \"compliment_more\", \"compliment_profile\", \"compliment_cute\",\n",
    "    \"compliment_list\", \"compliment_note\", \"compliment_plain\", \"compliment_cool\",\n",
    "    \"compliment_funny\", \"compliment_writer\", \"compliment_photos\"\n",
    "]\n",
    "\n",
    "# 제거 수행\n",
    "df_user = df_user.drop(columns=drop_columns)\n",
    "\n",
    "# user_id별 PA-Philadelphia 리뷰 수 세기\n",
    "review_counts = df_review['user_id'].value_counts()\n",
    "\n",
    "# 리뷰가 5개 이상인 user_id만 추출\n",
    "user_ids_5plus = review_counts[review_counts >= 5].index\n",
    "\n",
    "# df_user에서 해당 user_id에 해당하는 사용자 정보만 필터링\n",
    "df_user = df_user[df_user['user_id'].isin(user_ids_5plus)]"
   ]
  },
  {
   "cell_type": "code",
   "execution_count": 165,
   "id": "02986686",
   "metadata": {},
   "outputs": [
    {
     "name": "stdout",
     "output_type": "stream",
     "text": [
      "<class 'pandas.core.frame.DataFrame'>\n",
      "Index: 28518 entries, 1 to 1908265\n",
      "Data columns (total 5 columns):\n",
      " #   Column         Non-Null Count  Dtype  \n",
      "---  ------         --------------  -----  \n",
      " 0   user_id        28518 non-null  object \n",
      " 1   name           28518 non-null  object \n",
      " 2   review_count   28518 non-null  int64  \n",
      " 3   useful         28518 non-null  int64  \n",
      " 4   average_stars  28518 non-null  float64\n",
      "dtypes: float64(1), int64(2), object(2)\n",
      "memory usage: 1.3+ MB\n"
     ]
    }
   ],
   "source": [
    "df_user.info()"
   ]
  },
  {
   "cell_type": "code",
   "execution_count": 166,
   "id": "413a074a",
   "metadata": {},
   "outputs": [],
   "source": [
    "df_user.to_json(\"user.json\", orient=\"records\", lines=True, force_ascii=False)"
   ]
  }
 ],
 "metadata": {
  "kernelspec": {
   "display_name": "base",
   "language": "python",
   "name": "python3"
  },
  "language_info": {
   "codemirror_mode": {
    "name": "ipython",
    "version": 3
   },
   "file_extension": ".py",
   "mimetype": "text/x-python",
   "name": "python",
   "nbconvert_exporter": "python",
   "pygments_lexer": "ipython3",
   "version": "3.12.2"
  }
 },
 "nbformat": 4,
 "nbformat_minor": 5
}
