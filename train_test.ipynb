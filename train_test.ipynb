{
 "cells": [
  {
   "cell_type": "markdown",
   "id": "bb9fb2e2",
   "metadata": {},
   "source": [
    "#### 감성분석 결과에 유저ID, 식당ID 추가"
   ]
  },
  {
   "cell_type": "code",
   "execution_count": 3,
   "id": "9f8d1a39",
   "metadata": {},
   "outputs": [
    {
     "ename": "FileNotFoundError",
     "evalue": "[Errno 2] No such file or directory: '/dataset/review_5up.json'",
     "output_type": "error",
     "traceback": [
      "\u001b[0;31m---------------------------------------------------------------------------\u001b[0m",
      "\u001b[0;31mFileNotFoundError\u001b[0m                         Traceback (most recent call last)",
      "\u001b[1;32m/root/project/Gourmet/train_test.ipynb Cell 2\u001b[0m line \u001b[0;36m1\n\u001b[1;32m      <a href='vscode-notebook-cell://attached-container%2B7b22636f6e7461696e65724e616d65223a222f6770752d7562756e7475222c2273657474696e6773223a7b22636f6e74657874223a226465736b746f702d6c696e7578227d7d@ssh-remote%2Bmyhome/root/project/Gourmet/train_test.ipynb#W1sdnNjb2RlLXJlbW90ZQ%3D%3D?line=7'>8</a>\u001b[0m \u001b[39m# 전체 리뷰 데이터에서 review_id → (user_id, business_id) 맵 생성\u001b[39;00m\n\u001b[1;32m      <a href='vscode-notebook-cell://attached-container%2B7b22636f6e7461696e65724e616d65223a222f6770752d7562756e7475222c2273657474696e6773223a7b22636f6e74657874223a226465736b746f702d6c696e7578227d7d@ssh-remote%2Bmyhome/root/project/Gourmet/train_test.ipynb#W1sdnNjb2RlLXJlbW90ZQ%3D%3D?line=8'>9</a>\u001b[0m id_map \u001b[39m=\u001b[39m {}\n\u001b[0;32m---> <a href='vscode-notebook-cell://attached-container%2B7b22636f6e7461696e65724e616d65223a222f6770752d7562756e7475222c2273657474696e6773223a7b22636f6e74657874223a226465736b746f702d6c696e7578227d7d@ssh-remote%2Bmyhome/root/project/Gourmet/train_test.ipynb#W1sdnNjb2RlLXJlbW90ZQ%3D%3D?line=10'>11</a>\u001b[0m \u001b[39mwith\u001b[39;00m \u001b[39mopen\u001b[39;49m(full_data_file, \u001b[39m\"\u001b[39;49m\u001b[39mr\u001b[39;49m\u001b[39m\"\u001b[39;49m, encoding\u001b[39m=\u001b[39;49m\u001b[39m\"\u001b[39;49m\u001b[39mutf-8\u001b[39;49m\u001b[39m\"\u001b[39;49m) \u001b[39mas\u001b[39;00m f:\n\u001b[1;32m     <a href='vscode-notebook-cell://attached-container%2B7b22636f6e7461696e65724e616d65223a222f6770752d7562756e7475222c2273657474696e6773223a7b22636f6e74657874223a226465736b746f702d6c696e7578227d7d@ssh-remote%2Bmyhome/root/project/Gourmet/train_test.ipynb#W1sdnNjb2RlLXJlbW90ZQ%3D%3D?line=11'>12</a>\u001b[0m     \u001b[39mfor\u001b[39;00m line \u001b[39min\u001b[39;00m f:\n\u001b[1;32m     <a href='vscode-notebook-cell://attached-container%2B7b22636f6e7461696e65724e616d65223a222f6770752d7562756e7475222c2273657474696e6773223a7b22636f6e74657874223a226465736b746f702d6c696e7578227d7d@ssh-remote%2Bmyhome/root/project/Gourmet/train_test.ipynb#W1sdnNjb2RlLXJlbW90ZQ%3D%3D?line=12'>13</a>\u001b[0m         obj \u001b[39m=\u001b[39m json\u001b[39m.\u001b[39mloads(line)\n",
      "File \u001b[0;32m~/project/Gourmet/.venv/lib/python3.10/site-packages/IPython/core/interactiveshell.py:324\u001b[0m, in \u001b[0;36m_modified_open\u001b[0;34m(file, *args, **kwargs)\u001b[0m\n\u001b[1;32m    317\u001b[0m \u001b[39mif\u001b[39;00m file \u001b[39min\u001b[39;00m {\u001b[39m0\u001b[39m, \u001b[39m1\u001b[39m, \u001b[39m2\u001b[39m}:\n\u001b[1;32m    318\u001b[0m     \u001b[39mraise\u001b[39;00m \u001b[39mValueError\u001b[39;00m(\n\u001b[1;32m    319\u001b[0m         \u001b[39mf\u001b[39m\u001b[39m\"\u001b[39m\u001b[39mIPython won\u001b[39m\u001b[39m'\u001b[39m\u001b[39mt let you open fd=\u001b[39m\u001b[39m{\u001b[39;00mfile\u001b[39m}\u001b[39;00m\u001b[39m by default \u001b[39m\u001b[39m\"\u001b[39m\n\u001b[1;32m    320\u001b[0m         \u001b[39m\"\u001b[39m\u001b[39mas it is likely to crash IPython. If you know what you are doing, \u001b[39m\u001b[39m\"\u001b[39m\n\u001b[1;32m    321\u001b[0m         \u001b[39m\"\u001b[39m\u001b[39myou can use builtins\u001b[39m\u001b[39m'\u001b[39m\u001b[39m open.\u001b[39m\u001b[39m\"\u001b[39m\n\u001b[1;32m    322\u001b[0m     )\n\u001b[0;32m--> 324\u001b[0m \u001b[39mreturn\u001b[39;00m io_open(file, \u001b[39m*\u001b[39;49margs, \u001b[39m*\u001b[39;49m\u001b[39m*\u001b[39;49mkwargs)\n",
      "\u001b[0;31mFileNotFoundError\u001b[0m: [Errno 2] No such file or directory: '/dataset/review_5up.json'"
     ]
    }
   ],
   "source": [
    "import json\n",
    "from tqdm import tqdm\n",
    "\n",
    "# 파일 경로\n",
    "full_data_file = \"/dataset/review_5up.json\"\n",
    "target_file = \"/dataset/review_5up_5aspect_3sentiment.jsonl\"\n",
    "output_file = \"/dataset/review_5up_5aspect_3sentiment_with_ids.jsonl\"\n",
    "# 전체 리뷰 데이터에서 review_id → (user_id, business_id) 맵 생성\n",
    "id_map = {}\n",
    "\n",
    "with open(full_data_file, \"r\", encoding=\"utf-8\") as f:\n",
    "    for line in f:\n",
    "        obj = json.loads(line)\n",
    "        rid = obj.get(\"review_id\")\n",
    "        if rid:\n",
    "            id_map[rid] = {\n",
    "                \"user_id\": obj.get(\"user_id\"),\n",
    "                \"business_id\": obj.get(\"business_id\"),\n",
    "            }\n",
    "\n",
    "print(f\" 전체 리뷰에서 매핑된 review_id 수: {len(id_map)}\")\n",
    "\n",
    "# 2. 대상 파일 읽고 user_id, business_id 추가\n",
    "updated = []\n",
    "missing = []\n",
    "\n",
    "with open(target_file, \"r\", encoding=\"utf-8\") as f:\n",
    "    for line in tqdm(f, desc=\"🔄 ID 추가 중\"):\n",
    "        obj = json.loads(line)\n",
    "        rid = obj.get(\"review_id\")\n",
    "        if rid in id_map:\n",
    "            obj.update(id_map[rid])  # user_id, business_id 추가\n",
    "            updated.append(obj)\n",
    "        else:\n",
    "            missing.append(obj)  # 매칭 안 되는 경우 따로 보관\n",
    "\n",
    "# 3. 결과 저장\n",
    "with open(output_file, \"w\", encoding=\"utf-8\") as f:\n",
    "    for obj in updated:\n",
    "        f.write(json.dumps(obj, ensure_ascii=False) + \"\\n\")\n",
    "\n",
    "print(f\" 저장 완료: 총 {len(updated)}건 → {output_file}\")\n",
    "if missing:\n",
    "    print(f\" 매칭 안된 리뷰 수: {len(missing)}\")"
   ]
  },
  {
   "cell_type": "markdown",
   "id": "fcfcd322",
   "metadata": {},
   "source": [
    "#### 추천형식에 맞게 변환"
   ]
  },
  {
   "cell_type": "code",
   "execution_count": 11,
   "id": "463888b3",
   "metadata": {},
   "outputs": [
    {
     "name": "stdout",
     "output_type": "stream",
     "text": [
      "✅ 완료: text와 sentiment 제거 후 저장 → review_5up_5aspect_3sentiment_vectorized_clean.json\n"
     ]
    }
   ],
   "source": [
    "import json\n",
    "\n",
    "input_file = \"review_5up_5aspect_3sentiment_with_ids.json\"\n",
    "output_file = \"review_5up_5aspect_3sentiment_vectorized_clean.json\"\n",
    "\n",
    "\n",
    "def sentiment_to_vector(sentiment_dict):\n",
    "    aspects = [\"food\", \"service\", \"price\", \"ambience\", \"location\"]\n",
    "    polarities = [\"Negative\", \"Neutral\", \"Positive\"]\n",
    "    vector = []\n",
    "    for asp in aspects:\n",
    "        scores = sentiment_dict.get(asp, {}).get(\"scores\", {})\n",
    "        for pol in polarities:\n",
    "            vector.append(scores.get(pol, 0.0))\n",
    "    return vector\n",
    "\n",
    "\n",
    "with open(input_file, \"r\", encoding=\"utf-8\") as fin, open(\n",
    "    output_file, \"w\", encoding=\"utf-8\"\n",
    ") as fout:\n",
    "\n",
    "    for line in fin:\n",
    "        obj = json.loads(line)\n",
    "\n",
    "        # 벡터 생성\n",
    "        sentiment_vec = sentiment_to_vector(obj.get(\"sentiment\", {}))\n",
    "\n",
    "        # 필요한 필드만 추출 및 재구성\n",
    "        cleaned = {\n",
    "            \"review_id\": obj.get(\"review_id\"),\n",
    "            \"user_id\": obj.get(\"user_id\"),\n",
    "            \"business_id\": obj.get(\"business_id\"),\n",
    "            \"sentiment_vector\": sentiment_vec,\n",
    "        }\n",
    "\n",
    "        fout.write(json.dumps(cleaned, ensure_ascii=False) + \"\\n\")\n",
    "\n",
    "print(f\"✅ 완료: text와 sentiment 제거 후 저장 → {output_file}\")"
   ]
  },
  {
   "cell_type": "markdown",
   "id": "642c158e",
   "metadata": {},
   "source": [
    "#### 유저별 평균 리뷰수 확인"
   ]
  },
  {
   "cell_type": "code",
   "execution_count": 12,
   "id": "cc58c7b3",
   "metadata": {},
   "outputs": [
    {
     "name": "stdout",
     "output_type": "stream",
     "text": [
      "📊 총 유저 수: 28518\n",
      "📝 총 리뷰 수: 452505\n",
      "📈 유저당 평균 리뷰 수: 15.87\n"
     ]
    }
   ],
   "source": [
    "import json\n",
    "from collections import defaultdict\n",
    "\n",
    "# 파일 경로\n",
    "INPUT_FILE = \"review_5up_5aspect_3sentiment_vectorized_clean.json\"\n",
    "\n",
    "# 유저별 리뷰 수 저장\n",
    "user_review_counts = defaultdict(int)\n",
    "\n",
    "# 데이터 로딩\n",
    "with open(INPUT_FILE, \"r\", encoding=\"utf-8\") as f:\n",
    "    for line in f:\n",
    "        review = json.loads(line)\n",
    "        user_id = review[\"user_id\"]\n",
    "        user_review_counts[user_id] += 1\n",
    "\n",
    "# 통계 계산\n",
    "total_users = len(user_review_counts)\n",
    "total_reviews = sum(user_review_counts.values())\n",
    "avg_reviews_per_user = total_reviews / total_users\n",
    "\n",
    "print(f\"📊 총 유저 수: {total_users}\")\n",
    "print(f\"📝 총 리뷰 수: {total_reviews}\")\n",
    "print(f\"📈 유저당 평균 리뷰 수: {avg_reviews_per_user:.2f}\")"
   ]
  },
  {
   "cell_type": "markdown",
   "id": "ef9d2669",
   "metadata": {},
   "source": [
    "#### 훈련 80% / 평가20% 로 분할"
   ]
  },
  {
   "cell_type": "code",
   "execution_count": 1,
   "id": "0e2a6cd2",
   "metadata": {},
   "outputs": [
    {
     "name": "stderr",
     "output_type": "stream",
     "text": [
      "20% 비율로 분할 중: 100%|██████████| 28518/28518 [00:00<00:00, 95792.22it/s]\n"
     ]
    },
    {
     "name": "stdout",
     "output_type": "stream",
     "text": [
      "✅ 훈련 데이터 개수: 351054\n",
      "✅ 평가 데이터 개수: 101451\n",
      "📊 사용자 수: 28518\n"
     ]
    }
   ],
   "source": [
    "import json\n",
    "import math\n",
    "from collections import defaultdict\n",
    "from tqdm import tqdm\n",
    "\n",
    "# 설정\n",
    "INPUT_FILE = \"review_5up_5aspect_3sentiment_vectorized_clean.json\"\n",
    "TRAIN_FILE = \"train_80.json\"\n",
    "TEST_FILE = \"test_20.json\"\n",
    "MIN_REVIEWS = 5\n",
    "\n",
    "# 유저별 리뷰 모으기\n",
    "user_reviews = defaultdict(list)\n",
    "\n",
    "with open(INPUT_FILE, encoding=\"utf-8\") as f:\n",
    "    for line in f:\n",
    "        review = json.loads(line)\n",
    "        user_reviews[review[\"user_id\"]].append(review)\n",
    "\n",
    "# 분할\n",
    "train_data, test_data = [], []\n",
    "\n",
    "for uid, reviews in tqdm(user_reviews.items(), desc=\"20% 비율로 분할 중\"):\n",
    "    if len(reviews) < MIN_REVIEWS:\n",
    "        continue\n",
    "\n",
    "    # 시간순 정렬 ('date' 키가 없으면 'review_id' 등으로 대체 가능)\n",
    "    sorted_reviews = sorted(reviews, key=lambda x: x.get(\"date\", x.get(\"review_id\")))\n",
    "\n",
    "    k = max(1, math.ceil(len(reviews) * 0.2))  # 최소 1개는 평가용\n",
    "    train_data.extend(sorted_reviews[:-k])\n",
    "    test_data.extend(sorted_reviews[-k:])\n",
    "\n",
    "# 저장\n",
    "with open(TRAIN_FILE, \"w\", encoding=\"utf-8\") as f:\n",
    "    for r in train_data:\n",
    "        f.write(json.dumps(r, ensure_ascii=False) + \"\\n\")\n",
    "\n",
    "with open(TEST_FILE, \"w\", encoding=\"utf-8\") as f:\n",
    "    for r in test_data:\n",
    "        f.write(json.dumps(r, ensure_ascii=False) + \"\\n\")\n",
    "\n",
    "print(f\"✅ 훈련 데이터 개수: {len(train_data)}\")\n",
    "print(f\"✅ 평가 데이터 개수: {len(test_data)}\")\n",
    "print(f\"📊 사용자 수: {len(user_reviews)}\")"
   ]
  },
  {
   "cell_type": "code",
   "execution_count": 3,
   "id": "98438210",
   "metadata": {},
   "outputs": [
    {
     "name": "stdout",
     "output_type": "stream",
     "text": [
      "👥 훈련 데이터의 유저 수: 28518\n",
      "🧪 평가 데이터의 유저 수: 28518\n"
     ]
    }
   ],
   "source": [
    "import json\n",
    "\n",
    "\n",
    "def count_unique_users(file_path):\n",
    "    user_set = set()\n",
    "    with open(file_path, encoding=\"utf-8\") as f:\n",
    "        for line in f:\n",
    "            review = json.loads(line)\n",
    "            user_set.add(review[\"user_id\"])\n",
    "    return len(user_set)\n",
    "\n",
    "\n",
    "train_file = \"train_80.json\"\n",
    "test_file = \"test_20.json\"\n",
    "\n",
    "train_user_count = count_unique_users(train_file)\n",
    "test_user_count = count_unique_users(test_file)\n",
    "\n",
    "print(f\"👥 훈련 데이터의 유저 수: {train_user_count}\")\n",
    "print(f\"🧪 평가 데이터의 유저 수: {test_user_count}\")"
   ]
  }
 ],
 "metadata": {
  "kernelspec": {
   "display_name": "absa-env",
   "language": "python",
   "name": "python3"
  },
  "language_info": {
   "codemirror_mode": {
    "name": "ipython",
    "version": 3
   },
   "file_extension": ".py",
   "mimetype": "text/x-python",
   "name": "python",
   "nbconvert_exporter": "python",
   "pygments_lexer": "ipython3",
   "version": "3.11.11"
  }
 },
 "nbformat": 4,
 "nbformat_minor": 5
}
