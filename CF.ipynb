{
 "cells": [
  {
   "cell_type": "code",
   "execution_count": null,
   "id": "36857c71",
   "metadata": {},
   "outputs": [
    {
     "ename": "FileNotFoundError",
     "evalue": "[Errno 2] No such file or directory: 'train_data.json'",
     "output_type": "error",
     "traceback": [
      "\u001b[31m---------------------------------------------------------------------------\u001b[39m",
      "\u001b[31mFileNotFoundError\u001b[39m                         Traceback (most recent call last)",
      "\u001b[36mCell\u001b[39m\u001b[36m \u001b[39m\u001b[32mIn[2]\u001b[39m\u001b[32m, line 17\u001b[39m\n\u001b[32m     14\u001b[39m     \u001b[38;5;28;01mreturn\u001b[39;00m data\n\u001b[32m     16\u001b[39m \u001b[38;5;66;03m# 2. 훈련 데이터 로드 및 변환\u001b[39;00m\n\u001b[32m---> \u001b[39m\u001b[32m17\u001b[39m train_data = \u001b[43mload_data\u001b[49m\u001b[43m(\u001b[49m\u001b[33;43m'\u001b[39;49m\u001b[33;43mtrain_data.json\u001b[39;49m\u001b[33;43m'\u001b[39;49m\u001b[43m)\u001b[49m\n\u001b[32m     18\u001b[39m train_df = pd.DataFrame(train_data, columns=[\u001b[33m'\u001b[39m\u001b[33muser_id\u001b[39m\u001b[33m'\u001b[39m, \u001b[33m'\u001b[39m\u001b[33mbusiness_id\u001b[39m\u001b[33m'\u001b[39m, \u001b[33m'\u001b[39m\u001b[33mstars\u001b[39m\u001b[33m'\u001b[39m])\n\u001b[32m     20\u001b[39m \u001b[38;5;66;03m# 3. 평가 데이터 로드 및 변환\u001b[39;00m\n",
      "\u001b[36mCell\u001b[39m\u001b[36m \u001b[39m\u001b[32mIn[2]\u001b[39m\u001b[32m, line 10\u001b[39m, in \u001b[36mload_data\u001b[39m\u001b[34m(filename)\u001b[39m\n\u001b[32m      8\u001b[39m \u001b[38;5;28;01mdef\u001b[39;00m\u001b[38;5;250m \u001b[39m\u001b[34mload_data\u001b[39m(filename):\n\u001b[32m      9\u001b[39m     data = []\n\u001b[32m---> \u001b[39m\u001b[32m10\u001b[39m     \u001b[38;5;28;01mwith\u001b[39;00m \u001b[38;5;28;43mopen\u001b[39;49m\u001b[43m(\u001b[49m\u001b[43mfilename\u001b[49m\u001b[43m,\u001b[49m\u001b[43m \u001b[49m\u001b[33;43m'\u001b[39;49m\u001b[33;43mr\u001b[39;49m\u001b[33;43m'\u001b[39;49m\u001b[43m,\u001b[49m\u001b[43m \u001b[49m\u001b[43mencoding\u001b[49m\u001b[43m=\u001b[49m\u001b[33;43m'\u001b[39;49m\u001b[33;43mutf-8\u001b[39;49m\u001b[33;43m'\u001b[39;49m\u001b[43m)\u001b[49m \u001b[38;5;28;01mas\u001b[39;00m f:\n\u001b[32m     11\u001b[39m         \u001b[38;5;28;01mfor\u001b[39;00m line \u001b[38;5;129;01min\u001b[39;00m f:\n\u001b[32m     12\u001b[39m             review = json.loads(line.strip())\n",
      "\u001b[36mFile \u001b[39m\u001b[32mc:\\Users\\82104\\anaconda3\\envs\\absa-env\\Lib\\site-packages\\IPython\\core\\interactiveshell.py:326\u001b[39m, in \u001b[36m_modified_open\u001b[39m\u001b[34m(file, *args, **kwargs)\u001b[39m\n\u001b[32m    319\u001b[39m \u001b[38;5;28;01mif\u001b[39;00m file \u001b[38;5;129;01min\u001b[39;00m {\u001b[32m0\u001b[39m, \u001b[32m1\u001b[39m, \u001b[32m2\u001b[39m}:\n\u001b[32m    320\u001b[39m     \u001b[38;5;28;01mraise\u001b[39;00m \u001b[38;5;167;01mValueError\u001b[39;00m(\n\u001b[32m    321\u001b[39m         \u001b[33mf\u001b[39m\u001b[33m\"\u001b[39m\u001b[33mIPython won\u001b[39m\u001b[33m'\u001b[39m\u001b[33mt let you open fd=\u001b[39m\u001b[38;5;132;01m{\u001b[39;00mfile\u001b[38;5;132;01m}\u001b[39;00m\u001b[33m by default \u001b[39m\u001b[33m\"\u001b[39m\n\u001b[32m    322\u001b[39m         \u001b[33m\"\u001b[39m\u001b[33mas it is likely to crash IPython. If you know what you are doing, \u001b[39m\u001b[33m\"\u001b[39m\n\u001b[32m    323\u001b[39m         \u001b[33m\"\u001b[39m\u001b[33myou can use builtins\u001b[39m\u001b[33m'\u001b[39m\u001b[33m open.\u001b[39m\u001b[33m\"\u001b[39m\n\u001b[32m    324\u001b[39m     )\n\u001b[32m--> \u001b[39m\u001b[32m326\u001b[39m \u001b[38;5;28;01mreturn\u001b[39;00m \u001b[43mio_open\u001b[49m\u001b[43m(\u001b[49m\u001b[43mfile\u001b[49m\u001b[43m,\u001b[49m\u001b[43m \u001b[49m\u001b[43m*\u001b[49m\u001b[43margs\u001b[49m\u001b[43m,\u001b[49m\u001b[43m \u001b[49m\u001b[43m*\u001b[49m\u001b[43m*\u001b[49m\u001b[43mkwargs\u001b[49m\u001b[43m)\u001b[49m\n",
      "\u001b[31mFileNotFoundError\u001b[39m: [Errno 2] No such file or directory: 'train_data.json'"
     ]
    }
   ],
   "source": [
    "import json\n",
    "import pandas as pd\n",
    "from surprise import Dataset, Reader\n",
    "from surprise import SVD\n",
    "from surprise import accuracy\n",
    "\n",
    "\n",
    "# 1. JSON 파일에서 데이터 로드 (user_id, business_id, stars)\n",
    "def load_data(filename):\n",
    "    data = []\n",
    "    with open(filename, \"r\", encoding=\"utf-8\") as f:\n",
    "        for line in f:\n",
    "            review = json.loads(line.strip())\n",
    "            data.append((review[\"user_id\"], review[\"business_id\"], review[\"stars\"]))\n",
    "    return data\n",
    "\n",
    "\n",
    "# 2. 훈련 데이터 로드 및 변환\n",
    "train_data = load_data(\"train_80.json\")\n",
    "train_df = pd.DataFrame(train_data, columns=[\"user_id\", \"business_id\", \"stars\"])\n",
    "\n",
    "# 3. 평가 데이터 로드 및 변환\n",
    "eval_data = load_data(\"eval_20.json\")\n",
    "eval_df = pd.DataFrame(eval_data, columns=[\"user_id\", \"business_id\", \"stars\"])\n",
    "\n",
    "# 4. Surprise 형식으로 변환\n",
    "reader = Reader(rating_scale=(1, 5))\n",
    "train_dataset = Dataset.load_from_df(\n",
    "    train_df[[\"user_id\", \"business_id\", \"stars\"]], reader\n",
    ")\n",
    "eval_dataset = Dataset.load_from_df(\n",
    "    eval_df[[\"user_id\", \"business_id\", \"stars\"]], reader\n",
    ")\n",
    "\n",
    "# 5. SVD 모델 학습\n",
    "svd = SVD(n_factors=20)\n",
    "trainset = train_dataset.build_full_trainset()\n",
    "svd.fit(trainset)\n",
    "\n",
    "# 6. 평가 데이터셋 준비 및 예측\n",
    "eval_testset = (\n",
    "    eval_dataset.build_full_trainset().build_testset()\n",
    ")  # (uid, iid, true_r) 형식의 리스트\n",
    "predictions = svd.test(eval_testset)\n",
    "\n",
    "# 7. 평가지표 계산\n",
    "mae = accuracy.mae(predictions, verbose=True)\n",
    "rmse = accuracy.rmse(predictions, verbose=True)\n",
    "\n",
    "# 8. 결과 출력\n",
    "print(f\"\\n[평가 결과]\")\n",
    "print(f\"MAE  (평균 절대 오차): {mae:.4f}\")\n",
    "print(f\"RMSE (평균 제곱근 오차): {rmse:.4f}\")"
   ]
  }
 ],
 "metadata": {
  "kernelspec": {
   "display_name": "absa-env",
   "language": "python",
   "name": "python3"
  },
  "language_info": {
   "codemirror_mode": {
    "name": "ipython",
    "version": 3
   },
   "file_extension": ".py",
   "mimetype": "text/x-python",
   "name": "python",
   "nbconvert_exporter": "python",
   "pygments_lexer": "ipython3",
   "version": "3.11.11"
  }
 },
 "nbformat": 4,
 "nbformat_minor": 5
}
