{
  "nbformat": 4,
  "nbformat_minor": 0,
  "metadata": {
    "colab": {
      "provenance": []
    },
    "kernelspec": {
      "name": "python3",
      "display_name": "Python 3"
    },
    "language_info": {
      "name": "python"
    }
  },
  "cells": [
    {
      "cell_type": "code",
      "source": [
        "from google.colab import drive\n",
        "drive.mount('/content/drive/')"
      ],
      "metadata": {
        "colab": {
          "base_uri": "https://localhost:8080/"
        },
        "id": "-Pm_evyXTajo",
        "outputId": "0eba8a87-5194-4a9c-fd49-ecc43ce4b518"
      },
      "execution_count": null,
      "outputs": [
        {
          "output_type": "stream",
          "name": "stdout",
          "text": [
            "Mounted at /content/drive/\n"
          ]
        }
      ]
    },
    {
      "cell_type": "markdown",
      "source": [
        "NeuMF모델"
      ],
      "metadata": {
        "id": "Q8st3RZCbKKv"
      }
    },
    {
      "cell_type": "code",
      "execution_count": 5,
      "metadata": {
        "id": "6M33qRRqTOBH",
        "colab": {
          "base_uri": "https://localhost:8080/"
        },
        "outputId": "eaf96cce-08f9-41cf-d423-826583420eb9"
      },
      "outputs": [
        {
          "output_type": "stream",
          "name": "stderr",
          "text": []
        },
        {
          "output_type": "stream",
          "name": "stdout",
          "text": [
            "\n",
            "Epoch 1 | Train Loss: 2.4095 | Val MSE: 1.3726, RMSE: 1.1716, MAE: 0.9386, MAPE: 38.05%\n",
            "  --> 개선됨. 모델 저장됨 (RMSE: 1.1716)\n"
          ]
        },
        {
          "output_type": "stream",
          "name": "stderr",
          "text": []
        },
        {
          "output_type": "stream",
          "name": "stdout",
          "text": [
            "\n",
            "Epoch 2 | Train Loss: 1.2689 | Val MSE: 1.2536, RMSE: 1.1196, MAE: 0.8875, MAPE: 36.55%\n",
            "  --> 개선됨. 모델 저장됨 (RMSE: 1.1196)\n"
          ]
        },
        {
          "output_type": "stream",
          "name": "stderr",
          "text": []
        },
        {
          "output_type": "stream",
          "name": "stdout",
          "text": [
            "\n",
            "Epoch 3 | Train Loss: 1.1612 | Val MSE: 1.2083, RMSE: 1.0992, MAE: 0.8716, MAPE: 35.55%\n",
            "  --> 개선됨. 모델 저장됨 (RMSE: 1.0992)\n"
          ]
        },
        {
          "output_type": "stream",
          "name": "stderr",
          "text": []
        },
        {
          "output_type": "stream",
          "name": "stdout",
          "text": [
            "\n",
            "Epoch 4 | Train Loss: 1.0873 | Val MSE: 1.1874, RMSE: 1.0897, MAE: 0.8608, MAPE: 35.05%\n",
            "  --> 개선됨. 모델 저장됨 (RMSE: 1.0897)\n"
          ]
        },
        {
          "output_type": "stream",
          "name": "stderr",
          "text": []
        },
        {
          "output_type": "stream",
          "name": "stdout",
          "text": [
            "\n",
            "Epoch 5 | Train Loss: 1.0189 | Val MSE: 1.1783, RMSE: 1.0855, MAE: 0.8508, MAPE: 34.81%\n",
            "  --> 개선됨. 모델 저장됨 (RMSE: 1.0855)\n"
          ]
        },
        {
          "output_type": "stream",
          "name": "stderr",
          "text": []
        },
        {
          "output_type": "stream",
          "name": "stdout",
          "text": [
            "\n",
            "Epoch 6 | Train Loss: 0.9541 | Val MSE: 1.1834, RMSE: 1.0878, MAE: 0.8550, MAPE: 34.43%\n",
            "  --> 개선 없음. (1/5)\n"
          ]
        },
        {
          "output_type": "stream",
          "name": "stderr",
          "text": []
        },
        {
          "output_type": "stream",
          "name": "stdout",
          "text": [
            "\n",
            "Epoch 7 | Train Loss: 0.8930 | Val MSE: 1.2007, RMSE: 1.0958, MAE: 0.8587, MAPE: 34.44%\n",
            "  --> 개선 없음. (2/5)\n"
          ]
        },
        {
          "output_type": "stream",
          "name": "stderr",
          "text": []
        },
        {
          "output_type": "stream",
          "name": "stdout",
          "text": [
            "\n",
            "Epoch 8 | Train Loss: 0.8361 | Val MSE: 1.2217, RMSE: 1.1053, MAE: 0.8608, MAPE: 34.67%\n",
            "  --> 개선 없음. (3/5)\n"
          ]
        },
        {
          "output_type": "stream",
          "name": "stderr",
          "text": []
        },
        {
          "output_type": "stream",
          "name": "stdout",
          "text": [
            "\n",
            "Epoch 9 | Train Loss: 0.7840 | Val MSE: 1.2362, RMSE: 1.1119, MAE: 0.8723, MAPE: 34.31%\n",
            "  --> 개선 없음. (4/5)\n"
          ]
        },
        {
          "output_type": "stream",
          "name": "stderr",
          "text": []
        },
        {
          "output_type": "stream",
          "name": "stdout",
          "text": [
            "\n",
            "Epoch 10 | Train Loss: 0.7349 | Val MSE: 1.2661, RMSE: 1.1252, MAE: 0.8784, MAPE: 34.65%\n",
            "  --> 개선 없음. (5/5)\n",
            "조기 종료 발생.\n",
            "최적 모델 로드 완료: best_neumf_model.pt\n"
          ]
        },
        {
          "output_type": "stream",
          "name": "stderr",
          "text": []
        },
        {
          "output_type": "stream",
          "name": "stdout",
          "text": [
            "\n",
            "✅ [NeuMF] 최종 테스트 평가 지표:\n",
            "   - MSE  : 1.1711\n",
            "   - RMSE : 1.0822\n",
            "   - MAE  : 0.8488\n",
            "   - MAPE : 34.56%\n"
          ]
        }
      ],
      "source": [
        "import pandas as pd\n",
        "import numpy as np\n",
        "from sklearn.model_selection import train_test_split\n",
        "from sklearn.preprocessing import LabelEncoder\n",
        "from sklearn.metrics import mean_squared_error, mean_absolute_error\n",
        "from tqdm import tqdm\n",
        "import torch\n",
        "import torch.nn as nn\n",
        "import torch.optim as optim\n",
        "from torch.utils.data import Dataset, DataLoader\n",
        "import os\n",
        "\n",
        "# -------------------- 데이터 로딩 및 전처리 --------------------\n",
        "df = pd.read_json('/content/drive/MyDrive/review_business_5up_5aspect_3sentiment_vectorized_clean.json', lines=True)\n",
        "df_processed = df[['user_id', 'business_id', 'stars']].copy()\n",
        "\n",
        "user_encoder = LabelEncoder()\n",
        "business_encoder = LabelEncoder()\n",
        "df_processed['user_encoded'] = user_encoder.fit_transform(df_processed['user_id'])\n",
        "df_processed['business_encoded'] = business_encoder.fit_transform(df_processed['business_id'])\n",
        "\n",
        "num_users = len(user_encoder.classes_)\n",
        "num_businesses = len(business_encoder.classes_)\n",
        "\n",
        "train_val_df, test_df = train_test_split(df_processed, test_size=0.2, random_state=42)\n",
        "val_size_ratio = 1 / 8\n",
        "train_df, val_df = train_test_split(train_val_df, test_size=val_size_ratio, random_state=42)\n",
        "\n",
        "# -------------------- Dataset 정의 --------------------\n",
        "class NeuMFDataset(Dataset):\n",
        "    def __init__(self, df):\n",
        "        self.user_ids = torch.tensor(df['user_encoded'].values, dtype=torch.long)\n",
        "        self.item_ids = torch.tensor(df['business_encoded'].values, dtype=torch.long)\n",
        "        self.ratings = torch.tensor(df['stars'].values, dtype=torch.float)\n",
        "\n",
        "    def __len__(self):\n",
        "        return len(self.ratings)\n",
        "\n",
        "    def __getitem__(self, idx):\n",
        "        return self.user_ids[idx], self.item_ids[idx], self.ratings[idx]\n",
        "\n",
        "train_dataset = NeuMFDataset(train_df)\n",
        "val_dataset = NeuMFDataset(val_df)\n",
        "test_dataset = NeuMFDataset(test_df)\n",
        "\n",
        "batch_size = 256\n",
        "train_loader = DataLoader(train_dataset, batch_size=batch_size, shuffle=True)\n",
        "val_loader = DataLoader(val_dataset, batch_size=batch_size, shuffle=False)\n",
        "test_loader = DataLoader(test_dataset, batch_size=batch_size, shuffle=False)\n",
        "\n",
        "# -------------------- 모델 정의 --------------------\n",
        "class NeuMF(nn.Module):\n",
        "    def __init__(self, num_users, num_items, mf_dim=16, mlp_dims=[64, 32]):\n",
        "        super(NeuMF, self).__init__()\n",
        "        self.user_embedding_gmf = nn.Embedding(num_users, mf_dim)\n",
        "        self.item_embedding_gmf = nn.Embedding(num_items, mf_dim)\n",
        "\n",
        "        self.user_embedding_mlp = nn.Embedding(num_users, mlp_dims[0] // 2)\n",
        "        self.item_embedding_mlp = nn.Embedding(num_items, mlp_dims[0] // 2)\n",
        "\n",
        "        mlp_layers = []\n",
        "        input_dim = mlp_dims[0]\n",
        "        for dim in mlp_dims[1:]:\n",
        "            mlp_layers.append(nn.Linear(input_dim, dim))\n",
        "            mlp_layers.append(nn.ReLU())\n",
        "            input_dim = dim\n",
        "        self.mlp = nn.Sequential(*mlp_layers)\n",
        "\n",
        "        self.final_layer = nn.Linear(mf_dim + mlp_dims[-1], 1)\n",
        "\n",
        "    def forward(self, user_ids, item_ids):\n",
        "        gmf_user = self.user_embedding_gmf(user_ids)\n",
        "        gmf_item = self.item_embedding_gmf(item_ids)\n",
        "        gmf_output = gmf_user * gmf_item\n",
        "\n",
        "        mlp_user = self.user_embedding_mlp(user_ids)\n",
        "        mlp_item = self.item_embedding_mlp(item_ids)\n",
        "        mlp_input = torch.cat((mlp_user, mlp_item), dim=1)\n",
        "        mlp_output = self.mlp(mlp_input)\n",
        "\n",
        "        concat = torch.cat((gmf_output, mlp_output), dim=1)\n",
        "        prediction = self.final_layer(concat)\n",
        "        return prediction.view(-1)\n",
        "\n",
        "# -------------------- 평가 지표 --------------------\n",
        "def mean_absolute_percentage_error(y_true, y_pred):\n",
        "    y_true = np.array(y_true)\n",
        "    y_pred = np.array(y_pred)\n",
        "    epsilon = 1e-10\n",
        "    return np.mean(np.abs((y_true - y_pred) / (y_true + epsilon))) * 100\n",
        "\n",
        "# -------------------- 학습 --------------------\n",
        "embedding_dim = 16\n",
        "mlp_dims = [64, 32]\n",
        "learning_rate = 0.001\n",
        "epochs = 50\n",
        "patience = 5\n",
        "min_delta = 0.001\n",
        "\n",
        "model = NeuMF(num_users, num_businesses, embedding_dim, mlp_dims)\n",
        "criterion = nn.MSELoss()\n",
        "optimizer = optim.Adam(model.parameters(), lr=learning_rate)\n",
        "model_path = 'best_neumf_model.pt'\n",
        "\n",
        "best_val_rmse = float('inf')\n",
        "epochs_no_improve = 0\n",
        "\n",
        "for epoch in range(epochs):\n",
        "    model.train()\n",
        "    total_train_loss = 0\n",
        "    train_bar = tqdm(train_loader, desc=f\"[Epoch {epoch+1}] Training\", leave=False)\n",
        "    for user_ids, item_ids, ratings in train_bar:\n",
        "        optimizer.zero_grad()\n",
        "        predictions = model(user_ids, item_ids)\n",
        "        loss = criterion(predictions, ratings)\n",
        "        loss.backward()\n",
        "        optimizer.step()\n",
        "        total_train_loss += loss.item()\n",
        "        train_bar.set_postfix(loss=loss.item())\n",
        "\n",
        "    model.eval()\n",
        "    val_predictions, val_true = [], []\n",
        "    val_bar = tqdm(val_loader, desc=f\"[Epoch {epoch+1}] Validating\", leave=False)\n",
        "    with torch.no_grad():\n",
        "        for user_ids, item_ids, ratings in val_bar:\n",
        "            preds = model(user_ids, item_ids)\n",
        "            val_predictions.extend(preds.tolist())\n",
        "            val_true.extend(ratings.tolist())\n",
        "\n",
        "    val_mse = mean_squared_error(val_true, val_predictions)\n",
        "    val_rmse = np.sqrt(val_mse)\n",
        "    val_mae = mean_absolute_error(val_true, val_predictions)\n",
        "    val_mape = mean_absolute_percentage_error(val_true, val_predictions)\n",
        "\n",
        "    print(f\"\\nEpoch {epoch+1} | Train Loss: {total_train_loss/len(train_loader):.4f} | \"\n",
        "          f\"Val MSE: {val_mse:.4f}, RMSE: {val_rmse:.4f}, MAE: {val_mae:.4f}, MAPE: {val_mape:.2f}%\")\n",
        "\n",
        "    if val_rmse < best_val_rmse - min_delta:\n",
        "        best_val_rmse = val_rmse\n",
        "        epochs_no_improve = 0\n",
        "        torch.save(model.state_dict(), model_path)\n",
        "        print(f\"  --> 개선됨. 모델 저장됨 (RMSE: {best_val_rmse:.4f})\")\n",
        "    else:\n",
        "        epochs_no_improve += 1\n",
        "        print(f\"  --> 개선 없음. ({epochs_no_improve}/{patience})\")\n",
        "        if epochs_no_improve == patience:\n",
        "            print(\"조기 종료 발생.\")\n",
        "            break\n",
        "\n",
        "# -------------------- 테스트 --------------------\n",
        "if os.path.exists(model_path):\n",
        "    model.load_state_dict(torch.load(model_path))\n",
        "    print(f\"최적 모델 로드 완료: {model_path}\")\n",
        "\n",
        "model.eval()\n",
        "test_preds, test_true = [], []\n",
        "test_bar = tqdm(test_loader, desc=\"Testing\", leave=False)\n",
        "with torch.no_grad():\n",
        "    for user_ids, item_ids, ratings in test_bar:\n",
        "        preds = model(user_ids, item_ids)\n",
        "        test_preds.extend(preds.tolist())\n",
        "        test_true.extend(ratings.tolist())\n",
        "\n",
        "test_mse = mean_squared_error(test_true, test_preds)\n",
        "test_rmse = np.sqrt(test_mse)\n",
        "test_mae = mean_absolute_error(test_true, test_preds)\n",
        "test_mape = mean_absolute_percentage_error(test_true, test_preds)\n",
        "\n",
        "print(f\"\\n✅ [NeuMF] 최종 테스트 평가 지표:\")\n",
        "print(f\"   - MSE  : {test_mse:.4f}\")\n",
        "print(f\"   - RMSE : {test_rmse:.4f}\")\n",
        "print(f\"   - MAE  : {test_mae:.4f}\")\n",
        "print(f\"   - MAPE : {test_mape:.2f}%\")\n"
      ]
    }
  ]
}