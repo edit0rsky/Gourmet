{
 "cells": [
  {
   "cell_type": "markdown",
   "id": "2fba0704",
   "metadata": {},
   "source": [
    "#### import"
   ]
  },
  {
   "cell_type": "code",
   "execution_count": 1,
   "id": "890713a2",
   "metadata": {},
   "outputs": [],
   "source": [
    "import json\n",
    "import numpy as np\n",
    "from collections import defaultdict\n",
    "from sklearn.preprocessing import normalize\n",
    "from sklearn.metrics import precision_score\n",
    "from tqdm import tqdm"
   ]
  },
  {
   "cell_type": "markdown",
   "id": "eb090a0f",
   "metadata": {},
   "source": [
    "### JSONL 파일에서 리뷰 로드"
   ]
  },
  {
   "cell_type": "code",
   "execution_count": 2,
   "id": "a7f39936",
   "metadata": {},
   "outputs": [],
   "source": [
    "TRAIN_FILE = \"dataset/train_80_random.json\"\n",
    "TEST_FILE = \"dataset/test_20_random.json\"\n",
    "TOP_N = 5\n",
    "\n",
    "\n",
    "def load_reviews(path):\n",
    "    data = []\n",
    "    with open(path, encoding=\"utf-8\") as f:\n",
    "        for line in f:\n",
    "            obj = json.loads(line)\n",
    "            obj[\"vector\"] = np.array(obj[\"sentiment_vector\"])\n",
    "            data.append(obj)\n",
    "    return data\n",
    "\n",
    "\n",
    "train_reviews = load_reviews(TRAIN_FILE)\n",
    "test_reviews = load_reviews(TEST_FILE)"
   ]
  },
  {
   "cell_type": "markdown",
   "id": "4c57c31c",
   "metadata": {},
   "source": [
    "#### 훈련 데이터 → 벡터 평균 계산"
   ]
  },
  {
   "cell_type": "code",
   "execution_count": 3,
   "id": "bf508ba7",
   "metadata": {},
   "outputs": [],
   "source": [
    "import json, numpy as np, pandas as pd\n",
    "from collections import defaultdict\n",
    "from datetime import datetime\n",
    "from sklearn.preprocessing import normalize\n",
    "\n",
    "# -------------------------------------------------\n",
    "# 하이퍼 파라미터\n",
    "# -------------------------------------------------\n",
    "ASPECTS = [\"food\", \"service\", \"price\", \"ambience\", \"location\"]\n",
    "HALF_LIFE = 180  # 최근성 half-life (일)\n",
    "NEUT_THR = 0.80  # Neutral > 0.8 ⇒ 미언급으로 간주\n",
    "TOP_N = 5  # 추천 개수\n",
    "\n",
    "\n",
    "# -------------------------------------------------\n",
    "# 1. 15-D 확률 → 5-D polarity\n",
    "# -------------------------------------------------\n",
    "# 1. 15-D 확률 → 5-D polarity  (Pos,Neu,Neg 순서용 버전)\n",
    "def vec15_to_vec5(vec15):\n",
    "    \"\"\"\n",
    "    vec15 = [pos, neu, neg] × 5   ← ❶ 우리 데이터는 이렇게 저장됨\n",
    "    반환: 5-D polarity (pos-neg)  , Neutral > 0.8 → 0\n",
    "    \"\"\"\n",
    "    out = []\n",
    "    for i in range(5):\n",
    "        pos, neu, neg = vec15[i * 3 : (i + 1) * 3]  # ← 앞뒤만 바꿔 줌\n",
    "        if neu > NEUT_THR:  # 언급 안 된 aspect\n",
    "            out.append(0.0)\n",
    "        else:\n",
    "            out.append(pos - neg)  # (-1, 1)\n",
    "    return np.asarray(out, dtype=float)\n",
    "\n",
    "\n",
    "# -------------------------------------------------\n",
    "# 2. µ ∥ σ² 풀링 (최근성 가중)\n",
    "# -------------------------------------------------\n",
    "def recency_w(days):\n",
    "    return np.exp(-np.log(2) * days / HALF_LIFE)\n",
    "\n",
    "\n",
    "def agg_mu_sigma(rows):\n",
    "    if not rows:  # 안전장치\n",
    "        return np.zeros(10)\n",
    "    now = datetime.now()\n",
    "    V, W = [], []\n",
    "    for v, ts in rows:\n",
    "        V.append(v)\n",
    "        W.append(recency_w((now - ts).days))\n",
    "    V = np.vstack(V)  # (n,5)\n",
    "    W = np.array(W)[:, None]  # (n,1)\n",
    "    mu = (W * V).sum(0) / W.sum()\n",
    "    var = (W * (V - mu) ** 2).sum(0) / W.sum()\n",
    "    return np.concatenate([mu, var])  # 10-D\n",
    "\n",
    "\n",
    "# -------------------------------------------------\n",
    "# 3. 데이터 로드\n",
    "# -------------------------------------------------\n",
    "def load_reviews(path):\n",
    "    records = []\n",
    "    with open(path, encoding=\"utf-8\") as f:\n",
    "        for line in f:\n",
    "            obj = json.loads(line)\n",
    "            obj[\"date\"] = datetime.now()  # ★ 날짜 컬럼 없을 때 임시\n",
    "            records.append(obj)\n",
    "    return records\n",
    "\n",
    "\n",
    "train_reviews = load_reviews(\"dataset/train_80_random.json\")\n",
    "\n",
    "# -------------------------------------------------\n",
    "# 4. 임베딩 생성\n",
    "# -------------------------------------------------\n",
    "user_rows, biz_rows = defaultdict(list), defaultdict(list)\n",
    "for r in train_reviews:\n",
    "    vec15 = np.array(r[\"sentiment_vector\"], float)\n",
    "    vec5 = vec15_to_vec5(vec15)\n",
    "    ts = r[\"date\"]  # 실제 날짜 쓰면 더 정확\n",
    "    user_rows[r[\"user_id\"]].append((vec5, ts))\n",
    "    biz_rows[r[\"business_id\"]].append((vec5, ts))\n",
    "\n",
    "user_embed = {u: agg_mu_sigma(rows) for u, rows in user_rows.items()}\n",
    "biz_embed = {b: agg_mu_sigma(rows) for b, rows in biz_rows.items()}\n",
    "\n",
    "# -------------------------------------------------\n",
    "# 5. 정규화 후 유사도 행렬\n",
    "# -------------------------------------------------\n",
    "user_ids = list(user_embed)\n",
    "biz_ids = list(biz_embed)\n",
    "\n",
    "U = normalize(np.stack([user_embed[u] for u in user_ids]))\n",
    "B = normalize(np.stack([biz_embed[b] for b in biz_ids]))\n",
    "scores = U @ B.T\n",
    "\n",
    "# -------------------------------------------------\n",
    "# 6. 추천 생성 (재방문 허용)\n",
    "# -------------------------------------------------\n",
    "recommendations = {}\n",
    "for i, uid in enumerate(user_ids):\n",
    "    ranked_idx = np.argsort(scores[i])[::-1]\n",
    "    recommendations[uid] = [biz_ids[j] for j in ranked_idx[:TOP_N]]\n",
    "\n",
    "# 이후 ground-truth·평가 루프는 기존 코드 그대로 사용"
   ]
  },
  {
   "cell_type": "markdown",
   "id": "fbfe4eba",
   "metadata": {},
   "source": [
    "#### 정규화 후 유사도 계산"
   ]
  },
  {
   "cell_type": "code",
   "execution_count": 20,
   "id": "c2b76fb1",
   "metadata": {},
   "outputs": [],
   "source": [
    "user_ids = list(user_embed.keys())\n",
    "biz_ids = list(biz_embed.keys())\n",
    "\n",
    "user_matrix = normalize(np.stack([user_embed[u] for u in user_ids]))\n",
    "biz_matrix = normalize(np.stack([biz_embed[b] for b in biz_ids]))\n",
    "\n",
    "scores = np.dot(user_matrix, biz_matrix.T)"
   ]
  },
  {
   "cell_type": "markdown",
   "id": "6ab5a4af",
   "metadata": {},
   "source": [
    "#### 추천 리스트 생성"
   ]
  },
  {
   "cell_type": "code",
   "execution_count": 8,
   "id": "43876ee8",
   "metadata": {},
   "outputs": [],
   "source": [
    "user2seen = defaultdict(set)\n",
    "for r in train_reviews:\n",
    "    user2seen[r[\"user_id\"]].add(r[\"business_id\"])\n",
    "\n",
    "recommendations = {}\n",
    "\n",
    "for i, uid in enumerate(user_ids):\n",
    "    user_score = scores[i]\n",
    "    ranked_idx = np.argsort(user_score)[::-1]\n",
    "\n",
    "    recs = []\n",
    "    for j in ranked_idx:\n",
    "        bid = biz_ids[j]\n",
    "        # if bid not in user2seen[uid]:  # 이미 본 식당은 제외\n",
    "        recs.append(bid)\n",
    "        if len(recs) == TOP_N:\n",
    "            break\n",
    "    recommendations[uid] = recs"
   ]
  },
  {
   "cell_type": "markdown",
   "id": "ac660779",
   "metadata": {},
   "source": [
    "#### 평가: Ground Truth 생성"
   ]
  },
  {
   "cell_type": "code",
   "execution_count": 4,
   "id": "afb182ce",
   "metadata": {},
   "outputs": [],
   "source": [
    "ground_truth = defaultdict(set)\n",
    "for r in test_reviews:\n",
    "    ground_truth[r[\"user_id\"]].add(r[\"business_id\"])"
   ]
  },
  {
   "cell_type": "markdown",
   "id": "9dbabd76",
   "metadata": {},
   "source": [
    "#### Precision@K 계산"
   ]
  },
  {
   "cell_type": "code",
   "execution_count": 5,
   "id": "462d6c07",
   "metadata": {},
   "outputs": [],
   "source": [
    "common_users = set(recommendations.keys()) & set(ground_truth.keys())\n",
    "precision_list = []\n",
    "\n",
    "for uid in common_users:\n",
    "    pred = set(recommendations[uid])\n",
    "    actual = ground_truth[uid]\n",
    "    hit = len(pred & actual)\n",
    "    precision = hit / TOP_N\n",
    "    precision_list.append(precision)"
   ]
  },
  {
   "cell_type": "markdown",
   "id": "1a2c7c0e",
   "metadata": {},
   "source": [
    "#### 결과 출력"
   ]
  },
  {
   "cell_type": "code",
   "execution_count": 6,
   "id": "f77ce7fa",
   "metadata": {},
   "outputs": [
    {
     "name": "stdout",
     "output_type": "stream",
     "text": [
      "📌 평가 대상 유저 수: 24004\n",
      "🎯 Precision@5: 0.0009\n"
     ]
    }
   ],
   "source": [
    "print(f\"📌 평가 대상 유저 수: {len(common_users)}\")\n",
    "print(f\"🎯 Precision@{TOP_N}: {np.mean(precision_list):.4f}\")"
   ]
  },
  {
   "cell_type": "code",
   "execution_count": null,
   "id": "9f63055a",
   "metadata": {},
   "outputs": [],
   "source": []
  },
  {
   "cell_type": "code",
   "execution_count": null,
   "id": "f44237db",
   "metadata": {},
   "outputs": [],
   "source": []
  },
  {
   "cell_type": "markdown",
   "id": "c4e1eb76",
   "metadata": {},
   "source": []
  },
  {
   "cell_type": "code",
   "execution_count": 12,
   "id": "26d24e45",
   "metadata": {},
   "outputs": [
    {
     "name": "stdout",
     "output_type": "stream",
     "text": [
      "train biz 수: 6865\n",
      "GT 라벨 수: 89593 그중 train 벡터 있는 라벨: 89556\n"
     ]
    }
   ],
   "source": [
    "print(\"train biz 수:\", len(biz_embed))\n",
    "hits_in_gt = 0\n",
    "total_labels = 0\n",
    "for u, items in ground_truth.items():\n",
    "    total_labels += len(items)\n",
    "    hits_in_gt += len([b for b in items if b in biz_embed])\n",
    "print(\"GT 라벨 수:\", total_labels, \"그중 train 벡터 있는 라벨:\", hits_in_gt)"
   ]
  },
  {
   "cell_type": "code",
   "execution_count": 13,
   "id": "a9645aab",
   "metadata": {},
   "outputs": [
    {
     "name": "stdout",
     "output_type": "stream",
     "text": [
      "샘플 유저: RHfA_QRRITTjpatBHOmH0w\n",
      "추천 Top-10: ['BaSwNEingTmrBw4shffK5w', '4PyqPHAiFopyZZlLcLQuVg', 'oqbhVgliVJH-iRa3AnD-3A', 'ekxvAyD2T5v3GS7n4X_3dQ', 'UyTx6ci7ATsWco_mE4J8Jw']\n",
      "GT 라벨: {'el-WV1mOpFmrQOowLnh4aw', 'NFzfuIFghE-HnrodHpaT6A'}\n"
     ]
    }
   ],
   "source": [
    "uid0 = next(iter(recommendations))\n",
    "print(\"샘플 유저:\", uid0)\n",
    "print(\"추천 Top-10:\", recommendations[uid0][:10])\n",
    "print(\"GT 라벨:\", ground_truth.get(uid0, set()))"
   ]
  },
  {
   "cell_type": "code",
   "execution_count": 14,
   "id": "586ccde9",
   "metadata": {},
   "outputs": [
    {
     "name": "stdout",
     "output_type": "stream",
     "text": [
      "무작위 P@5 ≈ 0.002791201466422263\n"
     ]
    }
   ],
   "source": [
    "rng = np.random.default_rng(0)\n",
    "rand_hit = 0\n",
    "for uid in ground_truth:\n",
    "    rand_preds = rng.choice(list(biz_embed.keys()), size=5, replace=False)\n",
    "    if set(rand_preds) & ground_truth[uid]:\n",
    "        rand_hit += 1\n",
    "print(\"무작위 P@5 ≈\", rand_hit / len(ground_truth))"
   ]
  },
  {
   "cell_type": "code",
   "execution_count": 15,
   "id": "02a5d14d",
   "metadata": {},
   "outputs": [
    {
     "name": "stdout",
     "output_type": "stream",
     "text": [
      "TOP_N = 5\n"
     ]
    }
   ],
   "source": [
    "print(\"TOP_N =\", TOP_N)"
   ]
  },
  {
   "cell_type": "code",
   "execution_count": null,
   "id": "6a4fa6fa",
   "metadata": {},
   "outputs": [],
   "source": []
  },
  {
   "cell_type": "code",
   "execution_count": 16,
   "id": "c4c6099f",
   "metadata": {},
   "outputs": [
    {
     "name": "stdout",
     "output_type": "stream",
     "text": [
      "food triplet: [0.983 0.012 0.005]\n",
      "순서 Pos,Neu,Neg  (뒤집힘)\n"
     ]
    }
   ],
   "source": [
    "import numpy as np, json, random, math\n",
    "\n",
    "path = \"dataset/train_80_random.json\"\n",
    "sample = json.loads(open(path).readline())\n",
    "\n",
    "triplet = np.array(sample[\"sentiment_vector\"][:3])  # food\n",
    "print(\"food triplet:\", triplet.round(3))\n",
    "\n",
    "if triplet.argmax() == 0:\n",
    "    print(\"순서 Pos,Neu,Neg  (뒤집힘)\")\n",
    "elif triplet.argmax() == 2:\n",
    "    print(\"순서 Neg,Neu,Pos  (정상)\")\n",
    "else:\n",
    "    print(\"Neutral이 최대 → 언급 안 됐거나 무감정\")"
   ]
  },
  {
   "cell_type": "code",
   "execution_count": 7,
   "id": "25a9fb20",
   "metadata": {},
   "outputs": [
    {
     "name": "stdout",
     "output_type": "stream",
     "text": [
      "user_embed shape: (10,)\n",
      "코사인 분산: 0.4244610929238665\n",
      "추천 예시: ['BaSwNEingTmrBw4shffK5w', '4PyqPHAiFopyZZlLcLQuVg', 'oqbhVgliVJH-iRa3AnD-3A', 'ekxvAyD2T5v3GS7n4X_3dQ', 'UyTx6ci7ATsWco_mE4J8Jw']\n"
     ]
    }
   ],
   "source": [
    "print(\"user_embed shape:\", next(iter(user_embed.values())).shape)\n",
    "print(\"코사인 분산:\", np.std((U @ B.T).ravel()))\n",
    "print(\"추천 예시:\", recommendations[user_ids[0]][:5])"
   ]
  },
  {
   "cell_type": "code",
   "execution_count": 8,
   "id": "e518ccfe",
   "metadata": {},
   "outputs": [
    {
     "name": "stdout",
     "output_type": "stream",
     "text": [
      "추천 5개: ['BaSwNEingTmrBw4shffK5w', '4PyqPHAiFopyZZlLcLQuVg', 'oqbhVgliVJH-iRa3AnD-3A', 'ekxvAyD2T5v3GS7n4X_3dQ', 'UyTx6ci7ATsWco_mE4J8Jw']\n",
      "GT 라벨: {'NFzfuIFghE-HnrodHpaT6A', 'el-WV1mOpFmrQOowLnh4aw'}\n",
      "교집합: set()\n"
     ]
    }
   ],
   "source": [
    "uid0 = user_ids[0]\n",
    "print(\"추천 5개:\", recommendations[uid0])\n",
    "print(\"GT 라벨:\", ground_truth.get(uid0, set()))\n",
    "print(\"교집합:\", set(recommendations[uid0]) & ground_truth.get(uid0, set()))"
   ]
  },
  {
   "cell_type": "code",
   "execution_count": 9,
   "id": "261e357b",
   "metadata": {},
   "outputs": [
    {
     "name": "stdout",
     "output_type": "stream",
     "text": [
      "유사도 음수 비율: 0.09744979046724148\n"
     ]
    }
   ],
   "source": [
    "neg_cnt = sum((U @ B.T).ravel() < 0)\n",
    "print(\"유사도 음수 비율:\", neg_cnt / (U.shape[0] * B.shape[0]))"
   ]
  },
  {
   "cell_type": "code",
   "execution_count": 10,
   "id": "0c95b28f",
   "metadata": {},
   "outputs": [],
   "source": [
    "sim = np.maximum(0, U @ B.T)  # 음수 0 클램핑"
   ]
  },
  {
   "cell_type": "code",
   "execution_count": null,
   "id": "d94016ae",
   "metadata": {},
   "outputs": [],
   "source": []
  }
 ],
 "metadata": {
  "kernelspec": {
   "display_name": "absa-env",
   "language": "python",
   "name": "python3"
  },
  "language_info": {
   "codemirror_mode": {
    "name": "ipython",
    "version": 3
   },
   "file_extension": ".py",
   "mimetype": "text/x-python",
   "name": "python",
   "nbconvert_exporter": "python",
   "pygments_lexer": "ipython3",
   "version": "3.11.11"
  }
 },
 "nbformat": 4,
 "nbformat_minor": 5
}
