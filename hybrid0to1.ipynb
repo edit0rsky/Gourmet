{
 "cells": [
  {
   "cell_type": "code",
   "execution_count": 2,
   "id": "44979d7f-b9c7-4b8a-83bd-dbf4ff0ed423",
   "metadata": {},
   "outputs": [
    {
     "name": "stdout",
     "output_type": "stream",
     "text": [
      "데이터 로드 중: review_business_5up_5aspect_3sentiment_vectorized_clean.json\n",
      "총 447,796개 평점, 27,807명 사용자, 6,831개 아이템\n",
      "학습/테스트 데이터 분리 중...\n",
      "학습: 419,989개, 테스트: 27,807개\n",
      "맵 및 감성 벡터 평균 계산 중...\n",
      "alpha = 0.00\n",
      "하이브리드 유사도 계산 중...\n"
     ]
    },
    {
     "name": "stderr",
     "output_type": "stream",
     "text": [
      "하이브리드 유사도 계산: 100%|██████████| 6819/6819 [04:35<00:00, 24.78it/s] \n"
     ]
    },
    {
     "name": "stdout",
     "output_type": "stream",
     "text": [
      "상위 5개 아이템 추천 중...\n"
     ]
    },
    {
     "name": "stderr",
     "output_type": "stream",
     "text": [
      "100%|██████████| 27807/27807 [09:05<00:00, 50.97it/s]\n"
     ]
    },
    {
     "name": "stdout",
     "output_type": "stream",
     "text": [
      "성능 평가 중...\n",
      "alpha = 0.05\n",
      "하이브리드 유사도 계산 중...\n"
     ]
    },
    {
     "name": "stderr",
     "output_type": "stream",
     "text": [
      "하이브리드 유사도 계산: 100%|██████████| 6819/6819 [04:35<00:00, 24.76it/s] \n"
     ]
    },
    {
     "name": "stdout",
     "output_type": "stream",
     "text": [
      "상위 5개 아이템 추천 중...\n"
     ]
    },
    {
     "name": "stderr",
     "output_type": "stream",
     "text": [
      "100%|██████████| 27807/27807 [09:07<00:00, 50.83it/s]\n"
     ]
    },
    {
     "name": "stdout",
     "output_type": "stream",
     "text": [
      "성능 평가 중...\n",
      "alpha = 0.10\n",
      "하이브리드 유사도 계산 중...\n"
     ]
    },
    {
     "name": "stderr",
     "output_type": "stream",
     "text": [
      "하이브리드 유사도 계산: 100%|██████████| 6819/6819 [04:34<00:00, 24.82it/s] \n"
     ]
    },
    {
     "name": "stdout",
     "output_type": "stream",
     "text": [
      "상위 5개 아이템 추천 중...\n"
     ]
    },
    {
     "name": "stderr",
     "output_type": "stream",
     "text": [
      "100%|██████████| 27807/27807 [09:07<00:00, 50.81it/s]\n"
     ]
    },
    {
     "name": "stdout",
     "output_type": "stream",
     "text": [
      "성능 평가 중...\n",
      "alpha = 0.15\n",
      "하이브리드 유사도 계산 중...\n"
     ]
    },
    {
     "name": "stderr",
     "output_type": "stream",
     "text": [
      "하이브리드 유사도 계산: 100%|██████████| 6819/6819 [04:35<00:00, 24.77it/s] \n"
     ]
    },
    {
     "name": "stdout",
     "output_type": "stream",
     "text": [
      "상위 5개 아이템 추천 중...\n"
     ]
    },
    {
     "name": "stderr",
     "output_type": "stream",
     "text": [
      "100%|██████████| 27807/27807 [09:06<00:00, 50.85it/s]\n"
     ]
    },
    {
     "name": "stdout",
     "output_type": "stream",
     "text": [
      "성능 평가 중...\n",
      "alpha = 0.20\n",
      "하이브리드 유사도 계산 중...\n"
     ]
    },
    {
     "name": "stderr",
     "output_type": "stream",
     "text": [
      "하이브리드 유사도 계산: 100%|██████████| 6819/6819 [04:34<00:00, 24.86it/s] \n"
     ]
    },
    {
     "name": "stdout",
     "output_type": "stream",
     "text": [
      "상위 5개 아이템 추천 중...\n"
     ]
    },
    {
     "name": "stderr",
     "output_type": "stream",
     "text": [
      "100%|██████████| 27807/27807 [09:07<00:00, 50.77it/s]\n"
     ]
    },
    {
     "name": "stdout",
     "output_type": "stream",
     "text": [
      "성능 평가 중...\n",
      "alpha = 0.25\n",
      "하이브리드 유사도 계산 중...\n"
     ]
    },
    {
     "name": "stderr",
     "output_type": "stream",
     "text": [
      "하이브리드 유사도 계산: 100%|██████████| 6819/6819 [04:34<00:00, 24.85it/s] \n"
     ]
    },
    {
     "name": "stdout",
     "output_type": "stream",
     "text": [
      "상위 5개 아이템 추천 중...\n"
     ]
    },
    {
     "name": "stderr",
     "output_type": "stream",
     "text": [
      "100%|██████████| 27807/27807 [09:07<00:00, 50.77it/s]\n"
     ]
    },
    {
     "name": "stdout",
     "output_type": "stream",
     "text": [
      "성능 평가 중...\n",
      "alpha = 0.30\n",
      "하이브리드 유사도 계산 중...\n"
     ]
    },
    {
     "name": "stderr",
     "output_type": "stream",
     "text": [
      "하이브리드 유사도 계산: 100%|██████████| 6819/6819 [04:33<00:00, 24.91it/s] \n"
     ]
    },
    {
     "name": "stdout",
     "output_type": "stream",
     "text": [
      "상위 5개 아이템 추천 중...\n"
     ]
    },
    {
     "name": "stderr",
     "output_type": "stream",
     "text": [
      "100%|██████████| 27807/27807 [09:07<00:00, 50.83it/s]\n"
     ]
    },
    {
     "name": "stdout",
     "output_type": "stream",
     "text": [
      "성능 평가 중...\n",
      "alpha = 0.35\n",
      "하이브리드 유사도 계산 중...\n"
     ]
    },
    {
     "name": "stderr",
     "output_type": "stream",
     "text": [
      "하이브리드 유사도 계산: 100%|██████████| 6819/6819 [04:35<00:00, 24.78it/s] \n"
     ]
    },
    {
     "name": "stdout",
     "output_type": "stream",
     "text": [
      "상위 5개 아이템 추천 중...\n"
     ]
    },
    {
     "name": "stderr",
     "output_type": "stream",
     "text": [
      "100%|██████████| 27807/27807 [09:06<00:00, 50.87it/s]\n"
     ]
    },
    {
     "name": "stdout",
     "output_type": "stream",
     "text": [
      "성능 평가 중...\n",
      "alpha = 0.40\n",
      "하이브리드 유사도 계산 중...\n"
     ]
    },
    {
     "name": "stderr",
     "output_type": "stream",
     "text": [
      "하이브리드 유사도 계산: 100%|██████████| 6819/6819 [04:36<00:00, 24.64it/s] \n"
     ]
    },
    {
     "name": "stdout",
     "output_type": "stream",
     "text": [
      "상위 5개 아이템 추천 중...\n"
     ]
    },
    {
     "name": "stderr",
     "output_type": "stream",
     "text": [
      "100%|██████████| 27807/27807 [09:10<00:00, 50.55it/s]\n"
     ]
    },
    {
     "name": "stdout",
     "output_type": "stream",
     "text": [
      "성능 평가 중...\n",
      "alpha = 0.45\n",
      "하이브리드 유사도 계산 중...\n"
     ]
    },
    {
     "name": "stderr",
     "output_type": "stream",
     "text": [
      "하이브리드 유사도 계산: 100%|██████████| 6819/6819 [04:38<00:00, 24.51it/s] \n"
     ]
    },
    {
     "name": "stdout",
     "output_type": "stream",
     "text": [
      "상위 5개 아이템 추천 중...\n"
     ]
    },
    {
     "name": "stderr",
     "output_type": "stream",
     "text": [
      "100%|██████████| 27807/27807 [09:08<00:00, 50.65it/s]\n"
     ]
    },
    {
     "name": "stdout",
     "output_type": "stream",
     "text": [
      "성능 평가 중...\n",
      "alpha = 0.50\n",
      "하이브리드 유사도 계산 중...\n"
     ]
    },
    {
     "name": "stderr",
     "output_type": "stream",
     "text": [
      "하이브리드 유사도 계산: 100%|██████████| 6819/6819 [04:34<00:00, 24.81it/s] \n"
     ]
    },
    {
     "name": "stdout",
     "output_type": "stream",
     "text": [
      "상위 5개 아이템 추천 중...\n"
     ]
    },
    {
     "name": "stderr",
     "output_type": "stream",
     "text": [
      "100%|██████████| 27807/27807 [09:09<00:00, 50.63it/s]\n"
     ]
    },
    {
     "name": "stdout",
     "output_type": "stream",
     "text": [
      "성능 평가 중...\n",
      "alpha = 0.55\n",
      "하이브리드 유사도 계산 중...\n"
     ]
    },
    {
     "name": "stderr",
     "output_type": "stream",
     "text": [
      "하이브리드 유사도 계산: 100%|██████████| 6819/6819 [04:33<00:00, 24.90it/s] \n"
     ]
    },
    {
     "name": "stdout",
     "output_type": "stream",
     "text": [
      "상위 5개 아이템 추천 중...\n"
     ]
    },
    {
     "name": "stderr",
     "output_type": "stream",
     "text": [
      "100%|██████████| 27807/27807 [09:07<00:00, 50.82it/s]\n"
     ]
    },
    {
     "name": "stdout",
     "output_type": "stream",
     "text": [
      "성능 평가 중...\n",
      "alpha = 0.60\n",
      "하이브리드 유사도 계산 중...\n"
     ]
    },
    {
     "name": "stderr",
     "output_type": "stream",
     "text": [
      "하이브리드 유사도 계산: 100%|██████████| 6819/6819 [04:30<00:00, 25.17it/s] \n"
     ]
    },
    {
     "name": "stdout",
     "output_type": "stream",
     "text": [
      "상위 5개 아이템 추천 중...\n"
     ]
    },
    {
     "name": "stderr",
     "output_type": "stream",
     "text": [
      "100%|██████████| 27807/27807 [09:09<00:00, 50.65it/s]\n"
     ]
    },
    {
     "name": "stdout",
     "output_type": "stream",
     "text": [
      "성능 평가 중...\n",
      "alpha = 0.65\n",
      "하이브리드 유사도 계산 중...\n"
     ]
    },
    {
     "name": "stderr",
     "output_type": "stream",
     "text": [
      "하이브리드 유사도 계산: 100%|██████████| 6819/6819 [04:30<00:00, 25.16it/s] \n"
     ]
    },
    {
     "name": "stdout",
     "output_type": "stream",
     "text": [
      "상위 5개 아이템 추천 중...\n"
     ]
    },
    {
     "name": "stderr",
     "output_type": "stream",
     "text": [
      "100%|██████████| 27807/27807 [09:06<00:00, 50.87it/s]\n"
     ]
    },
    {
     "name": "stdout",
     "output_type": "stream",
     "text": [
      "성능 평가 중...\n",
      "alpha = 0.70\n",
      "하이브리드 유사도 계산 중...\n"
     ]
    },
    {
     "name": "stderr",
     "output_type": "stream",
     "text": [
      "하이브리드 유사도 계산: 100%|██████████| 6819/6819 [04:33<00:00, 24.93it/s] \n"
     ]
    },
    {
     "name": "stdout",
     "output_type": "stream",
     "text": [
      "상위 5개 아이템 추천 중...\n"
     ]
    },
    {
     "name": "stderr",
     "output_type": "stream",
     "text": [
      "100%|██████████| 27807/27807 [09:06<00:00, 50.86it/s]\n"
     ]
    },
    {
     "name": "stdout",
     "output_type": "stream",
     "text": [
      "성능 평가 중...\n",
      "alpha = 0.75\n",
      "하이브리드 유사도 계산 중...\n"
     ]
    },
    {
     "name": "stderr",
     "output_type": "stream",
     "text": [
      "하이브리드 유사도 계산: 100%|██████████| 6819/6819 [04:31<00:00, 25.11it/s] \n"
     ]
    },
    {
     "name": "stdout",
     "output_type": "stream",
     "text": [
      "상위 5개 아이템 추천 중...\n"
     ]
    },
    {
     "name": "stderr",
     "output_type": "stream",
     "text": [
      "100%|██████████| 27807/27807 [09:05<00:00, 50.99it/s]\n"
     ]
    },
    {
     "name": "stdout",
     "output_type": "stream",
     "text": [
      "성능 평가 중...\n",
      "alpha = 0.80\n",
      "하이브리드 유사도 계산 중...\n"
     ]
    },
    {
     "name": "stderr",
     "output_type": "stream",
     "text": [
      "하이브리드 유사도 계산: 100%|██████████| 6819/6819 [04:32<00:00, 25.00it/s] \n"
     ]
    },
    {
     "name": "stdout",
     "output_type": "stream",
     "text": [
      "상위 5개 아이템 추천 중...\n"
     ]
    },
    {
     "name": "stderr",
     "output_type": "stream",
     "text": [
      "100%|██████████| 27807/27807 [09:07<00:00, 50.80it/s]\n"
     ]
    },
    {
     "name": "stdout",
     "output_type": "stream",
     "text": [
      "성능 평가 중...\n",
      "alpha = 0.85\n",
      "하이브리드 유사도 계산 중...\n"
     ]
    },
    {
     "name": "stderr",
     "output_type": "stream",
     "text": [
      "하이브리드 유사도 계산: 100%|██████████| 6819/6819 [04:31<00:00, 25.15it/s] \n"
     ]
    },
    {
     "name": "stdout",
     "output_type": "stream",
     "text": [
      "상위 5개 아이템 추천 중...\n"
     ]
    },
    {
     "name": "stderr",
     "output_type": "stream",
     "text": [
      "100%|██████████| 27807/27807 [09:04<00:00, 51.04it/s]\n"
     ]
    },
    {
     "name": "stdout",
     "output_type": "stream",
     "text": [
      "성능 평가 중...\n",
      "alpha = 0.90\n",
      "하이브리드 유사도 계산 중...\n"
     ]
    },
    {
     "name": "stderr",
     "output_type": "stream",
     "text": [
      "하이브리드 유사도 계산: 100%|██████████| 6819/6819 [04:33<00:00, 24.97it/s] \n"
     ]
    },
    {
     "name": "stdout",
     "output_type": "stream",
     "text": [
      "상위 5개 아이템 추천 중...\n"
     ]
    },
    {
     "name": "stderr",
     "output_type": "stream",
     "text": [
      "100%|██████████| 27807/27807 [09:08<00:00, 50.72it/s]\n"
     ]
    },
    {
     "name": "stdout",
     "output_type": "stream",
     "text": [
      "성능 평가 중...\n",
      "alpha = 0.95\n",
      "하이브리드 유사도 계산 중...\n"
     ]
    },
    {
     "name": "stderr",
     "output_type": "stream",
     "text": [
      "하이브리드 유사도 계산: 100%|██████████| 6819/6819 [04:33<00:00, 24.97it/s] \n"
     ]
    },
    {
     "name": "stdout",
     "output_type": "stream",
     "text": [
      "상위 5개 아이템 추천 중...\n"
     ]
    },
    {
     "name": "stderr",
     "output_type": "stream",
     "text": [
      "100%|██████████| 27807/27807 [09:05<00:00, 50.96it/s]\n"
     ]
    },
    {
     "name": "stdout",
     "output_type": "stream",
     "text": [
      "성능 평가 중...\n",
      "alpha = 1.00\n",
      "하이브리드 유사도 계산 중...\n"
     ]
    },
    {
     "name": "stderr",
     "output_type": "stream",
     "text": [
      "하이브리드 유사도 계산: 100%|██████████| 6819/6819 [04:24<00:00, 25.74it/s] \n"
     ]
    },
    {
     "name": "stdout",
     "output_type": "stream",
     "text": [
      "상위 5개 아이템 추천 중...\n"
     ]
    },
    {
     "name": "stderr",
     "output_type": "stream",
     "text": [
      "100%|██████████| 27807/27807 [04:20<00:00, 106.82it/s]\n"
     ]
    },
    {
     "name": "stdout",
     "output_type": "stream",
     "text": [
      "성능 평가 중...\n",
      "\n",
      "최고 성능 (Precision@5 기준):\n",
      "alpha          0.950000\n",
      "Precision@5    0.056425\n",
      "Recall@5       0.056425\n",
      "NDCG@5         0.038033\n",
      "HR@5           0.000000\n",
      "Name: 19, dtype: float64\n",
      "\n",
      "최고 성능 (Recall@5 기준):\n",
      "alpha          0.950000\n",
      "Precision@5    0.056425\n",
      "Recall@5       0.056425\n",
      "NDCG@5         0.038033\n",
      "HR@5           0.000000\n",
      "Name: 19, dtype: float64\n",
      "\n",
      "최고 성능 (NDCG@5 기준):\n",
      "alpha          0.950000\n",
      "Precision@5    0.056425\n",
      "Recall@5       0.056425\n",
      "NDCG@5         0.038033\n",
      "HR@5           0.000000\n",
      "Name: 19, dtype: float64\n",
      "\n",
      "최고 성능 (HR@5 기준):\n",
      "alpha          0.000000\n",
      "Precision@5    0.004567\n",
      "Recall@5       0.004567\n",
      "NDCG@5         0.002750\n",
      "HR@5           0.000000\n",
      "Name: 0, dtype: float64\n"
     ]
    }
   ],
   "source": [
    "import json\n",
    "import math\n",
    "from collections import defaultdict\n",
    "\n",
    "import numpy as np\n",
    "import pandas as pd\n",
    "from tqdm import tqdm\n",
    "\n",
    "# ----- Load data with sentiment vector -----\n",
    "def load_rating_with_sentiment(path):\n",
    "    rows = []\n",
    "    with open(path, encoding=\"utf-8\") as f:\n",
    "        for line in f:\n",
    "            d = json.loads(line)\n",
    "            rows.append({\n",
    "                \"user\": d[\"user_id\"],\n",
    "                \"biz\": d[\"business_id\"],\n",
    "                \"stars\": d[\"stars\"],\n",
    "                \"sentiment_vector\": np.array(d[\"sentiment_vector\"])\n",
    "            })\n",
    "    return pd.DataFrame(rows)\n",
    "\n",
    "# ----- Leave-One-Out split -----\n",
    "def leave_one_out(ratings):\n",
    "    np.random.seed(42)\n",
    "    train_idx = []\n",
    "    test = {}\n",
    "    for u, grp in ratings.groupby(\"user\"):\n",
    "        idx = grp.index.values\n",
    "        if len(idx) > 1:\n",
    "            hold = np.random.choice(idx)\n",
    "            test[u] = ratings.loc[hold, \"biz\"]\n",
    "            train_idx.extend([i for i in idx if i != hold])\n",
    "        else:\n",
    "            train_idx.extend(idx)\n",
    "    return ratings.loc[train_idx].reset_index(drop=True), test\n",
    "\n",
    "# ----- Build mappings -----\n",
    "def build_maps(train_df):\n",
    "    item_users = defaultdict(dict)\n",
    "    user_items = defaultdict(dict)\n",
    "    item_sentiments = defaultdict(list)\n",
    "    for _, r in train_df.iterrows():\n",
    "        item_users[r[\"biz\"]][r[\"user\"]] = r[\"stars\"]\n",
    "        user_items[r[\"user\"]][r[\"biz\"]] = r[\"stars\"]\n",
    "        item_sentiments[r[\"biz\"]].append(r[\"sentiment_vector\"])\n",
    "    # 평균 벡터 계산\n",
    "    item_sentiment_avg = {biz: np.mean(vectors, axis=0) for biz, vectors in item_sentiments.items()}\n",
    "    return item_users, user_items, item_sentiment_avg\n",
    "\n",
    "# ----- Cosine similarity -----\n",
    "def cosine_similarity_dict(a, b):\n",
    "    common = set(a) & set(b)\n",
    "    if not common:\n",
    "        return 0.0\n",
    "    num = sum(a[u] * b[u] for u in common)\n",
    "    den = (\n",
    "        math.sqrt(sum(v * v for v in a.values())) *\n",
    "        math.sqrt(sum(v * v for v in b.values())) + 1e-9\n",
    "    )\n",
    "    return num / den\n",
    "\n",
    "def cosine_similarity_vec(a, b):\n",
    "    if np.linalg.norm(a) == 0 or np.linalg.norm(b) == 0:\n",
    "        return 0.0\n",
    "    return float(np.dot(a, b) / (np.linalg.norm(a) * np.linalg.norm(b)))\n",
    "\n",
    "# ----- Precompute hybrid item similarities -----\n",
    "def precompute_hybrid_sims(item_users, item_sentiment_avg, alpha=0.9):\n",
    "    items = list(item_users)\n",
    "    sims = defaultdict(dict)\n",
    "\n",
    "    for i, a in tqdm(enumerate(items), total=len(items), desc=\"하이브리드 유사도 계산\"):\n",
    "        for b in items[i + 1:]:\n",
    "            rating_sim = cosine_similarity_dict(item_users[a], item_users[b])\n",
    "            sent_sim = cosine_similarity_vec(\n",
    "                item_sentiment_avg.get(a, np.zeros(15)),\n",
    "                item_sentiment_avg.get(b, np.zeros(15))\n",
    "            )\n",
    "            hybrid_sim = alpha * rating_sim + (1 - alpha) * sent_sim\n",
    "            if hybrid_sim > 0:\n",
    "                sims[a][b] = hybrid_sim\n",
    "                sims[b][a] = hybrid_sim\n",
    "    return sims\n",
    "\n",
    "# ----- Recommendation -----\n",
    "def recommend(user, user_items, item_sims, n=5):\n",
    "    seen = set(user_items[user].keys())\n",
    "    scores = defaultdict(float)\n",
    "    for item, rating in user_items[user].items():\n",
    "        for similar_item, sim in item_sims.get(item, {}).items():\n",
    "            if similar_item not in seen:\n",
    "                scores[similar_item] += sim * rating\n",
    "    return [item for item, _ in sorted(scores.items(), key=lambda x: -x[1])[:n]]\n",
    "\n",
    "# ----- Evaluation -----\n",
    "def precision_at_k(test, recs, k=5):\n",
    "    return sum(1 for u, gt in test.items() if gt in recs.get(u, [])[:k]) / len(test)\n",
    "\n",
    "def recall_at_k(test, recs, k=5):\n",
    "    return precision_at_k(test, recs, k)\n",
    "\n",
    "def ndcg_at_k(test, recs, k=5):\n",
    "    total = 0.0\n",
    "    for u, gt in test.items():\n",
    "        rec_list = recs.get(u, [])[:k]\n",
    "        if gt in rec_list:\n",
    "            idx = rec_list.index(gt)\n",
    "            total += 1 / math.log2(idx + 2)\n",
    "    return total / len(test)\n",
    "\n",
    "def hr_at_k(test, recs, k=5):\n",
    "    \"\"\"Hit Rate@K 계산\"\"\"\n",
    "    hits = 0\n",
    "    for u, test_items in test.items():\n",
    "        rec_list = recs.get(u, [])[:k]\n",
    "        if any(item in rec_list for item in test_items):\n",
    "            hits += 1\n",
    "    return hits / len(test)\n",
    "\n",
    "# ================================\n",
    "# 실행 코드 (Jupyter 셀에서 사용)\n",
    "# ================================\n",
    "rating_path = \"review_business_5up_5aspect_3sentiment_vectorized_clean.json\"\n",
    "topn = 5\n",
    "min_ratings = 5\n",
    "\n",
    "print(f\"데이터 로드 중: {rating_path}\")\n",
    "ratings = load_rating_with_sentiment(rating_path)\n",
    "\n",
    "user_counts = ratings.groupby(\"user\").size()\n",
    "valid_users = user_counts[user_counts >= min_ratings].index\n",
    "ratings = ratings[ratings[\"user\"].isin(valid_users)]\n",
    "\n",
    "print(f\"총 {len(ratings):,}개 평점, {ratings['user'].nunique():,}명 사용자, {ratings['biz'].nunique():,}개 아이템\")\n",
    "\n",
    "print(\"학습/테스트 데이터 분리 중...\")\n",
    "train, test = leave_one_out(ratings)\n",
    "print(f\"학습: {len(train):,}개, 테스트: {len(test):,}개\")\n",
    "\n",
    "print(\"맵 및 감성 벡터 평균 계산 중...\")\n",
    "item_users, user_items, item_sentiment_avg = build_maps(train)\n",
    "\n",
    "# 평가 지표를 기록할 리스트 초기화\n",
    "results = []\n",
    "# alpha 값에 대해 테스트 (0.00 ~ 1.00, 0.05 간격)\n",
    "for alpha in np.arange(0.00, 1.01, 0.05):\n",
    "    print(f\"alpha = {alpha:.2f}\")\n",
    "    print(\"하이브리드 유사도 계산 중...\")\n",
    "    item_sims = precompute_hybrid_sims(item_users, item_sentiment_avg, alpha=alpha)\n",
    "\n",
    "    print(f\"상위 {topn}개 아이템 추천 중...\")\n",
    "    recommendations = {}\n",
    "    for user in tqdm(test.keys()):\n",
    "        if user in user_items and len(user_items[user]) > 0:\n",
    "            recommendations[user] = recommend(user, user_items, item_sims, topn)\n",
    "\n",
    "    print(\"성능 평가 중...\")\n",
    "    p5 = precision_at_k(test, recommendations, 5)\n",
    "    r5 = recall_at_k(test, recommendations, 5)\n",
    "    n5 = ndcg_at_k(test, recommendations, 5)\n",
    "    hr5 = hr_at_k(test, recommendations, 5)\n",
    "\n",
    "    results.append({\n",
    "        \"alpha\": alpha,\n",
    "        \"Precision@5\": p5,\n",
    "        \"Recall@5\": r5,\n",
    "        \"NDCG@5\": n5,\n",
    "        \"HR@5\": hr5\n",
    "    })\n",
    "\n",
    "# 성능 결과를 데이터프레임으로 변환\n",
    "results_df = pd.DataFrame(results)\n",
    "\n",
    "# 각 지표별로 최고의 alpha 값을 찾아 출력\n",
    "best_precision = results_df.loc[results_df['Precision@5'].idxmax()]\n",
    "best_recall = results_df.loc[results_df['Recall@5'].idxmax()]\n",
    "best_ndcg = results_df.loc[results_df['NDCG@5'].idxmax()]\n",
    "best_hr = results_df.loc[results_df['HR@5'].idxmax()]\n",
    "\n",
    "print(\"\\n최고 성능 (Precision@5 기준):\")\n",
    "print(best_precision)\n",
    "\n",
    "print(\"\\n최고 성능 (Recall@5 기준):\")\n",
    "print(best_recall)\n",
    "\n",
    "print(\"\\n최고 성능 (NDCG@5 기준):\")\n",
    "print(best_ndcg)\n",
    "\n",
    "print(\"\\n최고 성능 (HR@5 기준):\")\n",
    "print(best_hr)\n"
   ]
  },
  {
   "cell_type": "code",
   "execution_count": null,
   "id": "920875bf-edb2-4a52-beb3-b1149ab40535",
   "metadata": {},
   "outputs": [],
   "source": []
  }
 ],
 "metadata": {
  "kernelspec": {
   "display_name": "Python 3 (ipykernel)",
   "language": "python",
   "name": "python3"
  },
  "language_info": {
   "codemirror_mode": {
    "name": "ipython",
    "version": 3
   },
   "file_extension": ".py",
   "mimetype": "text/x-python",
   "name": "python",
   "nbconvert_exporter": "python",
   "pygments_lexer": "ipython3",
   "version": "3.12.3"
  }
 },
 "nbformat": 4,
 "nbformat_minor": 5
}
